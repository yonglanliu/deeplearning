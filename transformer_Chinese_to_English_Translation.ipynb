{
 "cells": [
  {
   "cell_type": "code",
   "execution_count": 1,
   "id": "49874296",
   "metadata": {
    "_cell_guid": "b1076dfc-b9ad-4769-8c92-a6c4dae69d19",
    "_uuid": "8f2839f25d086af736a60e9eeb907d3b93b6e0e5",
    "execution": {
     "iopub.execute_input": "2024-07-09T00:53:58.450033Z",
     "iopub.status.busy": "2024-07-09T00:53:58.449199Z",
     "iopub.status.idle": "2024-07-09T00:53:59.192161Z",
     "shell.execute_reply": "2024-07-09T00:53:59.191299Z"
    },
    "papermill": {
     "duration": 0.765858,
     "end_time": "2024-07-09T00:53:59.194454",
     "exception": false,
     "start_time": "2024-07-09T00:53:58.428596",
     "status": "completed"
    },
    "tags": []
   },
   "outputs": [
    {
     "name": "stdout",
     "output_type": "stream",
     "text": [
      "/kaggle/input/machine-translation-chinese-and-english/english.en\n",
      "/kaggle/input/machine-translation-chinese-and-english/chinese.zh\n"
     ]
    }
   ],
   "source": [
    "# This Python 3 environment comes with many helpful analytics libraries installed\n",
    "# It is defined by the kaggle/python Docker image: https://github.com/kaggle/docker-python\n",
    "# For example, here's several helpful packages to load\n",
    "\n",
    "import numpy as np # linear algebra\n",
    "import pandas as pd # data processing, CSV file I/O (e.g. pd.read_csv)\n",
    "\n",
    "# Input data files are available in the read-only \"../input/\" directory\n",
    "# For example, running this (by clicking run or pressing Shift+Enter) will list all files under the input directory\n",
    "\n",
    "import os\n",
    "for dirname, _, filenames in os.walk('/kaggle/input'):\n",
    "    for filename in filenames:\n",
    "        print(os.path.join(dirname, filename))\n",
    "\n",
    "# You can write up to 20GB to the current directory (/kaggle/working/) that gets preserved as output when you create a version using \"Save & Run All\" \n",
    "# You can also write temporary files to /kaggle/temp/, but they won't be saved outside of the current session"
   ]
  },
  {
   "cell_type": "markdown",
   "id": "9606f10d",
   "metadata": {
    "papermill": {
     "duration": 0.017983,
     "end_time": "2024-07-09T00:53:59.231108",
     "exception": false,
     "start_time": "2024-07-09T00:53:59.213125",
     "status": "completed"
    },
    "tags": []
   },
   "source": [
    "## Load Data"
   ]
  },
  {
   "cell_type": "code",
   "execution_count": 2,
   "id": "7283e1c6",
   "metadata": {
    "execution": {
     "iopub.execute_input": "2024-07-09T00:53:59.269629Z",
     "iopub.status.busy": "2024-07-09T00:53:59.269216Z",
     "iopub.status.idle": "2024-07-09T00:53:59.274029Z",
     "shell.execute_reply": "2024-07-09T00:53:59.273229Z"
    },
    "papermill": {
     "duration": 0.025713,
     "end_time": "2024-07-09T00:53:59.275840",
     "exception": false,
     "start_time": "2024-07-09T00:53:59.250127",
     "status": "completed"
    },
    "tags": []
   },
   "outputs": [],
   "source": [
    "def load_data(path):\n",
    "    with open(path, 'r', encoding='utf-8') as f:\n",
    "        # replace '\\n' with ' '\n",
    "        data = pd.Series(f.readlines())\n",
    "        data = data.str.replace('\\n', ' ')\n",
    "    return data"
   ]
  },
  {
   "cell_type": "code",
   "execution_count": 3,
   "id": "393e07e2",
   "metadata": {
    "execution": {
     "iopub.execute_input": "2024-07-09T00:53:59.313235Z",
     "iopub.status.busy": "2024-07-09T00:53:59.312969Z",
     "iopub.status.idle": "2024-07-09T00:54:00.717525Z",
     "shell.execute_reply": "2024-07-09T00:54:00.716607Z"
    },
    "papermill": {
     "duration": 1.425655,
     "end_time": "2024-07-09T00:54:00.719654",
     "exception": false,
     "start_time": "2024-07-09T00:53:59.293999",
     "status": "completed"
    },
    "tags": []
   },
   "outputs": [
    {
     "data": {
      "text/html": [
       "<div>\n",
       "<style scoped>\n",
       "    .dataframe tbody tr th:only-of-type {\n",
       "        vertical-align: middle;\n",
       "    }\n",
       "\n",
       "    .dataframe tbody tr th {\n",
       "        vertical-align: top;\n",
       "    }\n",
       "\n",
       "    .dataframe thead th {\n",
       "        text-align: right;\n",
       "    }\n",
       "</style>\n",
       "<table border=\"1\" class=\"dataframe\">\n",
       "  <thead>\n",
       "    <tr style=\"text-align: right;\">\n",
       "      <th></th>\n",
       "      <th>zh</th>\n",
       "      <th>en</th>\n",
       "    </tr>\n",
       "  </thead>\n",
       "  <tbody>\n",
       "    <tr>\n",
       "      <th>0</th>\n",
       "      <td>1929年还是1989年?</td>\n",
       "      <td>1929 or 1989?</td>\n",
       "    </tr>\n",
       "    <tr>\n",
       "      <th>1</th>\n",
       "      <td>巴黎-随着经济危机不断加深和蔓延，整个世界一直在寻找历史上的类似事件希望有助于我们了解目前正...</td>\n",
       "      <td>PARIS – As the economic crisis deepens and wid...</td>\n",
       "    </tr>\n",
       "    <tr>\n",
       "      <th>2</th>\n",
       "      <td>一开始，很多人把这次危机比作1982年或1973年所发生的情况，这样得类比是令人宽心的，因为...</td>\n",
       "      <td>At the start of the crisis, many people likene...</td>\n",
       "    </tr>\n",
       "    <tr>\n",
       "      <th>3</th>\n",
       "      <td>如今人们的心情却是沉重多了，许多人开始把这次危机与1929年和1931年相比，即使一些国家政...</td>\n",
       "      <td>Today, the mood is much grimmer, with referenc...</td>\n",
       "    </tr>\n",
       "    <tr>\n",
       "      <th>4</th>\n",
       "      <td>目前的趋势是，要么是过度的克制（欧洲），要么是努力的扩展（美国）。</td>\n",
       "      <td>The tendency is either excessive restraint (Eu...</td>\n",
       "    </tr>\n",
       "  </tbody>\n",
       "</table>\n",
       "</div>"
      ],
      "text/plain": [
       "                                                  zh  \\\n",
       "0                                     1929年还是1989年?    \n",
       "1  巴黎-随着经济危机不断加深和蔓延，整个世界一直在寻找历史上的类似事件希望有助于我们了解目前正...   \n",
       "2  一开始，很多人把这次危机比作1982年或1973年所发生的情况，这样得类比是令人宽心的，因为...   \n",
       "3  如今人们的心情却是沉重多了，许多人开始把这次危机与1929年和1931年相比，即使一些国家政...   \n",
       "4                 目前的趋势是，要么是过度的克制（欧洲），要么是努力的扩展（美国）。    \n",
       "\n",
       "                                                  en  \n",
       "0                                     1929 or 1989?   \n",
       "1  PARIS – As the economic crisis deepens and wid...  \n",
       "2  At the start of the crisis, many people likene...  \n",
       "3  Today, the mood is much grimmer, with referenc...  \n",
       "4  The tendency is either excessive restraint (Eu...  "
      ]
     },
     "execution_count": 3,
     "metadata": {},
     "output_type": "execute_result"
    }
   ],
   "source": [
    "data_ZH = load_data('../input/machine-translation-chinese-and-english/chinese.zh')\n",
    "data_EN = load_data('../input/machine-translation-chinese-and-english/english.en')\n",
    "raw_data = pd.DataFrame({'zh': data_ZH, 'en': data_EN})\n",
    "raw_data.head()"
   ]
  },
  {
   "cell_type": "markdown",
   "id": "5c94273c",
   "metadata": {
    "papermill": {
     "duration": 0.018322,
     "end_time": "2024-07-09T00:54:00.757738",
     "exception": false,
     "start_time": "2024-07-09T00:54:00.739416",
     "status": "completed"
    },
    "tags": []
   },
   "source": [
    "## Process data"
   ]
  },
  {
   "cell_type": "code",
   "execution_count": 4,
   "id": "bf82630f",
   "metadata": {
    "execution": {
     "iopub.execute_input": "2024-07-09T00:54:00.797110Z",
     "iopub.status.busy": "2024-07-09T00:54:00.796781Z",
     "iopub.status.idle": "2024-07-09T00:54:02.017601Z",
     "shell.execute_reply": "2024-07-09T00:54:02.016741Z"
    },
    "papermill": {
     "duration": 1.24356,
     "end_time": "2024-07-09T00:54:02.019722",
     "exception": false,
     "start_time": "2024-07-09T00:54:00.776162",
     "status": "completed"
    },
    "tags": []
   },
   "outputs": [
    {
     "data": {
      "text/html": [
       "<div>\n",
       "<style scoped>\n",
       "    .dataframe tbody tr th:only-of-type {\n",
       "        vertical-align: middle;\n",
       "    }\n",
       "\n",
       "    .dataframe tbody tr th {\n",
       "        vertical-align: top;\n",
       "    }\n",
       "\n",
       "    .dataframe thead th {\n",
       "        text-align: right;\n",
       "    }\n",
       "</style>\n",
       "<table border=\"1\" class=\"dataframe\">\n",
       "  <thead>\n",
       "    <tr style=\"text-align: right;\">\n",
       "      <th></th>\n",
       "      <th>zh</th>\n",
       "      <th>en</th>\n",
       "    </tr>\n",
       "  </thead>\n",
       "  <tbody>\n",
       "    <tr>\n",
       "      <th>0</th>\n",
       "      <td>巴黎-随着经济危机不断加深和蔓延，整个世界一直在寻找历史上的类似事件希望有助于我们了解目前正...</td>\n",
       "      <td>PARIS – As the economic crisis deepens and wid...</td>\n",
       "    </tr>\n",
       "    <tr>\n",
       "      <th>1</th>\n",
       "      <td>目前的趋势是，要么是过度的克制（欧洲），要么是努力的扩展（美国）。</td>\n",
       "      <td>The tendency is either excessive restraint (Eu...</td>\n",
       "    </tr>\n",
       "    <tr>\n",
       "      <th>2</th>\n",
       "      <td>欧洲在避免债务和捍卫欧元的名义下正变得谨慎，而美国已经在许多方面行动起来，以利用这一理想的时...</td>\n",
       "      <td>Europe is being cautious in the name of avoidi...</td>\n",
       "    </tr>\n",
       "    <tr>\n",
       "      <th>3</th>\n",
       "      <td>当然，雷曼兄弟公司的倒闭和柏林墙的倒塌没有任何关系。</td>\n",
       "      <td>Of course, the fall of the house of Lehman Bro...</td>\n",
       "    </tr>\n",
       "    <tr>\n",
       "      <th>4</th>\n",
       "      <td>事实上，从表面上看，两者似乎是完全是相反的：一个是象征着压抑和人为分裂的柏林墙的倒塌，而另一...</td>\n",
       "      <td>Indeed, on the surface it seems to be its perf...</td>\n",
       "    </tr>\n",
       "    <tr>\n",
       "      <th>...</th>\n",
       "      <td>...</td>\n",
       "      <td>...</td>\n",
       "    </tr>\n",
       "    <tr>\n",
       "      <th>199199</th>\n",
       "      <td>事实上，他们应该推动所有边缘群体获得平等权利。</td>\n",
       "      <td>Indeed, they should advance equality for all m...</td>\n",
       "    </tr>\n",
       "    <tr>\n",
       "      <th>199200</th>\n",
       "      <td>寨卡的中长期后果比依靠这样的思路来解决。</td>\n",
       "      <td>Zika’s medium- and long-term consequences must...</td>\n",
       "    </tr>\n",
       "    <tr>\n",
       "      <th>199201</th>\n",
       "      <td>当妇女生下因为寨卡病毒而存在先天性疾病的儿童时，其应对手段应该基于尊严、价值观和个体权利。</td>\n",
       "      <td>When a woman gives birth to a child with a con...</td>\n",
       "    </tr>\n",
       "    <tr>\n",
       "      <th>199202</th>\n",
       "      <td>应该认识到，现在的程序让一些个体和群体陷入了贫困，剥夺了他们的基本公民权利。</td>\n",
       "      <td>It should acknowledge the processes that keep ...</td>\n",
       "    </tr>\n",
       "    <tr>\n",
       "      <th>199203</th>\n",
       "      <td>因此，我的支持者必须坚持，国家要负责为每位妇女和儿童提供合适的医疗和支持服务——这些服务既要...</td>\n",
       "      <td>That is why campaigners must insist that the s...</td>\n",
       "    </tr>\n",
       "  </tbody>\n",
       "</table>\n",
       "<p>199204 rows × 2 columns</p>\n",
       "</div>"
      ],
      "text/plain": [
       "                                                       zh  \\\n",
       "0       巴黎-随着经济危机不断加深和蔓延，整个世界一直在寻找历史上的类似事件希望有助于我们了解目前正...   \n",
       "1                      目前的趋势是，要么是过度的克制（欧洲），要么是努力的扩展（美国）。    \n",
       "2       欧洲在避免债务和捍卫欧元的名义下正变得谨慎，而美国已经在许多方面行动起来，以利用这一理想的时...   \n",
       "3                             当然，雷曼兄弟公司的倒闭和柏林墙的倒塌没有任何关系。    \n",
       "4       事实上，从表面上看，两者似乎是完全是相反的：一个是象征着压抑和人为分裂的柏林墙的倒塌，而另一...   \n",
       "...                                                   ...   \n",
       "199199                           事实上，他们应该推动所有边缘群体获得平等权利。    \n",
       "199200                              寨卡的中长期后果比依靠这样的思路来解决。    \n",
       "199201     当妇女生下因为寨卡病毒而存在先天性疾病的儿童时，其应对手段应该基于尊严、价值观和个体权利。    \n",
       "199202            应该认识到，现在的程序让一些个体和群体陷入了贫困，剥夺了他们的基本公民权利。    \n",
       "199203  因此，我的支持者必须坚持，国家要负责为每位妇女和儿童提供合适的医疗和支持服务——这些服务既要...   \n",
       "\n",
       "                                                       en  \n",
       "0       PARIS – As the economic crisis deepens and wid...  \n",
       "1       The tendency is either excessive restraint (Eu...  \n",
       "2       Europe is being cautious in the name of avoidi...  \n",
       "3       Of course, the fall of the house of Lehman Bro...  \n",
       "4       Indeed, on the surface it seems to be its perf...  \n",
       "...                                                   ...  \n",
       "199199  Indeed, they should advance equality for all m...  \n",
       "199200  Zika’s medium- and long-term consequences must...  \n",
       "199201  When a woman gives birth to a child with a con...  \n",
       "199202  It should acknowledge the processes that keep ...  \n",
       "199203  That is why campaigners must insist that the s...  \n",
       "\n",
       "[199204 rows x 2 columns]"
      ]
     },
     "metadata": {},
     "output_type": "display_data"
    }
   ],
   "source": [
    "import re\n",
    "def is_valid_sentence(text):\n",
    "    pattern = r\"^(?=.*[a-zA-Z])|(?=.*\\d).+$\"\n",
    "    return bool(re.match(pattern, text))\n",
    "\n",
    "#create a new boolean row to indicate which datarow has english char/number\n",
    "raw_data[\"in_valid\"] = raw_data[\"zh\"].apply(is_valid_sentence)\n",
    "\n",
    "#filter out rows where the condition is True\n",
    "data = raw_data[~raw_data[\"in_valid\"]]\n",
    "\n",
    "#drop the boolean columns\n",
    "data = data.drop(columns=[\"in_valid\"]).reset_index().drop(columns=[\"index\"])\n",
    "display(data)"
   ]
  },
  {
   "cell_type": "code",
   "execution_count": 5,
   "id": "9964110f",
   "metadata": {
    "execution": {
     "iopub.execute_input": "2024-07-09T00:54:02.059322Z",
     "iopub.status.busy": "2024-07-09T00:54:02.059017Z",
     "iopub.status.idle": "2024-07-09T00:54:02.303671Z",
     "shell.execute_reply": "2024-07-09T00:54:02.302662Z"
    },
    "papermill": {
     "duration": 0.266545,
     "end_time": "2024-07-09T00:54:02.305684",
     "exception": false,
     "start_time": "2024-07-09T00:54:02.039139",
     "status": "completed"
    },
    "tags": []
   },
   "outputs": [
    {
     "data": {
      "text/html": [
       "<div>\n",
       "<style scoped>\n",
       "    .dataframe tbody tr th:only-of-type {\n",
       "        vertical-align: middle;\n",
       "    }\n",
       "\n",
       "    .dataframe tbody tr th {\n",
       "        vertical-align: top;\n",
       "    }\n",
       "\n",
       "    .dataframe thead th {\n",
       "        text-align: right;\n",
       "    }\n",
       "</style>\n",
       "<table border=\"1\" class=\"dataframe\">\n",
       "  <thead>\n",
       "    <tr style=\"text-align: right;\">\n",
       "      <th></th>\n",
       "      <th>zh</th>\n",
       "      <th>en</th>\n",
       "    </tr>\n",
       "  </thead>\n",
       "  <tbody>\n",
       "    <tr>\n",
       "      <th>0</th>\n",
       "      <td>巴黎-随着经济危机不断加深和蔓延，整个世界一直在寻找历史上的类似事件希望有助于我们了解目前正...</td>\n",
       "      <td>paris – as the economic crisis deepens and wid...</td>\n",
       "    </tr>\n",
       "    <tr>\n",
       "      <th>1</th>\n",
       "      <td>目前的趋势是，要么是过度的克制（欧洲），要么是努力的扩展（美国）。</td>\n",
       "      <td>the tendency is either excessive restraint (eu...</td>\n",
       "    </tr>\n",
       "    <tr>\n",
       "      <th>2</th>\n",
       "      <td>欧洲在避免债务和捍卫欧元的名义下正变得谨慎，而美国已经在许多方面行动起来，以利用这一理想的时...</td>\n",
       "      <td>europe is being cautious in the name of avoidi...</td>\n",
       "    </tr>\n",
       "    <tr>\n",
       "      <th>3</th>\n",
       "      <td>当然，雷曼兄弟公司的倒闭和柏林墙的倒塌没有任何关系。</td>\n",
       "      <td>of course, the fall of the house of lehman bro...</td>\n",
       "    </tr>\n",
       "    <tr>\n",
       "      <th>4</th>\n",
       "      <td>事实上，从表面上看，两者似乎是完全是相反的：一个是象征着压抑和人为分裂的柏林墙的倒塌，而另一...</td>\n",
       "      <td>indeed, on the surface it seems to be its perf...</td>\n",
       "    </tr>\n",
       "  </tbody>\n",
       "</table>\n",
       "</div>"
      ],
      "text/plain": [
       "                                                  zh  \\\n",
       "0  巴黎-随着经济危机不断加深和蔓延，整个世界一直在寻找历史上的类似事件希望有助于我们了解目前正...   \n",
       "1                 目前的趋势是，要么是过度的克制（欧洲），要么是努力的扩展（美国）。    \n",
       "2  欧洲在避免债务和捍卫欧元的名义下正变得谨慎，而美国已经在许多方面行动起来，以利用这一理想的时...   \n",
       "3                        当然，雷曼兄弟公司的倒闭和柏林墙的倒塌没有任何关系。    \n",
       "4  事实上，从表面上看，两者似乎是完全是相反的：一个是象征着压抑和人为分裂的柏林墙的倒塌，而另一...   \n",
       "\n",
       "                                                  en  \n",
       "0  paris – as the economic crisis deepens and wid...  \n",
       "1  the tendency is either excessive restraint (eu...  \n",
       "2  europe is being cautious in the name of avoidi...  \n",
       "3  of course, the fall of the house of lehman bro...  \n",
       "4  indeed, on the surface it seems to be its perf...  "
      ]
     },
     "execution_count": 5,
     "metadata": {},
     "output_type": "execute_result"
    }
   ],
   "source": [
    "data[\"en\"] = data[\"en\"].apply(lambda x: str(x).lower())\n",
    "data.head()"
   ]
  },
  {
   "cell_type": "code",
   "execution_count": 6,
   "id": "b63a98f2",
   "metadata": {
    "execution": {
     "iopub.execute_input": "2024-07-09T00:54:02.345887Z",
     "iopub.status.busy": "2024-07-09T00:54:02.345614Z",
     "iopub.status.idle": "2024-07-09T00:54:11.207477Z",
     "shell.execute_reply": "2024-07-09T00:54:11.206425Z"
    },
    "papermill": {
     "duration": 8.883913,
     "end_time": "2024-07-09T00:54:11.209494",
     "exception": false,
     "start_time": "2024-07-09T00:54:02.325581",
     "status": "completed"
    },
    "tags": []
   },
   "outputs": [
    {
     "name": "stdout",
     "output_type": "stream",
     "text": [
      "2.1.2\n"
     ]
    }
   ],
   "source": [
    "import seaborn as sns\n",
    "from pylab import rcParams\n",
    "import matplotlib.pyplot as plt\n",
    "from matplotlib import rc\n",
    "\n",
    "import torch\n",
    "import torch.nn as nn\n",
    "import torch.optim as optim\n",
    "import torch.nn.functional as F\n",
    "\n",
    "import spacy\n",
    "import torchtext\n",
    "from torchtext.data.utils import get_tokenizer\n",
    "from torchtext.data.metrics import bleu_score\n",
    "\n",
    "import warnings\n",
    "import random\n",
    "from tqdm.notebook import tqdm\n",
    "warnings.filterwarnings('ignore')\n",
    "from typing import Iterable, List\n",
    "from torch import Tensor\n",
    "from torchtext.vocab import Vocab\n",
    "from torchtext._torchtext import Vocab as VocabPybind\n",
    "print(torch.__version__)\n",
    "import math"
   ]
  },
  {
   "cell_type": "code",
   "execution_count": 7,
   "id": "f0408a2e",
   "metadata": {
    "execution": {
     "iopub.execute_input": "2024-07-09T00:54:11.248961Z",
     "iopub.status.busy": "2024-07-09T00:54:11.248413Z",
     "iopub.status.idle": "2024-07-09T00:54:11.256336Z",
     "shell.execute_reply": "2024-07-09T00:54:11.255697Z"
    },
    "papermill": {
     "duration": 0.029462,
     "end_time": "2024-07-09T00:54:11.258150",
     "exception": false,
     "start_time": "2024-07-09T00:54:11.228688",
     "status": "completed"
    },
    "tags": []
   },
   "outputs": [],
   "source": [
    "# for reproducibility\n",
    "# refer https://pytorch.org/docs/stable/notes/randomness.html\n",
    "SEED = 42\n",
    "\n",
    "random.seed(SEED)\n",
    "np.random.seed(SEED)\n",
    "torch.manual_seed(SEED)\n",
    "torch.cuda.manual_seed(SEED)\n",
    "torch.backends.cudnn.deterministic = True"
   ]
  },
  {
   "cell_type": "markdown",
   "id": "ec346a91",
   "metadata": {
    "papermill": {
     "duration": 0.019517,
     "end_time": "2024-07-09T00:54:11.296807",
     "exception": false,
     "start_time": "2024-07-09T00:54:11.277290",
     "status": "completed"
    },
    "tags": []
   },
   "source": [
    "## Load tokenizer"
   ]
  },
  {
   "cell_type": "code",
   "execution_count": 8,
   "id": "5f2aa94f",
   "metadata": {
    "execution": {
     "iopub.execute_input": "2024-07-09T00:54:11.335864Z",
     "iopub.status.busy": "2024-07-09T00:54:11.335567Z",
     "iopub.status.idle": "2024-07-09T00:54:48.063850Z",
     "shell.execute_reply": "2024-07-09T00:54:48.062609Z"
    },
    "papermill": {
     "duration": 36.750611,
     "end_time": "2024-07-09T00:54:48.066348",
     "exception": false,
     "start_time": "2024-07-09T00:54:11.315737",
     "status": "completed"
    },
    "tags": []
   },
   "outputs": [],
   "source": [
    "%%capture\n",
    "!python -m spacy download zh_core_web_sm\n",
    "!python -m spacy download en_core_web_sm"
   ]
  },
  {
   "cell_type": "code",
   "execution_count": 9,
   "id": "b90119c8",
   "metadata": {
    "execution": {
     "iopub.execute_input": "2024-07-09T00:54:48.106498Z",
     "iopub.status.busy": "2024-07-09T00:54:48.106138Z",
     "iopub.status.idle": "2024-07-09T00:54:50.914027Z",
     "shell.execute_reply": "2024-07-09T00:54:50.913235Z"
    },
    "papermill": {
     "duration": 2.83042,
     "end_time": "2024-07-09T00:54:50.916373",
     "exception": false,
     "start_time": "2024-07-09T00:54:48.085953",
     "status": "completed"
    },
    "tags": []
   },
   "outputs": [],
   "source": [
    "token_transform = {}\n",
    "SRC_LANGUAGE = 'zh'\n",
    "TGT_LANGUAGE = 'en'\n",
    "token_transform[SRC_LANGUAGE] = get_tokenizer('spacy', language='zh_core_web_sm')\n",
    "token_transform[TGT_LANGUAGE] = get_tokenizer('spacy', language='en_core_web_sm')"
   ]
  },
  {
   "cell_type": "markdown",
   "id": "8fc98faf",
   "metadata": {
    "papermill": {
     "duration": 0.018807,
     "end_time": "2024-07-09T00:54:50.954600",
     "exception": false,
     "start_time": "2024-07-09T00:54:50.935793",
     "status": "completed"
    },
    "tags": []
   },
   "source": [
    "## Build vocabulary"
   ]
  },
  {
   "cell_type": "code",
   "execution_count": 10,
   "id": "7ab55929",
   "metadata": {
    "execution": {
     "iopub.execute_input": "2024-07-09T00:54:50.995100Z",
     "iopub.status.busy": "2024-07-09T00:54:50.994516Z",
     "iopub.status.idle": "2024-07-09T01:00:22.183912Z",
     "shell.execute_reply": "2024-07-09T01:00:22.182881Z"
    },
    "papermill": {
     "duration": 331.211847,
     "end_time": "2024-07-09T01:00:22.186459",
     "exception": false,
     "start_time": "2024-07-09T00:54:50.974612",
     "status": "completed"
    },
    "tags": []
   },
   "outputs": [],
   "source": [
    "from torchtext.vocab import build_vocab_from_iterator\n",
    "\n",
    "# Define special symbols and indices\n",
    "UNK_IDX, PAD_IDX, BOS_IDX, EOS_IDX = 0, 1, 2, 3\n",
    "# Make sure the tokens are in order of their indices to properly insert them in vocab\n",
    "special_symbols = ['<unk>', '<pad>', '<bos>', '<eos>']\n",
    "\n",
    "def yield_tokens(iterator, language):\n",
    "    assert language in [SRC_LANGUAGE, TGT_LANGUAGE]\n",
    "    for sentence in iterator:\n",
    "        token = token_transform[language](str(sentence))\n",
    "        yield token\n",
    "\n",
    "vocab_transform = {}\n",
    "for ln in [SRC_LANGUAGE, TGT_LANGUAGE]:\n",
    "    token = yield_tokens(data[ln], ln)\n",
    "    vocab_transform[ln] = build_vocab_from_iterator(token, specials=special_symbols, min_freq=1, special_first=True)\n",
    "    \n",
    "for ln in [SRC_LANGUAGE, TGT_LANGUAGE]:\n",
    "      vocab_transform[ln].set_default_index(UNK_IDX)"
   ]
  },
  {
   "cell_type": "code",
   "execution_count": 11,
   "id": "c4e2d5ca",
   "metadata": {
    "execution": {
     "iopub.execute_input": "2024-07-09T01:00:22.226588Z",
     "iopub.status.busy": "2024-07-09T01:00:22.226211Z",
     "iopub.status.idle": "2024-07-09T01:00:22.231683Z",
     "shell.execute_reply": "2024-07-09T01:00:22.230783Z"
    },
    "papermill": {
     "duration": 0.027812,
     "end_time": "2024-07-09T01:00:22.233911",
     "exception": false,
     "start_time": "2024-07-09T01:00:22.206099",
     "status": "completed"
    },
    "tags": []
   },
   "outputs": [
    {
     "name": "stdout",
     "output_type": "stream",
     "text": [
      "Vocab size of source language is 72265\n",
      "Vocab size of target language is 44541\n"
     ]
    }
   ],
   "source": [
    "SRC_VOCAB_SIZE = len(vocab_transform[SRC_LANGUAGE])\n",
    "TGT_VOCAB_SIZE = len(vocab_transform[TGT_LANGUAGE])\n",
    "print(f'Vocab size of source language is {SRC_VOCAB_SIZE}')\n",
    "print(f'Vocab size of target language is {TGT_VOCAB_SIZE}')"
   ]
  },
  {
   "cell_type": "code",
   "execution_count": 12,
   "id": "2a85c529",
   "metadata": {
    "execution": {
     "iopub.execute_input": "2024-07-09T01:00:22.273691Z",
     "iopub.status.busy": "2024-07-09T01:00:22.273360Z",
     "iopub.status.idle": "2024-07-09T01:00:22.277996Z",
     "shell.execute_reply": "2024-07-09T01:00:22.277150Z"
    },
    "papermill": {
     "duration": 0.027685,
     "end_time": "2024-07-09T01:00:22.280813",
     "exception": false,
     "start_time": "2024-07-09T01:00:22.253128",
     "status": "completed"
    },
    "tags": []
   },
   "outputs": [
    {
     "name": "stdout",
     "output_type": "stream",
     "text": [
      "他\n",
      "much\n"
     ]
    }
   ],
   "source": [
    "print(vocab_transform[SRC_LANGUAGE].lookup_token(50))\n",
    "print(vocab_transform[TGT_LANGUAGE].lookup_token(100))"
   ]
  },
  {
   "cell_type": "markdown",
   "id": "6dc0cf1c",
   "metadata": {
    "papermill": {
     "duration": 0.019007,
     "end_time": "2024-07-09T01:00:22.319070",
     "exception": false,
     "start_time": "2024-07-09T01:00:22.300063",
     "status": "completed"
    },
    "tags": []
   },
   "source": [
    "## Construct transformation piplines"
   ]
  },
  {
   "cell_type": "code",
   "execution_count": 13,
   "id": "cb0c92a9",
   "metadata": {
    "execution": {
     "iopub.execute_input": "2024-07-09T01:00:22.360063Z",
     "iopub.status.busy": "2024-07-09T01:00:22.359679Z",
     "iopub.status.idle": "2024-07-09T01:00:22.379153Z",
     "shell.execute_reply": "2024-07-09T01:00:22.378377Z"
    },
    "papermill": {
     "duration": 0.042552,
     "end_time": "2024-07-09T01:00:22.381225",
     "exception": false,
     "start_time": "2024-07-09T01:00:22.338673",
     "status": "completed"
    },
    "tags": []
   },
   "outputs": [],
   "source": [
    "# Test transform\n",
    "class TransformPipline():\n",
    "    def __init__(self, token_transform,\n",
    "                  vocab_transform,\n",
    "                  tensor_first=True, \n",
    "                  bos_token=BOS_IDX,\n",
    "                  eos_token=EOS_IDX, \n",
    "                  pad_token=PAD_IDX,\n",
    "                  src_max_len=100,\n",
    "                  tgt_max_len=100):\n",
    "        assert (token_transform is not None) and (vocab_transform is not None)\n",
    "        self.SRC_LANGUAGE = SRC_LANGUAGE\n",
    "        self.TGT_LANGUAGE = TGT_LANGUAGE\n",
    "        self.token_transform = token_transform\n",
    "        self.vocab_transform = vocab_transform\n",
    "        \n",
    "        self.tensor_first = tensor_first\n",
    "        self.pad_token = pad_token\n",
    "        self.src_max_len = src_max_len\n",
    "        self.tgt_max_len = tgt_max_len\n",
    "        self.bos_token = bos_token\n",
    "        self.eos_token = eos_token\n",
    "        \n",
    "        self.transforms = {}\n",
    "        for ln in [self.SRC_LANGUAGE, self.TGT_LANGUAGE]:\n",
    "            self.transforms[ln] = [self.token_transform[ln], self.vocab_transform[ln]]\n",
    "            if self.tensor_first:\n",
    "                self.transforms[ln].append(self.tensor_transform)\n",
    "            if self.bos_token is not None:\n",
    "                self.transforms[ln].append(self.insert_bos)\n",
    "            if self.eos_token is not None:\n",
    "                self.transforms[ln].append(self.insert_eos)\n",
    "        \n",
    "        # For training time, tensor transform for both SOURCE and TARGET lanuageS need add both BOS and EOS\n",
    "        self.text_transform = {}\n",
    "        for ln in [self.SRC_LANGUAGE, self.TGT_LANGUAGE]:\n",
    "            self.text_transform[ln] = self.transform_pipline(*[self.transforms[ln][i] for i in range(len(self.transforms[ln]))]) \n",
    "        \n",
    "    def transform(self, data):\n",
    "        src, tgt = [], []\n",
    "        for src_sample, tgt_sample in zip(data[self.SRC_LANGUAGE], data[self.TGT_LANGUAGE]):\n",
    "            src_token = self.text_transform[self.SRC_LANGUAGE](src_sample.rstrip(\"\\n\"))\n",
    "            tgt_token = self.text_transform[self.TGT_LANGUAGE](tgt_sample.rstrip(\"\\n\"))\n",
    "            if self.pad_token is not None:\n",
    "                src_token = self.add_pad(src_token, src_max_len)\n",
    "                tgt_token = self.add_pad(tgt_token, tgt_max_len)\n",
    "            src.append(src_token)\n",
    "            tgt.append(tgt_token)\n",
    "        src = torch.stack(src)\n",
    "        tgt = torch.stack(tgt)\n",
    "        return src, tgt\n",
    "\n",
    "    def tensor_transform(self, token_ids: List):\n",
    "        return torch.tensor(token_ids)\n",
    "    \n",
    "    def insert_bos(self, token_ids):\n",
    "        if torch.is_tensor(token_ids):\n",
    "            return torch.cat((torch.tensor([self.bos_token]), token_ids))\n",
    "        else:\n",
    "            return token_ids.insert(0, self.bos_token)\n",
    "    def insert_eos(self, token_ids):\n",
    "        if torch.is_tensor(token_ids):\n",
    "            return torch.cat((token_ids, torch.tensor([self.eos_token])))\n",
    "        else:\n",
    "            return token_ids.append(self.eos_token)\n",
    "    def add_pad(self, token_ids, max_len):\n",
    "        \"\"\"\n",
    "        Add padding to the end of the sequence\n",
    "        \"\"\"\n",
    "        assert max_len is not None\n",
    "        \n",
    "        if torch.is_tensor(token_ids):\n",
    "            valid_len = token_ids.size(0)\n",
    "        else:\n",
    "            valid_len = len(token_ids)\n",
    "        assert max_len >= valid_len\n",
    "        padding_len = max_len - valid_len\n",
    "        \n",
    "        if self.tensor_first == True:\n",
    "            padding = torch.tensor([self.pad_token]*padding_len)\n",
    "            return torch.cat((token_ids, padding))\n",
    "        else:\n",
    "            padding = [self.pad_token]*padding_len\n",
    "            return token_ids + padding\n",
    "    \n",
    "    def transform_pipline(self, *transforms):\n",
    "        def func(txt_input):\n",
    "            for transform in transforms:\n",
    "                txt_input = transform(txt_input)\n",
    "            return txt_input\n",
    "        return func"
   ]
  },
  {
   "cell_type": "code",
   "execution_count": 14,
   "id": "f42be85d",
   "metadata": {
    "execution": {
     "iopub.execute_input": "2024-07-09T01:00:22.422536Z",
     "iopub.status.busy": "2024-07-09T01:00:22.422145Z",
     "iopub.status.idle": "2024-07-09T01:00:22.427079Z",
     "shell.execute_reply": "2024-07-09T01:00:22.426209Z"
    },
    "papermill": {
     "duration": 0.027966,
     "end_time": "2024-07-09T01:00:22.429032",
     "exception": false,
     "start_time": "2024-07-09T01:00:22.401066",
     "status": "completed"
    },
    "tags": []
   },
   "outputs": [],
   "source": [
    "src_max_len = 200\n",
    "tgt_max_len = 200\n",
    "trans_pipline = TransformPipline(token_transform, vocab_transform, tensor_first=True, \n",
    "                          bos_token=BOS_IDX, eos_token=EOS_IDX, pad_token=PAD_IDX, \n",
    "                                 src_max_len=src_max_len, tgt_max_len=tgt_max_len)"
   ]
  },
  {
   "cell_type": "markdown",
   "id": "85665c95",
   "metadata": {
    "papermill": {
     "duration": 0.019292,
     "end_time": "2024-07-09T01:00:22.518517",
     "exception": false,
     "start_time": "2024-07-09T01:00:22.499225",
     "status": "completed"
    },
    "tags": []
   },
   "source": [
    "## Prepare Data"
   ]
  },
  {
   "cell_type": "code",
   "execution_count": 15,
   "id": "4441cae0",
   "metadata": {
    "execution": {
     "iopub.execute_input": "2024-07-09T01:00:22.558565Z",
     "iopub.status.busy": "2024-07-09T01:00:22.558216Z",
     "iopub.status.idle": "2024-07-09T01:00:22.810906Z",
     "shell.execute_reply": "2024-07-09T01:00:22.809861Z"
    },
    "papermill": {
     "duration": 0.275351,
     "end_time": "2024-07-09T01:00:22.813276",
     "exception": false,
     "start_time": "2024-07-09T01:00:22.537925",
     "status": "completed"
    },
    "tags": []
   },
   "outputs": [
    {
     "name": "stdout",
     "output_type": "stream",
     "text": [
      "159363\n",
      "19920\n",
      "19921\n"
     ]
    },
    {
     "data": {
      "text/plain": [
       "(None, None, None)"
      ]
     },
     "execution_count": 15,
     "metadata": {},
     "output_type": "execute_result"
    }
   ],
   "source": [
    "from sklearn.model_selection import train_test_split\n",
    "train_set, test_set = train_test_split(data, test_size=0.2, random_state=50, shuffle=True)\n",
    "val_set, test_set = train_test_split(test_set, test_size=0.5, random_state=50, shuffle=True)\n",
    "\n",
    "print(len(train_set)), print(len(val_set)), print(len(test_set))"
   ]
  },
  {
   "cell_type": "code",
   "execution_count": 16,
   "id": "e9d2d15e",
   "metadata": {
    "execution": {
     "iopub.execute_input": "2024-07-09T01:00:22.855583Z",
     "iopub.status.busy": "2024-07-09T01:00:22.854799Z",
     "iopub.status.idle": "2024-07-09T01:06:56.801361Z",
     "shell.execute_reply": "2024-07-09T01:06:56.800254Z"
    },
    "papermill": {
     "duration": 393.97001,
     "end_time": "2024-07-09T01:06:56.804000",
     "exception": false,
     "start_time": "2024-07-09T01:00:22.833990",
     "status": "completed"
    },
    "tags": []
   },
   "outputs": [],
   "source": [
    "train_set_transform = trans_pipline.transform(train_set)\n",
    "val_set_transform = trans_pipline.transform(val_set)\n",
    "test_set_transform = trans_pipline.transform(test_set)\n",
    "\n",
    "#train_set_transform = torch.load(\"train_set_transform.pt\")\n",
    "#val_set_transform = torch.load(\"val_set_transform.pt\")\n",
    "#test_set_transform = torch.load(\"test_set_transform.pt\")"
   ]
  },
  {
   "cell_type": "code",
   "execution_count": 17,
   "id": "b3c63bc3",
   "metadata": {
    "execution": {
     "iopub.execute_input": "2024-07-09T01:06:56.846268Z",
     "iopub.status.busy": "2024-07-09T01:06:56.845454Z",
     "iopub.status.idle": "2024-07-09T01:06:56.851349Z",
     "shell.execute_reply": "2024-07-09T01:06:56.850474Z"
    },
    "papermill": {
     "duration": 0.02886,
     "end_time": "2024-07-09T01:06:56.853246",
     "exception": false,
     "start_time": "2024-07-09T01:06:56.824386",
     "status": "completed"
    },
    "tags": []
   },
   "outputs": [],
   "source": [
    "from torch.utils.data import Dataset, DataLoader\n",
    "\n",
    "class Textdataset(Dataset):\n",
    "    \n",
    "    def __init__(self, src, tgt):\n",
    "        self.src = src\n",
    "        self.tgt = tgt\n",
    "\n",
    "    def __len__(self):\n",
    "        return len(self.tgt)\n",
    "\n",
    "    def __getitem__(self, idx):\n",
    "        return self.src[idx], self.tgt[idx]\n"
   ]
  },
  {
   "cell_type": "code",
   "execution_count": 18,
   "id": "a12bab06",
   "metadata": {
    "execution": {
     "iopub.execute_input": "2024-07-09T01:06:56.893981Z",
     "iopub.status.busy": "2024-07-09T01:06:56.893700Z",
     "iopub.status.idle": "2024-07-09T01:06:56.916593Z",
     "shell.execute_reply": "2024-07-09T01:06:56.915639Z"
    },
    "papermill": {
     "duration": 0.045516,
     "end_time": "2024-07-09T01:06:56.918441",
     "exception": false,
     "start_time": "2024-07-09T01:06:56.872925",
     "status": "completed"
    },
    "tags": []
   },
   "outputs": [
    {
     "name": "stdout",
     "output_type": "stream",
     "text": [
      "Number of training batches: 5313\n",
      "Number of validation batches: 664\n"
     ]
    }
   ],
   "source": [
    "# Create data loader, batch dataset\n",
    "\n",
    "train_set = Textdataset(train_set_transform[0], train_set_transform[1])\n",
    "val_set = Textdataset(val_set_transform[0], val_set_transform[1])\n",
    "test_set = Textdataset(test_set_transform[0], test_set_transform[1])\n",
    "\n",
    "batch_size = 30\n",
    "train_loader = DataLoader(train_set, batch_size, shuffle=True)\n",
    "val_loader = DataLoader(val_set, batch_size, shuffle=False)\n",
    "test_loader = DataLoader(test_set, batch_size, shuffle=False)\n",
    "train_iterator = iter(train_loader)\n",
    "val_iterator = iter(val_loader)\n",
    "test_iterator = iter(test_loader)\n",
    "\n",
    "print(f\"Number of training batches: {len(train_loader)}\")\n",
    "print(f\"Number of validation batches: {len(val_loader)}\")"
   ]
  },
  {
   "cell_type": "markdown",
   "id": "7acb6bc2",
   "metadata": {
    "papermill": {
     "duration": 0.019763,
     "end_time": "2024-07-09T01:06:56.958173",
     "exception": false,
     "start_time": "2024-07-09T01:06:56.938410",
     "status": "completed"
    },
    "tags": []
   },
   "source": [
    "# Develop Model"
   ]
  },
  {
   "cell_type": "markdown",
   "id": "e12711f5",
   "metadata": {
    "papermill": {
     "duration": 0.019743,
     "end_time": "2024-07-09T01:06:56.997746",
     "exception": false,
     "start_time": "2024-07-09T01:06:56.978003",
     "status": "completed"
    },
    "tags": []
   },
   "source": [
    "## Attention Mechanism\n",
    "ref: https://colab.research.google.com/github/jaygala24/pytorch-implementations/blob/master/Attention%20Is%20All%20You%20Need.ipynb"
   ]
  },
  {
   "cell_type": "markdown",
   "id": "9a4a11ad",
   "metadata": {
    "papermill": {
     "duration": 0.019397,
     "end_time": "2024-07-09T01:06:57.036527",
     "exception": false,
     "start_time": "2024-07-09T01:06:57.017130",
     "status": "completed"
    },
    "tags": []
   },
   "source": [
    "![transformer_model](data:image/png;base64,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 \"Transformer Model\")\n",
    "\n",
    "(source: https://arxiv.org/pdf/1706.03762.pdf)\n"
   ]
  },
  {
   "cell_type": "code",
   "execution_count": 19,
   "id": "e525405e",
   "metadata": {
    "execution": {
     "iopub.execute_input": "2024-07-09T01:06:57.077810Z",
     "iopub.status.busy": "2024-07-09T01:06:57.077136Z",
     "iopub.status.idle": "2024-07-09T01:06:57.085728Z",
     "shell.execute_reply": "2024-07-09T01:06:57.084872Z"
    },
    "papermill": {
     "duration": 0.031248,
     "end_time": "2024-07-09T01:06:57.087597",
     "exception": false,
     "start_time": "2024-07-09T01:06:57.056349",
     "status": "completed"
    },
    "tags": []
   },
   "outputs": [],
   "source": [
    "class ScaledDotProductAttention(nn.Module):\n",
    "    \"\"\" Computes scaled dot product attention\n",
    "    \"\"\"\n",
    "\n",
    "    def __init__(self, scale, dropout_rate):\n",
    "        super(ScaledDotProductAttention, self).__init__()\n",
    "        self.scale = scale\n",
    "        self.dropout_rate = dropout_rate\n",
    "\n",
    "        self.dropout = nn.Dropout(dropout_rate)\n",
    "\n",
    "\n",
    "    def forward(self, query, key, value, mask=None):\n",
    "        \"\"\" query: (batch_size, n_heads, query_len, head_dim)\n",
    "            key: (batch_size, n_heads, key_len, head_dim)\n",
    "            value: (batch_size, n_heads, value_len, head_dim)\n",
    "            mask: (batch_size, 1, 1, source_seq_len) for source mask\n",
    "                  (batch_size, 1, target_seq_len, target_seq_len) for target mask\n",
    "        \"\"\"\n",
    "        # calculate alignment scores\n",
    "        scores = torch.matmul(query, key.transpose(-2, -1))  # (batch_size, n_heads, query_len, value_len)\n",
    "        scores = scores / self.scale  # (batch_size, num_heads, query_len, value_len)\n",
    "\n",
    "        # mask out invalid positions\n",
    "        if mask is not None:\n",
    "            scores = scores.masked_fill(mask == 0, float('-inf'))  # (batch_size, n_heads, query_len, value_len)\n",
    "\n",
    "        # calculate the attention weights (prob) from alignment scores\n",
    "        attn_probs = F.softmax(scores, dim=-1)  # (batch_size, n_heads, query_len, value_len)\n",
    "\n",
    "        # calculate context vector\n",
    "        output = torch.matmul(self.dropout(attn_probs), value)  # (batch_size, n_heads, query_len, head_dim)\n",
    "\n",
    "        # output: (batch_size, n_heads, query_len, head_dim)\n",
    "        # attn_probs: (batch_size, n_heads, query_len, value_len)\n",
    "        return output, attn_probs"
   ]
  },
  {
   "cell_type": "markdown",
   "id": "e092a836",
   "metadata": {
    "papermill": {
     "duration": 0.019501,
     "end_time": "2024-07-09T01:06:57.126833",
     "exception": false,
     "start_time": "2024-07-09T01:06:57.107332",
     "status": "completed"
    },
    "tags": []
   },
   "source": [
    "### Multi-Head Attention Module\n"
   ]
  },
  {
   "cell_type": "markdown",
   "id": "460d67b5",
   "metadata": {
    "papermill": {
     "duration": 0.020023,
     "end_time": "2024-07-09T01:06:57.166577",
     "exception": false,
     "start_time": "2024-07-09T01:06:57.146554",
     "status": "completed"
    },
    "tags": []
   },
   "source": [
    "![multi_head_attention](data:image/png;base64,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 \"Multi-Head Attention Block\")\n",
    "\n",
    "(source: https://arxiv.org/pdf/1706.03762.pdf)\n"
   ]
  },
  {
   "cell_type": "code",
   "execution_count": 20,
   "id": "e455c534",
   "metadata": {
    "execution": {
     "iopub.execute_input": "2024-07-09T01:06:57.207515Z",
     "iopub.status.busy": "2024-07-09T01:06:57.207055Z",
     "iopub.status.idle": "2024-07-09T01:06:57.220105Z",
     "shell.execute_reply": "2024-07-09T01:06:57.219241Z"
    },
    "papermill": {
     "duration": 0.036083,
     "end_time": "2024-07-09T01:06:57.222047",
     "exception": false,
     "start_time": "2024-07-09T01:06:57.185964",
     "status": "completed"
    },
    "tags": []
   },
   "outputs": [],
   "source": [
    "class MultiHeadAttention(nn.Module):\n",
    "    \"\"\" Implements Multi-Head Self-Attention proposed by Vaswani et al., 2017.\n",
    "        refer https://arxiv.org/abs/1706.03762\n",
    "    \"\"\"\n",
    "\n",
    "    def __init__(self, d_model, n_heads, dropout_rate=0.1):\n",
    "        super(MultiHeadAttention, self).__init__()\n",
    "        assert d_model % n_heads == 0, \"`d_model` should be a multiple of `n_heads`\"\n",
    "\n",
    "        self.d_model = d_model\n",
    "        self.n_heads = n_heads\n",
    "        self.d_k = self.d_v = d_model // n_heads  # head_dim\n",
    "        self.dropout_rate = dropout_rate\n",
    "\n",
    "        self.W_q = nn.Linear(d_model, d_model, bias=False)\n",
    "        self.W_k = nn.Linear(d_model, d_model, bias=False)\n",
    "        self.W_v = nn.Linear(d_model, d_model, bias=False)\n",
    "        self.W_o = nn.Linear(d_model, d_model)\n",
    "\n",
    "        self.attention = ScaledDotProductAttention(np.sqrt(self.d_k), dropout_rate)\n",
    "\n",
    "\n",
    "    def split_heads(self, x):\n",
    "        \"\"\" x: (batch_size, seq_len, d_model)\n",
    "        \"\"\"\n",
    "        batch_size = x.size(0)\n",
    "        x = x.view(batch_size, -1, self.n_heads, self.d_k).transpose(1, 2)  # (batch_size, n_heads, seq_len, d_k)\n",
    "\n",
    "        # x: (batch_size, n_heads, seq_len, head_dim)\n",
    "        return x\n",
    "\n",
    "\n",
    "    def group_heads(self, x):\n",
    "        \"\"\" x: (batch_size, n_heads, seq_len, head_dim)\n",
    "        \"\"\"\n",
    "        batch_size = x.size(0)\n",
    "        x = x.transpose(1, 2).contiguous().view(batch_size, -1, self.n_heads * self.d_k)\n",
    "\n",
    "        # x: (batch_size, seq_len, d_model)\n",
    "        return x\n",
    "\n",
    "\n",
    "    def forward(self, query, key, value, mask=None):\n",
    "        \"\"\" query: (batch_size, query_len, d_model)\n",
    "            key: (batch_size, key_len, d_model)\n",
    "            value: (batch_size, value_len, d_model)\n",
    "            mask: (batch_size, 1, source_seq_len) for source mask\n",
    "                  (batch_size, target_seq_len, target_seq_len) for target mask\n",
    "        \"\"\"\n",
    "        # apply linear projections to query, key and value\n",
    "        Q = self.split_heads(self.W_q(query))  # (batch_size, n_heads, query_len, head_dim)\n",
    "        K = self.split_heads(self.W_k(key))  # (batch_size, n_heads, key_len, head_dim)\n",
    "        V = self.split_heads(self.W_v(value))  # (batch_size, n_heads, value_len, head_dim)\n",
    "\n",
    "        if mask is not None:\n",
    "            # apply same mask for all the heads\n",
    "            mask = mask.unsqueeze(1)\n",
    "\n",
    "            # mask: (batch_size, 1, 1, source_seq_len) for source mask\n",
    "            #       (batch_size, 1, target_seq_len, target_seq_len) for target mask\n",
    "\n",
    "        # calculate attention weights and context vector for each of the heads\n",
    "        x, attn = self.attention(Q, K, V, mask)\n",
    "\n",
    "        # x: (batch_size, n_heads, query_len, head_dim)\n",
    "        # attn: (batch_size, n_heads, query_len, value_len)\n",
    "\n",
    "        # concatenate context vector of all the heads\n",
    "        x = self.group_heads(x)  # (batch_size, query_len, d_model)\n",
    "\n",
    "        # apply linear projection to concatenated context vector\n",
    "        x = self.W_o(x)  # (batch_size, query_len, d_model)\n",
    "\n",
    "        # x: (batch_size, query_len, d_model)\n",
    "        # attn: (batch_size, n_heads, query_len, value_len)\n",
    "        return x, attn"
   ]
  },
  {
   "cell_type": "markdown",
   "id": "d60e3ff3",
   "metadata": {
    "papermill": {
     "duration": 0.019402,
     "end_time": "2024-07-09T01:06:57.260929",
     "exception": false,
     "start_time": "2024-07-09T01:06:57.241527",
     "status": "completed"
    },
    "tags": []
   },
   "source": [
    "### Position-wise Feed-Forward Network Module"
   ]
  },
  {
   "cell_type": "markdown",
   "id": "088704a8",
   "metadata": {
    "papermill": {
     "duration": 0.019083,
     "end_time": "2024-07-09T01:06:57.299748",
     "exception": false,
     "start_time": "2024-07-09T01:06:57.280665",
     "status": "completed"
    },
    "tags": []
   },
   "source": [
    "This is the another block in the encoder as well as decoder layer which transforms from $d_{model}$ to $d_{ff}$ and then again to $d_{model}$. The same linear transformation is applied across different positions. This can also be viewed as two convolutions with filter size 1.\n",
    "\n",
    "$$\n",
    "FFN(x) = max(0, xW_1 + b_1)W_2 + b_2\n",
    "$$\n",
    "\n",
    "Position-wise Feed-Forward Network returns the following:\n",
    "- `x`: non-linearity transformed vector of dimension same as input\n"
   ]
  },
  {
   "cell_type": "code",
   "execution_count": 21,
   "id": "777680df",
   "metadata": {
    "execution": {
     "iopub.execute_input": "2024-07-09T01:06:57.339814Z",
     "iopub.status.busy": "2024-07-09T01:06:57.339454Z",
     "iopub.status.idle": "2024-07-09T01:06:57.346037Z",
     "shell.execute_reply": "2024-07-09T01:06:57.345189Z"
    },
    "papermill": {
     "duration": 0.02903,
     "end_time": "2024-07-09T01:06:57.348025",
     "exception": false,
     "start_time": "2024-07-09T01:06:57.318995",
     "status": "completed"
    },
    "tags": []
   },
   "outputs": [],
   "source": [
    "class PositionwiseFeedForward(nn.Module):\n",
    "    \"\"\" Implements a two layer feed-forward network.\n",
    "    \"\"\"\n",
    "\n",
    "    def __init__(self, d_model, d_ff, dropout_rate=0.1):\n",
    "        super(PositionwiseFeedForward, self).__init__()\n",
    "        self.d_model = d_model\n",
    "        self.d_ff = d_ff\n",
    "        self.dropout_rate = dropout_rate\n",
    "\n",
    "        self.w_1 = nn.Linear(d_model, d_ff)\n",
    "        self.w_2 = nn.Linear(d_ff, d_model)\n",
    "        self.dropout = nn.Dropout(dropout_rate)\n",
    "\n",
    "\n",
    "    def forward(self, x):\n",
    "        \"\"\" x: (batch_size, seq_len, d_model)\n",
    "        \"\"\"\n",
    "        x = self.dropout(F.relu(self.w_1(x)))  # (batch_size, seq_len, d_ff)\n",
    "        x = self.w_2(x)  # (batch_size, seq_len, d_model)\n",
    "\n",
    "        # x: (batch_size, seq_len, d_model)\n",
    "        return x"
   ]
  },
  {
   "cell_type": "markdown",
   "id": "6a1fc6d3",
   "metadata": {
    "papermill": {
     "duration": 0.019432,
     "end_time": "2024-07-09T01:06:57.387301",
     "exception": false,
     "start_time": "2024-07-09T01:06:57.367869",
     "status": "completed"
    },
    "tags": []
   },
   "source": [
    "### Positional Encoding Module"
   ]
  },
  {
   "cell_type": "markdown",
   "id": "276aaf7b",
   "metadata": {
    "papermill": {
     "duration": 0.01924,
     "end_time": "2024-07-09T01:06:57.425885",
     "exception": false,
     "start_time": "2024-07-09T01:06:57.406645",
     "status": "completed"
    },
    "tags": []
   },
   "source": [
    "Since the transformer contains no recurrence and no convolutions, we need some way to inject information about relative or absolute position to assign order to tokens in the sequence. Sinusoidal positional encodings are used with different frequencies to unique represent the order and the position of the token in sequence.\n",
    "\n",
    "$$\n",
    "\\begin{aligned}\n",
    "\\text{PE}_{(pos, 2i)} &= \\text{sin}(\\frac{pos}{10000^{2i/d_{model}}}) \\\\\n",
    "\\text{PE}_{(pos, 2i + 1)} &= \\text{cos}(\\frac{pos}{10000^{2i/d_{model}}})\n",
    "\\end{aligned}\n",
    "$$\n",
    "\n",
    "where $pos$ is the position and $i$ is the dimension.\n",
    "\n",
    "> _We chose this function because we hypothesized it would allow the model to easily learn to attend by relative positions, since for any fixed offset $k$, $PE_{pos+k}$ can be represented as a linear function of $PE_{pos}$. (Excerpt from [Attention is All You Need paper](https://arxiv.org/pdf/1706.03762.pdf))_\n",
    "\n",
    "Positional Encoding Module returns the following:\n",
    "- `x`: word embedding of the token in the sequence with inherent position information\n"
   ]
  },
  {
   "cell_type": "code",
   "execution_count": 22,
   "id": "a196b8fa",
   "metadata": {
    "execution": {
     "iopub.execute_input": "2024-07-09T01:06:57.466844Z",
     "iopub.status.busy": "2024-07-09T01:06:57.466185Z",
     "iopub.status.idle": "2024-07-09T01:06:57.475580Z",
     "shell.execute_reply": "2024-07-09T01:06:57.474702Z"
    },
    "papermill": {
     "duration": 0.032046,
     "end_time": "2024-07-09T01:06:57.477519",
     "exception": false,
     "start_time": "2024-07-09T01:06:57.445473",
     "status": "completed"
    },
    "tags": []
   },
   "outputs": [],
   "source": [
    "class PositionalEncoding(nn.Module):\n",
    "    \"\"\" Implements the sinusoidal positional encoding.\n",
    "    \"\"\"\n",
    "\n",
    "    def __init__(self, d_model, dropout_rate=0.1, max_len=200):\n",
    "        super(PositionalEncoding, self).__init__()\n",
    "        self.d_model = d_model\n",
    "        self.dropout_rate = dropout_rate\n",
    "        self.max_len = max_len\n",
    "\n",
    "        self.dropout = nn.Dropout(dropout_rate)\n",
    "\n",
    "        # compute positional encodings\n",
    "        pe = torch.zeros(max_len, d_model)  # (max_len, d_model)\n",
    "        position = torch.arange(0, max_len, dtype=torch.float).unsqueeze(1)  # (max_len, 1)\n",
    "        div_term = torch.exp(\n",
    "            torch.arange(0, d_model, 2).float() * (-math.log(10000.0) / d_model)\n",
    "        )  # (d_model,)\n",
    "        pe[:, 0::2] = torch.sin(position * div_term)\n",
    "        pe[:, 1::2] = torch.cos(position * div_term)\n",
    "        pe = pe.unsqueeze(0).transpose(0, 1)  # (max_len, 1, d_model)\n",
    "        self.register_buffer('pe', pe)\n",
    "\n",
    "    def forward(self, x):\n",
    "        \"\"\" x: (batch_size, seq_len, d_model)\n",
    "        \"\"\"\n",
    "        x = x + self.pe[:x.size(0), :]  # (batch_size, seq_len, d_model)\n",
    "        x = self.dropout(x)  # (batch_size, seq_len, d_model)\n",
    "\n",
    "        # x: (batch_size, seq_len, d_model)\n",
    "        return x"
   ]
  },
  {
   "cell_type": "markdown",
   "id": "d9948cb8",
   "metadata": {
    "papermill": {
     "duration": 0.01958,
     "end_time": "2024-07-09T01:06:57.517033",
     "exception": false,
     "start_time": "2024-07-09T01:06:57.497453",
     "status": "completed"
    },
    "tags": []
   },
   "source": [
    "### Encoder Module\n"
   ]
  },
  {
   "cell_type": "markdown",
   "id": "3f6c9121",
   "metadata": {
    "papermill": {
     "duration": 0.019059,
     "end_time": "2024-07-09T01:06:57.556751",
     "exception": false,
     "start_time": "2024-07-09T01:06:57.537692",
     "status": "completed"
    },
    "tags": []
   },
   "source": [
    "The encoder consists of a stack of $N = 3$ (6 in original paper) identical layers, each containing two sub-layers, a multi-head self-attention layer, and a position-wise fully connected feed-forward network. Each sub-layer has a residual connection and layer normalization.\n",
    "\n",
    "Encoder returns the following:\n",
    "- `x`: encoded sequence representation using self-attention\n"
   ]
  },
  {
   "cell_type": "code",
   "execution_count": 23,
   "id": "a748c618",
   "metadata": {
    "execution": {
     "iopub.execute_input": "2024-07-09T01:06:57.597250Z",
     "iopub.status.busy": "2024-07-09T01:06:57.596901Z",
     "iopub.status.idle": "2024-07-09T01:06:57.605733Z",
     "shell.execute_reply": "2024-07-09T01:06:57.604847Z"
    },
    "papermill": {
     "duration": 0.031233,
     "end_time": "2024-07-09T01:06:57.607635",
     "exception": false,
     "start_time": "2024-07-09T01:06:57.576402",
     "status": "completed"
    },
    "tags": []
   },
   "outputs": [],
   "source": [
    "class EncoderLayer(nn.Module):\n",
    "    \"\"\" Encoder is made up of a self-attention layer and a feed-forward layer.\n",
    "    \"\"\"\n",
    "\n",
    "    def __init__(self, d_model, n_heads, d_ff, dropout_rate=0.1):\n",
    "        super(EncoderLayer, self).__init__()\n",
    "        self.d_model = d_model\n",
    "        self.d_ff = d_ff\n",
    "        self.n_heads = n_heads\n",
    "        self.dropout_rate = dropout_rate\n",
    "\n",
    "        self.attn_layer = MultiHeadAttention(d_model, n_heads, dropout_rate)\n",
    "        self.attn_layer_norm = nn.LayerNorm(d_model, eps=1e-6)\n",
    "\n",
    "        self.ff_layer = PositionwiseFeedForward(d_model, d_ff, dropout_rate)\n",
    "        self.ff_layer_norm = nn.LayerNorm(d_model, eps=1e-6)\n",
    "\n",
    "        self.dropout = nn.Dropout(dropout_rate)\n",
    "\n",
    "\n",
    "    def forward(self, x, mask):\n",
    "        \"\"\" x: (batch_size, source_seq_len, d_model)\n",
    "            mask: (batch_size, 1, source_seq_len)\n",
    "        \"\"\"\n",
    "        # apply self-attention\n",
    "        x1, _ = self.attn_layer(x, x, x, mask)  # (batch_size, source_seq_len, d_model)\n",
    "\n",
    "        # apply residual connection followed by layer normalization\n",
    "        x = self.attn_layer_norm(x + self.dropout(x1))  # (batch_size, source_seq_len, d_model)\n",
    "\n",
    "        # apply position-wise feed-forward\n",
    "        x1 = self.ff_layer(x)  # (batch_size, source_seq_len, d_model)\n",
    "\n",
    "        # apply residual connection followed by layer normalization\n",
    "        x = self.ff_layer_norm(x + self.dropout(x1))  # (batch_size, source_seq_len, d_model)\n",
    "\n",
    "        # x: (batch_size, source_seq_len, d_model)\n",
    "        return x"
   ]
  },
  {
   "cell_type": "code",
   "execution_count": 24,
   "id": "04a90d8f",
   "metadata": {
    "execution": {
     "iopub.execute_input": "2024-07-09T01:06:57.647587Z",
     "iopub.status.busy": "2024-07-09T01:06:57.647245Z",
     "iopub.status.idle": "2024-07-09T01:06:57.656521Z",
     "shell.execute_reply": "2024-07-09T01:06:57.655564Z"
    },
    "papermill": {
     "duration": 0.031434,
     "end_time": "2024-07-09T01:06:57.658451",
     "exception": false,
     "start_time": "2024-07-09T01:06:57.627017",
     "status": "completed"
    },
    "tags": []
   },
   "outputs": [],
   "source": [
    "class Encoder(nn.Module):\n",
    "    \"\"\" Encoder block is a stack of N identical encoder layers.\n",
    "    \"\"\"\n",
    "\n",
    "    def __init__(self, vocab_size, d_model, n_layers, n_heads, d_ff, pad_idx, dropout_rate=0.1, max_len=200):\n",
    "        super(Encoder, self).__init__()\n",
    "        self.vocab_size = vocab_size\n",
    "        self.d_model = d_model\n",
    "        self.n_layers = n_layers\n",
    "        self.d_ff = d_ff\n",
    "        self.pad_idx = pad_idx\n",
    "        self.dropout_rate = dropout_rate\n",
    "        self.max_len = max_len\n",
    "\n",
    "        self.tok_embedding = nn.Embedding(vocab_size, d_model, padding_idx=pad_idx)\n",
    "        self.pos_embedding = PositionalEncoding(d_model, dropout_rate, max_len)\n",
    "        self.layers = nn.ModuleList([\n",
    "            EncoderLayer(d_model, n_heads, d_ff, dropout_rate)\n",
    "            for _ in range(n_layers)\n",
    "        ])\n",
    "        self.layer_norm = nn.LayerNorm(d_model, eps=1e-6)\n",
    "\n",
    "\n",
    "    def forward(self, x, mask):\n",
    "        \"\"\" x: (batch_size, source_seq_len)\n",
    "            mask: (batch_size, 1, source_seq_len)\n",
    "        \"\"\"\n",
    "        # apply positional encoding to token sequences\n",
    "        x = self.tok_embedding(x)  # (batch_size, source_seq_len, d_model)\n",
    "        x = self.pos_embedding(x)  # (batch_size, source_seq_len, d_model)\n",
    "\n",
    "        for layer in self.layers:\n",
    "            x = layer(x, mask)  # (batch_size, source_seq_len, d_model)\n",
    "\n",
    "        x = self.layer_norm(x)  # (batch_size, source_seq_len, d_model)\n",
    "\n",
    "        # x: (batch_size, source_seq_len, d_model)\n",
    "        return x"
   ]
  },
  {
   "cell_type": "markdown",
   "id": "5a82f2f0",
   "metadata": {
    "papermill": {
     "duration": 0.019812,
     "end_time": "2024-07-09T01:06:57.698023",
     "exception": false,
     "start_time": "2024-07-09T01:06:57.678211",
     "status": "completed"
    },
    "tags": []
   },
   "source": [
    "### Decoder Module"
   ]
  },
  {
   "cell_type": "markdown",
   "id": "e04386d4",
   "metadata": {
    "papermill": {
     "duration": 0.019022,
     "end_time": "2024-07-09T01:06:57.736462",
     "exception": false,
     "start_time": "2024-07-09T01:06:57.717440",
     "status": "completed"
    },
    "tags": []
   },
   "source": [
    "The decoder is quite similar to the encoder, except that the decoder contains two multi-head self-attention layers instead of a single layer in a stack of $N = 3$ (6 in original paper) identical layers. The first multi-head self-attention layer attends to decoder outputs generated so far and is masked in order to prevent positions from attending to future positions, whereas the second multi-head self-attention layer attends over the encoder stack output.\n",
    "\n",
    "Decoder returns the following:\n",
    "- `x`: output sequence representation using self-attention\n",
    "- `attn`: alignment scores (attention weights) between input sequence and output sequence\n"
   ]
  },
  {
   "cell_type": "code",
   "execution_count": 25,
   "id": "7ba02310",
   "metadata": {
    "execution": {
     "iopub.execute_input": "2024-07-09T01:06:57.777181Z",
     "iopub.status.busy": "2024-07-09T01:06:57.776269Z",
     "iopub.status.idle": "2024-07-09T01:06:57.787357Z",
     "shell.execute_reply": "2024-07-09T01:06:57.786444Z"
    },
    "papermill": {
     "duration": 0.033623,
     "end_time": "2024-07-09T01:06:57.789341",
     "exception": false,
     "start_time": "2024-07-09T01:06:57.755718",
     "status": "completed"
    },
    "tags": []
   },
   "outputs": [],
   "source": [
    "class DecoderLayer(nn.Module):\n",
    "    \"\"\" Decoder is made up of a self-attention layer, a encoder-decoder attention\n",
    "        layer and a feed-forward layer.\n",
    "    \"\"\"\n",
    "\n",
    "    def __init__(self, d_model, n_heads, d_ff, dropout_rate=0.1):\n",
    "        super(DecoderLayer, self).__init__()\n",
    "        self.d_model = d_model\n",
    "        self.d_ff = d_ff\n",
    "        self.n_heads = n_heads\n",
    "        self.dropout_rate = dropout_rate\n",
    "\n",
    "        self.attn_layer = MultiHeadAttention(d_model, n_heads, dropout_rate)\n",
    "        self.attn_layer_norm = nn.LayerNorm(d_model, eps=1e-6)\n",
    "\n",
    "        self.enc_attn_layer = MultiHeadAttention(d_model, n_heads, dropout_rate)\n",
    "        self.enc_attn_layer_norm = nn.LayerNorm(d_model, eps=1e-6)\n",
    "\n",
    "        self.ff_layer = PositionwiseFeedForward(d_model, d_ff, dropout_rate)\n",
    "        self.ff_layer_norm = nn.LayerNorm(d_model, eps=1e-6)\n",
    "\n",
    "        self.dropout = nn.Dropout(dropout_rate)\n",
    "\n",
    "\n",
    "    def forward(self, x, memory, src_mask, tgt_mask):\n",
    "        \"\"\" x: (batch_size, target_seq_len, d_model)\n",
    "            memory: (batch_size, source_seq_len, d_model)\n",
    "            src_mask: (batch_size, 1, source_seq_len)\n",
    "            tgt_mask: (batch_size, target_seq_len, target_seq_len)\n",
    "        \"\"\"\n",
    "        # apply self-attention\n",
    "        x1, _ = self.attn_layer(x, x, x, tgt_mask)  # (batch_size, target_seq_len, d_model)\n",
    "\n",
    "        # apply residual connection followed by layer normalization\n",
    "        x = self.attn_layer_norm(x + self.dropout(x1))  # (batch_size, target_seq_len, d_model)\n",
    "\n",
    "        # apply encoder-decoder attention\n",
    "        # memory is the output from encoder block (encoder states)\n",
    "        x1, attn = self.enc_attn_layer(x, memory, memory, src_mask)\n",
    "\n",
    "        # x1: (batch_size, target_seq_len, d_model)\n",
    "        # attn: (batch_size, n_heads, target_seq_len, source_seq_len)\n",
    "\n",
    "        # apply residual connection followed by layer normalization\n",
    "        x = self.attn_layer_norm(x + self.dropout(x1))  # (batch_size, target_seq_len, d_model)\n",
    "\n",
    "        # apply position-wise feed-forward\n",
    "        x1 = self.ff_layer(x)  # (batch_size, target_seq_len, d_model)\n",
    "\n",
    "        # apply residual connection followed by layer normalization\n",
    "        x = self.ff_layer_norm(x + self.dropout(x1))  # (batch_size, target_seq_len, d_model)\n",
    "\n",
    "        # x: (batch_size, target_seq_len, d_model)\n",
    "        # attn: (batch_size, n_heads, target_seq_len, source_seq_len)\n",
    "        return x, attn"
   ]
  },
  {
   "cell_type": "code",
   "execution_count": 26,
   "id": "09d66fce",
   "metadata": {
    "execution": {
     "iopub.execute_input": "2024-07-09T01:06:57.830480Z",
     "iopub.status.busy": "2024-07-09T01:06:57.829826Z",
     "iopub.status.idle": "2024-07-09T01:06:57.839225Z",
     "shell.execute_reply": "2024-07-09T01:06:57.838381Z"
    },
    "papermill": {
     "duration": 0.032051,
     "end_time": "2024-07-09T01:06:57.841213",
     "exception": false,
     "start_time": "2024-07-09T01:06:57.809162",
     "status": "completed"
    },
    "tags": []
   },
   "outputs": [],
   "source": [
    "class Decoder(nn.Module):\n",
    "    \"\"\" Decoder block is a stack of N identical decoder layers.\n",
    "    \"\"\"\n",
    "\n",
    "    def __init__(self, vocab_size, d_model, n_layers, n_heads, d_ff, pad_idx, dropout_rate=0.1, max_len=200):\n",
    "        super(Decoder, self).__init__()\n",
    "        self.vocab_size = vocab_size\n",
    "        self.d_model = d_model\n",
    "        self.n_layers = n_layers\n",
    "        self.d_ff = d_ff\n",
    "        self.pad_idx = pad_idx\n",
    "        self.dropout_rate = dropout_rate\n",
    "        self.max_len = max_len\n",
    "\n",
    "        self.tok_embedding = nn.Embedding(vocab_size, d_model, padding_idx=pad_idx)\n",
    "        self.pos_embedding = PositionalEncoding(d_model, dropout_rate, max_len)\n",
    "        self.layers = nn.ModuleList([\n",
    "            DecoderLayer(d_model, n_heads, d_ff, dropout_rate)\n",
    "            for _ in range(n_layers)\n",
    "        ])\n",
    "        self.layer_norm = nn.LayerNorm(d_model, eps=1e-6)\n",
    "\n",
    "\n",
    "    def forward(self, x, memory, src_mask, tgt_mask):\n",
    "        \"\"\" x: (batch_size, target_seq_len, d_model)\n",
    "            memory: (batch_size, source_seq_len, d_model)\n",
    "            src_mask: (batch_size, 1, source_seq_len)\n",
    "            tgt_mask: (batch_size, target_seq_len, target_seq_len)\n",
    "        \"\"\"\n",
    "        # apply positional encoding to token sequences\n",
    "        x = self.tok_embedding(x)  # (batch_size, target_seq_len, d_model)\n",
    "        x = self.pos_embedding(x)  # (batch_size, target_seq_len, d_model)\n",
    "\n",
    "        for layer in self.layers:\n",
    "            x, attn = layer(x, memory, src_mask, tgt_mask)  # (batch_size, target_seq_len, d_model)\n",
    "\n",
    "        x = self.layer_norm(x)  # (batch_size, target_seq_len, d_model)\n",
    "\n",
    "        # x: (batch_size, target_seq_len, d_model)\n",
    "        # attn: (batch_size, n_heads, target_seq_len, source_seq_len)\n",
    "        return x, attn"
   ]
  },
  {
   "cell_type": "markdown",
   "id": "5c378d8d",
   "metadata": {
    "papermill": {
     "duration": 0.019545,
     "end_time": "2024-07-09T01:06:57.880215",
     "exception": false,
     "start_time": "2024-07-09T01:06:57.860670",
     "status": "completed"
    },
    "tags": []
   },
   "source": [
    "### Transformer"
   ]
  },
  {
   "cell_type": "markdown",
   "id": "d9f9e34c",
   "metadata": {
    "papermill": {
     "duration": 0.019403,
     "end_time": "2024-07-09T01:06:57.919813",
     "exception": false,
     "start_time": "2024-07-09T01:06:57.900410",
     "status": "completed"
    },
    "tags": []
   },
   "source": [
    "The input and output sequences are embedded into a $d_{model}$ dimensional space, which is the usual step before feeding the sequence into the neural network. Positional encoding is also applied to the embedded sequence, which gives a sense of order in the sequence. Encoder encodes the input sequence and generates encoded representation using self-attention mechanism. The decoder uses this representation along with the sequence generated so far to compute the output sequence.\n",
    "\n",
    "The Transformer returns the following:\n",
    "- `output`: output sequence generated\n",
    "- `attn`: alignment scores (attention weights) between input sequence and output sequence\n"
   ]
  },
  {
   "cell_type": "code",
   "execution_count": 27,
   "id": "8c2f0665",
   "metadata": {
    "execution": {
     "iopub.execute_input": "2024-07-09T01:06:57.961174Z",
     "iopub.status.busy": "2024-07-09T01:06:57.960338Z",
     "iopub.status.idle": "2024-07-09T01:06:57.970681Z",
     "shell.execute_reply": "2024-07-09T01:06:57.969793Z"
    },
    "papermill": {
     "duration": 0.033183,
     "end_time": "2024-07-09T01:06:57.972594",
     "exception": false,
     "start_time": "2024-07-09T01:06:57.939411",
     "status": "completed"
    },
    "tags": []
   },
   "outputs": [],
   "source": [
    "class Transformer(nn.Module):\n",
    "    \"\"\" Transformer wrapper for encoder and decoder.\n",
    "    \"\"\"\n",
    "\n",
    "    def __init__(self, encoder, decoder, generator, pad_idx):\n",
    "        super(Transformer, self).__init__()\n",
    "        self.pad_idx = pad_idx\n",
    "\n",
    "        self.encoder = encoder\n",
    "        self.decoder = decoder\n",
    "        self.generator = generator\n",
    "\n",
    "\n",
    "    def get_pad_mask(self, x, pad_idx=PAD_IDX):\n",
    "        \"\"\" x: (batch_size, seq_len)\n",
    "        \"\"\"\n",
    "        x = (x != pad_idx).unsqueeze(-2)  # (batch_size, 1, seq_len)\n",
    "\n",
    "        # x: (batch_size, 1, seq_len)\n",
    "        return x\n",
    "\n",
    "\n",
    "    def get_subsequent_mask(self, x):\n",
    "        \"\"\" x: (batch_size, seq_len)\n",
    "        \"\"\"\n",
    "        seq_len = x.size(1)\n",
    "        subsequent_mask = np.triu(np.ones((1, seq_len, seq_len)), k=1).astype(np.int8)  # (batch_size, seq_len, seq_len)\n",
    "        subsequent_mask = (torch.from_numpy(subsequent_mask) == 0).to(x.device)  # (batch_size, seq_len, seq_len)\n",
    "\n",
    "\n",
    "        # subsequent_mask: (batch_size, seq_len, seq_len)\n",
    "        return subsequent_mask\n",
    "\n",
    "\n",
    "    def forward(self, src, tgt):\n",
    "        \"\"\" src: (batch_size, source_seq_len)\n",
    "            tgt: (batch_size, target_seq_len)\n",
    "        \"\"\"\n",
    "        # create masks for source and target\n",
    "        src_mask = self.get_pad_mask(src, self.pad_idx)\n",
    "        tgt_mask = self.get_pad_mask(tgt, self.pad_idx) & self.get_subsequent_mask(tgt)\n",
    "\n",
    "        # src_mask: (batch_size, 1, seq_len)\n",
    "        # tgt_mask: (batch_size, seq_len, seq_len)\n",
    "\n",
    "        # encode the source sequence\n",
    "        enc_output = self.encoder(src, src_mask)  # (batch_size, source_seq_len, d_model)\n",
    "\n",
    "        # decode based on source sequence and target sequence generated so far\n",
    "        dec_output, attn = self.decoder(tgt, enc_output, src_mask, tgt_mask)\n",
    "\n",
    "        # dec_output: (batch_size, target_seq_len, d_model)\n",
    "        # attn: (batch_size, n_heads, target_seq_len, source_seq_len)\n",
    "\n",
    "        # apply linear projection to obtain the output distribution\n",
    "        output = self.generator(dec_output)  # (batch_size, target_seq_len, vocab_size)\n",
    "\n",
    "        # output: (batch_size, target_seq_len, vocab_size)\n",
    "        # attn: (batch_size, n_heads, target_seq_len, source_seq_len)\n",
    "        return output, attn"
   ]
  },
  {
   "cell_type": "code",
   "execution_count": 28,
   "id": "cf0bf3f2",
   "metadata": {
    "execution": {
     "iopub.execute_input": "2024-07-09T01:06:58.013666Z",
     "iopub.status.busy": "2024-07-09T01:06:58.013073Z",
     "iopub.status.idle": "2024-07-09T01:06:58.019088Z",
     "shell.execute_reply": "2024-07-09T01:06:58.018241Z"
    },
    "papermill": {
     "duration": 0.028992,
     "end_time": "2024-07-09T01:06:58.021068",
     "exception": false,
     "start_time": "2024-07-09T01:06:57.992076",
     "status": "completed"
    },
    "tags": []
   },
   "outputs": [],
   "source": [
    "class Generator(nn.Module):\n",
    "    \"\"\" Linear projection layer for generating output distribution.\n",
    "    \"\"\"\n",
    "\n",
    "    def __init__(self, d_model, vocab_size):\n",
    "        super(Generator, self).__init__()\n",
    "        self.proj = nn.Linear(d_model, vocab_size)\n",
    "\n",
    "\n",
    "    def forward(self, x):\n",
    "        \"\"\" x: (batch_size, target_seq_len, d_model)\n",
    "        \"\"\"\n",
    "        # apply linear projection followed by softmax to obtain output distribution\n",
    "        x = self.proj(x)  # (batch_size, target_seq_len, vocab_size)\n",
    "        output = F.log_softmax(x, dim=-1)  # (batch_size, target_seq_len)\n",
    "\n",
    "        # output: (batch_size, target_seq_len)\n",
    "        return output"
   ]
  },
  {
   "cell_type": "markdown",
   "id": "a738deaa",
   "metadata": {
    "papermill": {
     "duration": 0.019622,
     "end_time": "2024-07-09T01:06:58.060253",
     "exception": false,
     "start_time": "2024-07-09T01:06:58.040631",
     "status": "completed"
    },
    "tags": []
   },
   "source": [
    "## Helper Utilities"
   ]
  },
  {
   "cell_type": "code",
   "execution_count": 29,
   "id": "d38aba4f",
   "metadata": {
    "execution": {
     "iopub.execute_input": "2024-07-09T01:06:58.101286Z",
     "iopub.status.busy": "2024-07-09T01:06:58.100894Z",
     "iopub.status.idle": "2024-07-09T01:06:58.106053Z",
     "shell.execute_reply": "2024-07-09T01:06:58.105173Z"
    },
    "papermill": {
     "duration": 0.027835,
     "end_time": "2024-07-09T01:06:58.107923",
     "exception": false,
     "start_time": "2024-07-09T01:06:58.080088",
     "status": "completed"
    },
    "tags": []
   },
   "outputs": [],
   "source": [
    "def model_summary(model):\n",
    "    print(model)\n",
    "    print(f'# of trainable params: {sum(p.numel() for p in model.parameters() if p.requires_grad):,}')\n",
    "    print(f'# of non-trainable params: {sum(p.numel() for p in model.parameters() if not p.requires_grad):,}')"
   ]
  },
  {
   "cell_type": "code",
   "execution_count": 30,
   "id": "89e10f9b",
   "metadata": {
    "execution": {
     "iopub.execute_input": "2024-07-09T01:06:58.149129Z",
     "iopub.status.busy": "2024-07-09T01:06:58.148445Z",
     "iopub.status.idle": "2024-07-09T01:06:58.154117Z",
     "shell.execute_reply": "2024-07-09T01:06:58.153321Z"
    },
    "papermill": {
     "duration": 0.028004,
     "end_time": "2024-07-09T01:06:58.155985",
     "exception": false,
     "start_time": "2024-07-09T01:06:58.127981",
     "status": "completed"
    },
    "tags": []
   },
   "outputs": [],
   "source": [
    "def convert_ids_to_text(ids, vocab):\n",
    "    \"\"\" Converts token ids to text.\n",
    "    \"\"\"\n",
    "    if ids.dim() == 1:\n",
    "        ids = ids.tolist()\n",
    "        output_tokens = vocab.lookup_tokens(ids)\n",
    "        return output_tokens\n",
    "\n",
    "    elif ids.dim() == 2:\n",
    "        return [convert_ids_to_text(ids[i, :], vocab) for i in range(ids.size(0))]\n",
    "\n",
    "    raise RuntimeError(f'ids has {ids.size()} dimensions, expected 2 dimensions')"
   ]
  },
  {
   "cell_type": "code",
   "execution_count": 31,
   "id": "0ca97f75",
   "metadata": {
    "execution": {
     "iopub.execute_input": "2024-07-09T01:06:58.196196Z",
     "iopub.status.busy": "2024-07-09T01:06:58.195848Z",
     "iopub.status.idle": "2024-07-09T01:06:58.203636Z",
     "shell.execute_reply": "2024-07-09T01:06:58.202738Z"
    },
    "papermill": {
     "duration": 0.030403,
     "end_time": "2024-07-09T01:06:58.205695",
     "exception": false,
     "start_time": "2024-07-09T01:06:58.175292",
     "status": "completed"
    },
    "tags": []
   },
   "outputs": [],
   "source": [
    "class NoamOptim(object):\n",
    "    \"\"\" Optimizer wrapper for learning rate scheduling.\n",
    "    \"\"\"\n",
    "\n",
    "    def __init__(self, optimizer, d_model, factor, n_warmup_steps):\n",
    "        self.optimizer = optimizer\n",
    "        self.d_model = d_model\n",
    "        self.factor = factor\n",
    "        self.n_warmup_steps = n_warmup_steps\n",
    "        self.n_steps = 0\n",
    "\n",
    "\n",
    "    def zero_grad(self):\n",
    "        self.optimizer.zero_grad()\n",
    "\n",
    "\n",
    "    def step(self):\n",
    "        self.n_steps += 1\n",
    "        lr = self.get_lr()\n",
    "        for p in self.optimizer.param_groups:\n",
    "            p['lr'] = lr\n",
    "        self.optimizer.step()\n",
    "\n",
    "\n",
    "    def get_lr(self):\n",
    "        return self.factor * (\n",
    "            self.d_model ** (-0.5)\n",
    "            * min(self.n_steps ** (-0.5), self.n_steps * self.n_warmup_steps ** (-1.5))\n",
    "        )"
   ]
  },
  {
   "cell_type": "markdown",
   "id": "1b39ec4d",
   "metadata": {
    "papermill": {
     "duration": 0.019538,
     "end_time": "2024-07-09T01:06:58.245769",
     "exception": false,
     "start_time": "2024-07-09T01:06:58.226231",
     "status": "completed"
    },
    "tags": []
   },
   "source": [
    "## Training\n"
   ]
  },
  {
   "cell_type": "code",
   "execution_count": 32,
   "id": "ee204267",
   "metadata": {
    "execution": {
     "iopub.execute_input": "2024-07-09T01:06:58.286950Z",
     "iopub.status.busy": "2024-07-09T01:06:58.286131Z",
     "iopub.status.idle": "2024-07-09T01:06:58.295603Z",
     "shell.execute_reply": "2024-07-09T01:06:58.294727Z"
    },
    "papermill": {
     "duration": 0.032389,
     "end_time": "2024-07-09T01:06:58.297596",
     "exception": false,
     "start_time": "2024-07-09T01:06:58.265207",
     "status": "completed"
    },
    "tags": []
   },
   "outputs": [],
   "source": [
    "def train_fn(model, iterator, optimizer, critertion, clip=1.0):\n",
    "    model.train()\n",
    "    total_loss = 0\n",
    "    steps = 0\n",
    "\n",
    "    tk0 = tqdm(iterator, total=len(iterator), position=0, leave=True)\n",
    "    for idx, batch in enumerate(tk0):\n",
    "        source, target= batch\n",
    "        source, target = source.to(device), target.to(device)\n",
    "\n",
    "        # source: (batch_size, source_seq_len), source_lengths: (batch_size)\n",
    "        # target: (batch_size, target_seq_len), target_lengths: (batch_size)\n",
    "\n",
    "        # forward pass\n",
    "        optimizer.zero_grad()\n",
    "        output, _ = model(source, target[:, :-1])  # (batch_size, target_seq_len - 1, vocab_size)\n",
    "\n",
    "        # calculate the loss\n",
    "        loss = criterion(\n",
    "            output.view(-1, output.size(-1)),  # (batch_size * (target_seq_len - 1), vocab_size)\n",
    "            target[:, 1:].contiguous().view(-1)  # (batch_size * (target_seq_len - 1))\n",
    "        )\n",
    "        total_loss += loss.item()\n",
    "        steps += 1\n",
    "\n",
    "        output = output.argmax(dim=-1)  # (batch_size, target_seq_len - 1)\n",
    "\n",
    "        # backward pass\n",
    "        loss.backward()\n",
    "\n",
    "        # clip gradients to avoid exploding gradients issue\n",
    "        nn.utils.clip_grad_norm_(model.parameters(), clip)\n",
    "\n",
    "        # update model parameters\n",
    "        optimizer.step()\n",
    "\n",
    "        tk0.set_postfix(loss=total_loss/steps)\n",
    "\n",
    "    tk0.close()\n",
    "\n",
    "    perplexity = np.exp(total_loss / len(iterator))\n",
    "\n",
    "    return output, perplexity"
   ]
  },
  {
   "cell_type": "code",
   "execution_count": 33,
   "id": "c8c45c78",
   "metadata": {
    "execution": {
     "iopub.execute_input": "2024-07-09T01:06:58.339794Z",
     "iopub.status.busy": "2024-07-09T01:06:58.338965Z",
     "iopub.status.idle": "2024-07-09T01:06:58.350333Z",
     "shell.execute_reply": "2024-07-09T01:06:58.349436Z"
    },
    "papermill": {
     "duration": 0.034698,
     "end_time": "2024-07-09T01:06:58.352323",
     "exception": false,
     "start_time": "2024-07-09T01:06:58.317625",
     "status": "completed"
    },
    "tags": []
   },
   "outputs": [],
   "source": [
    "def eval_fn(model, iterator, criterion):\n",
    "    model.eval()\n",
    "    total_loss = 0.0\n",
    "    steps = 0\n",
    "    hypotheses = []\n",
    "    references = []\n",
    "\n",
    "    tk0 = tqdm(iterator, total=len(iterator), position=0, leave=True)\n",
    "\n",
    "    for idx, batch in enumerate(tk0):\n",
    "        with torch.no_grad():\n",
    "            source, target= batch\n",
    "            source, target = source.to(device), target.to(device)\n",
    "\n",
    "            # source: (batch_size, source_seq_len), source_lengths: (batch_size)\n",
    "            # target: (batch_size, target_seq_len), target_lengths: (batch_size)\n",
    "\n",
    "            # forward pass\n",
    "            optimizer.zero_grad()\n",
    "            output, _ = model(source, target[:, :-1])  # (batch_size, target_seq_len - 1, vocab_size)\n",
    "\n",
    "            # calculate the loss\n",
    "            loss = criterion(\n",
    "                output.view(-1, output.size(-1)),  # (batch_size * (target_seq_len - 1), vocab_size)\n",
    "                target[:, 1:].contiguous().view(-1)  # (batch_size * (target_seq_len - 1))\n",
    "            )\n",
    "            total_loss += loss.item()\n",
    "            steps += 1\n",
    "\n",
    "            output = output.argmax(dim=-1)  # (batch_size, target_seq_len - 1)\n",
    "            target = target[:, 1:]  # (batch_size, target_seq_len - 1)\n",
    "\n",
    "            # converting the ids to tokens (used later for calculating BLEU score)\n",
    "            pred_tokens = convert_ids_to_text(output, vocab_transform[TGT_LANGUAGE])\n",
    "            target_tokens = convert_ids_to_text(target, vocab_transform[TGT_LANGUAGE])\n",
    "\n",
    "            hypotheses += pred_tokens\n",
    "            references += [[token] for token in target_tokens]\n",
    "\n",
    "            tk0.set_postfix(loss=total_loss/steps)\n",
    "\n",
    "    tk0.close()\n",
    "\n",
    "    perplexity = np.exp(total_loss / len(iterator))\n",
    "    bleu4 = bleu_score(hypotheses, references)\n",
    "\n",
    "    return output, perplexity, bleu4"
   ]
  },
  {
   "cell_type": "code",
   "execution_count": 34,
   "id": "afcab9c0",
   "metadata": {
    "execution": {
     "iopub.execute_input": "2024-07-09T01:06:58.393692Z",
     "iopub.status.busy": "2024-07-09T01:06:58.392899Z",
     "iopub.status.idle": "2024-07-09T01:06:58.398168Z",
     "shell.execute_reply": "2024-07-09T01:06:58.397284Z"
    },
    "papermill": {
     "duration": 0.028077,
     "end_time": "2024-07-09T01:06:58.400168",
     "exception": false,
     "start_time": "2024-07-09T01:06:58.372091",
     "status": "completed"
    },
    "tags": []
   },
   "outputs": [],
   "source": [
    "# hyperparameters\n",
    "INPUT_SIZE = len(vocab_transform[SRC_LANGUAGE])  # source vocab size\n",
    "OUTPUT_SIZE = len(vocab_transform[TGT_LANGUAGE])  # target vocab size\n",
    "HIDDEN_SIZE = 512\n",
    "N_LAYERS = 6\n",
    "N_HEADS = 8\n",
    "FF_SIZE = 2048\n",
    "DROPOUT_RATE = 0.1\n",
    "N_EPOCHS = 10\n",
    "CLIP = 1.0"
   ]
  },
  {
   "cell_type": "code",
   "execution_count": 35,
   "id": "53206533",
   "metadata": {
    "execution": {
     "iopub.execute_input": "2024-07-09T01:06:58.441873Z",
     "iopub.status.busy": "2024-07-09T01:06:58.441200Z",
     "iopub.status.idle": "2024-07-09T01:06:59.845375Z",
     "shell.execute_reply": "2024-07-09T01:06:59.844474Z"
    },
    "papermill": {
     "duration": 1.427532,
     "end_time": "2024-07-09T01:06:59.847637",
     "exception": false,
     "start_time": "2024-07-09T01:06:58.420105",
     "status": "completed"
    },
    "tags": []
   },
   "outputs": [
    {
     "name": "stdout",
     "output_type": "stream",
     "text": [
      "Transformer(\n",
      "  (encoder): Encoder(\n",
      "    (tok_embedding): Embedding(72265, 512, padding_idx=1)\n",
      "    (pos_embedding): PositionalEncoding(\n",
      "      (dropout): Dropout(p=0.1, inplace=False)\n",
      "    )\n",
      "    (layers): ModuleList(\n",
      "      (0-5): 6 x EncoderLayer(\n",
      "        (attn_layer): MultiHeadAttention(\n",
      "          (W_q): Linear(in_features=512, out_features=512, bias=False)\n",
      "          (W_k): Linear(in_features=512, out_features=512, bias=False)\n",
      "          (W_v): Linear(in_features=512, out_features=512, bias=False)\n",
      "          (W_o): Linear(in_features=512, out_features=512, bias=True)\n",
      "          (attention): ScaledDotProductAttention(\n",
      "            (dropout): Dropout(p=0.1, inplace=False)\n",
      "          )\n",
      "        )\n",
      "        (attn_layer_norm): LayerNorm((512,), eps=1e-06, elementwise_affine=True)\n",
      "        (ff_layer): PositionwiseFeedForward(\n",
      "          (w_1): Linear(in_features=512, out_features=2048, bias=True)\n",
      "          (w_2): Linear(in_features=2048, out_features=512, bias=True)\n",
      "          (dropout): Dropout(p=0.1, inplace=False)\n",
      "        )\n",
      "        (ff_layer_norm): LayerNorm((512,), eps=1e-06, elementwise_affine=True)\n",
      "        (dropout): Dropout(p=0.1, inplace=False)\n",
      "      )\n",
      "    )\n",
      "    (layer_norm): LayerNorm((512,), eps=1e-06, elementwise_affine=True)\n",
      "  )\n",
      "  (decoder): Decoder(\n",
      "    (tok_embedding): Embedding(44541, 512, padding_idx=1)\n",
      "    (pos_embedding): PositionalEncoding(\n",
      "      (dropout): Dropout(p=0.1, inplace=False)\n",
      "    )\n",
      "    (layers): ModuleList(\n",
      "      (0-5): 6 x DecoderLayer(\n",
      "        (attn_layer): MultiHeadAttention(\n",
      "          (W_q): Linear(in_features=512, out_features=512, bias=False)\n",
      "          (W_k): Linear(in_features=512, out_features=512, bias=False)\n",
      "          (W_v): Linear(in_features=512, out_features=512, bias=False)\n",
      "          (W_o): Linear(in_features=512, out_features=512, bias=True)\n",
      "          (attention): ScaledDotProductAttention(\n",
      "            (dropout): Dropout(p=0.1, inplace=False)\n",
      "          )\n",
      "        )\n",
      "        (attn_layer_norm): LayerNorm((512,), eps=1e-06, elementwise_affine=True)\n",
      "        (enc_attn_layer): MultiHeadAttention(\n",
      "          (W_q): Linear(in_features=512, out_features=512, bias=False)\n",
      "          (W_k): Linear(in_features=512, out_features=512, bias=False)\n",
      "          (W_v): Linear(in_features=512, out_features=512, bias=False)\n",
      "          (W_o): Linear(in_features=512, out_features=512, bias=True)\n",
      "          (attention): ScaledDotProductAttention(\n",
      "            (dropout): Dropout(p=0.1, inplace=False)\n",
      "          )\n",
      "        )\n",
      "        (enc_attn_layer_norm): LayerNorm((512,), eps=1e-06, elementwise_affine=True)\n",
      "        (ff_layer): PositionwiseFeedForward(\n",
      "          (w_1): Linear(in_features=512, out_features=2048, bias=True)\n",
      "          (w_2): Linear(in_features=2048, out_features=512, bias=True)\n",
      "          (dropout): Dropout(p=0.1, inplace=False)\n",
      "        )\n",
      "        (ff_layer_norm): LayerNorm((512,), eps=1e-06, elementwise_affine=True)\n",
      "        (dropout): Dropout(p=0.1, inplace=False)\n",
      "      )\n",
      "    )\n",
      "    (layer_norm): LayerNorm((512,), eps=1e-06, elementwise_affine=True)\n",
      "  )\n",
      "  (generator): Generator(\n",
      "    (proj): Linear(in_features=512, out_features=44541, bias=True)\n",
      "  )\n",
      ")\n",
      "# of trainable params: 126,767,101\n",
      "# of non-trainable params: 0\n"
     ]
    }
   ],
   "source": [
    "device = torch.device('cuda') if torch.cuda.is_available() else torch.device('cpu')\n",
    "encoder = Encoder(INPUT_SIZE, HIDDEN_SIZE, N_LAYERS, N_HEADS, FF_SIZE, PAD_IDX, DROPOUT_RATE)\n",
    "decoder = Decoder(OUTPUT_SIZE, HIDDEN_SIZE, N_LAYERS, N_HEADS, FF_SIZE, PAD_IDX, DROPOUT_RATE)\n",
    "generator = Generator(HIDDEN_SIZE, OUTPUT_SIZE)\n",
    "\n",
    "model = Transformer(encoder, decoder, generator, PAD_IDX).to(device)\n",
    "model_summary(model)"
   ]
  },
  {
   "cell_type": "code",
   "execution_count": 36,
   "id": "569629cb",
   "metadata": {
    "execution": {
     "iopub.execute_input": "2024-07-09T01:06:59.888694Z",
     "iopub.status.busy": "2024-07-09T01:06:59.888306Z",
     "iopub.status.idle": "2024-07-09T01:06:59.903153Z",
     "shell.execute_reply": "2024-07-09T01:06:59.902415Z"
    },
    "papermill": {
     "duration": 0.037677,
     "end_time": "2024-07-09T01:06:59.905267",
     "exception": false,
     "start_time": "2024-07-09T01:06:59.867590",
     "status": "completed"
    },
    "tags": []
   },
   "outputs": [],
   "source": [
    "for params in model.parameters():\n",
    "    if params.dim() > 1:\n",
    "        nn.init.xavier_uniform_(params)"
   ]
  },
  {
   "cell_type": "code",
   "execution_count": 37,
   "id": "781e48bf",
   "metadata": {
    "execution": {
     "iopub.execute_input": "2024-07-09T01:06:59.946796Z",
     "iopub.status.busy": "2024-07-09T01:06:59.946403Z",
     "iopub.status.idle": "2024-07-09T01:07:00.736649Z",
     "shell.execute_reply": "2024-07-09T01:07:00.735734Z"
    },
    "papermill": {
     "duration": 0.81343,
     "end_time": "2024-07-09T01:07:00.739088",
     "exception": false,
     "start_time": "2024-07-09T01:06:59.925658",
     "status": "completed"
    },
    "tags": []
   },
   "outputs": [],
   "source": [
    "optimizer = NoamOptim(\n",
    "    optim.Adam(model.parameters(), lr=1e-4, betas=(0.9, 0.98), eps=1e-9),\n",
    "    model.encoder.d_model, 2, 4000\n",
    ")"
   ]
  },
  {
   "cell_type": "code",
   "execution_count": 38,
   "id": "fc98efa5",
   "metadata": {
    "execution": {
     "iopub.execute_input": "2024-07-09T01:07:00.782217Z",
     "iopub.status.busy": "2024-07-09T01:07:00.781631Z",
     "iopub.status.idle": "2024-07-09T01:07:00.786120Z",
     "shell.execute_reply": "2024-07-09T01:07:00.785400Z"
    },
    "papermill": {
     "duration": 0.027807,
     "end_time": "2024-07-09T01:07:00.787947",
     "exception": false,
     "start_time": "2024-07-09T01:07:00.760140",
     "status": "completed"
    },
    "tags": []
   },
   "outputs": [],
   "source": [
    "criterion = nn.CrossEntropyLoss(ignore_index=PAD_IDX)"
   ]
  },
  {
   "cell_type": "code",
   "execution_count": 39,
   "id": "f55ca3f5",
   "metadata": {
    "execution": {
     "iopub.execute_input": "2024-07-09T01:07:00.828932Z",
     "iopub.status.busy": "2024-07-09T01:07:00.828191Z",
     "iopub.status.idle": "2024-07-09T01:07:00.832299Z",
     "shell.execute_reply": "2024-07-09T01:07:00.831478Z"
    },
    "papermill": {
     "duration": 0.026581,
     "end_time": "2024-07-09T01:07:00.834252",
     "exception": false,
     "start_time": "2024-07-09T01:07:00.807671",
     "status": "completed"
    },
    "tags": []
   },
   "outputs": [],
   "source": [
    "#torch.save(vocab_transform, \"vocab_transform.pt\")\n",
    "#torch.save(token_transform, \"token_transform.pt\")\n",
    "#torch.save(train_set_transform, \"train_set_transform.pt\")\n",
    "#torch.save(val_set_transform, \"val_set_transform.pt\")\n",
    "#torch.save(test_set_transform, \"test_set_transform.pt\")"
   ]
  },
  {
   "cell_type": "code",
   "execution_count": 40,
   "id": "4ebdd91f",
   "metadata": {
    "execution": {
     "iopub.execute_input": "2024-07-09T01:07:00.875717Z",
     "iopub.status.busy": "2024-07-09T01:07:00.875334Z",
     "iopub.status.idle": "2024-07-09T05:05:42.381166Z",
     "shell.execute_reply": "2024-07-09T05:05:42.380262Z"
    },
    "papermill": {
     "duration": 14321.55103,
     "end_time": "2024-07-09T05:05:42.405223",
     "exception": false,
     "start_time": "2024-07-09T01:07:00.854193",
     "status": "completed"
    },
    "tags": []
   },
   "outputs": [
    {
     "data": {
      "application/vnd.jupyter.widget-view+json": {
       "model_id": "12c732cd9a4c45479c5a2223c1836bba",
       "version_major": 2,
       "version_minor": 0
      },
      "text/plain": [
       "  0%|          | 0/5313 [00:00<?, ?it/s]"
      ]
     },
     "metadata": {},
     "output_type": "display_data"
    },
    {
     "data": {
      "application/vnd.jupyter.widget-view+json": {
       "model_id": "c315422a93c943b094f58d4d22a08b61",
       "version_major": 2,
       "version_minor": 0
      },
      "text/plain": [
       "  0%|          | 0/664 [00:00<?, ?it/s]"
      ]
     },
     "metadata": {},
     "output_type": "display_data"
    },
    {
     "name": "stdout",
     "output_type": "stream",
     "text": [
      "Epoch: 0, Train perplexity: 984.8064, Valid perplexity: 882.8354, Valid BLEU4: 0.0000\n",
      "BLEU score improved (-inf -> 0.0000). Saving Model!\n"
     ]
    },
    {
     "data": {
      "application/vnd.jupyter.widget-view+json": {
       "model_id": "7cce1ba798c243dbb737605f15306566",
       "version_major": 2,
       "version_minor": 0
      },
      "text/plain": [
       "  0%|          | 0/5313 [00:00<?, ?it/s]"
      ]
     },
     "metadata": {},
     "output_type": "display_data"
    },
    {
     "data": {
      "application/vnd.jupyter.widget-view+json": {
       "model_id": "23aff95ca2e84ba1a3e194545ba04075",
       "version_major": 2,
       "version_minor": 0
      },
      "text/plain": [
       "  0%|          | 0/664 [00:00<?, ?it/s]"
      ]
     },
     "metadata": {},
     "output_type": "display_data"
    },
    {
     "name": "stdout",
     "output_type": "stream",
     "text": [
      "Epoch: 1, Train perplexity: 829.1160, Valid perplexity: 1002.4242, Valid BLEU4: 0.0000\n",
      "Early stopping counter: 1 out of 4\n"
     ]
    },
    {
     "data": {
      "application/vnd.jupyter.widget-view+json": {
       "model_id": "97210fa784d448cbb412225d9299f69c",
       "version_major": 2,
       "version_minor": 0
      },
      "text/plain": [
       "  0%|          | 0/5313 [00:00<?, ?it/s]"
      ]
     },
     "metadata": {},
     "output_type": "display_data"
    },
    {
     "data": {
      "application/vnd.jupyter.widget-view+json": {
       "model_id": "9cc08dad79a94b359ae88e900442fd59",
       "version_major": 2,
       "version_minor": 0
      },
      "text/plain": [
       "  0%|          | 0/664 [00:00<?, ?it/s]"
      ]
     },
     "metadata": {},
     "output_type": "display_data"
    },
    {
     "name": "stdout",
     "output_type": "stream",
     "text": [
      "Epoch: 2, Train perplexity: 811.6767, Valid perplexity: 1119.5873, Valid BLEU4: 0.0000\n",
      "Early stopping counter: 2 out of 4\n"
     ]
    },
    {
     "data": {
      "application/vnd.jupyter.widget-view+json": {
       "model_id": "2b85accc81c047888bae13a2ea74e9d4",
       "version_major": 2,
       "version_minor": 0
      },
      "text/plain": [
       "  0%|          | 0/5313 [00:00<?, ?it/s]"
      ]
     },
     "metadata": {},
     "output_type": "display_data"
    },
    {
     "data": {
      "application/vnd.jupyter.widget-view+json": {
       "model_id": "6324535609214d739962a19c9bb2c9d9",
       "version_major": 2,
       "version_minor": 0
      },
      "text/plain": [
       "  0%|          | 0/664 [00:00<?, ?it/s]"
      ]
     },
     "metadata": {},
     "output_type": "display_data"
    },
    {
     "name": "stdout",
     "output_type": "stream",
     "text": [
      "Epoch: 3, Train perplexity: 815.1349, Valid perplexity: 1085.1098, Valid BLEU4: 0.0000\n",
      "Early stopping counter: 3 out of 4\n"
     ]
    },
    {
     "data": {
      "application/vnd.jupyter.widget-view+json": {
       "model_id": "0884b9f477494d8dbfce157c2e995fb1",
       "version_major": 2,
       "version_minor": 0
      },
      "text/plain": [
       "  0%|          | 0/5313 [00:00<?, ?it/s]"
      ]
     },
     "metadata": {},
     "output_type": "display_data"
    },
    {
     "data": {
      "application/vnd.jupyter.widget-view+json": {
       "model_id": "2183699f0bf24888b877c2c67f83bf1d",
       "version_major": 2,
       "version_minor": 0
      },
      "text/plain": [
       "  0%|          | 0/664 [00:00<?, ?it/s]"
      ]
     },
     "metadata": {},
     "output_type": "display_data"
    },
    {
     "name": "stdout",
     "output_type": "stream",
     "text": [
      "Epoch: 4, Train perplexity: 819.3444, Valid perplexity: 1264.4765, Valid BLEU4: 0.0000\n",
      "Early stopping counter: 4 out of 4\n",
      "Early stopping! Best BLEU4: 0.0000\n"
     ]
    }
   ],
   "source": [
    "best_bleu4 = float('-inf')\n",
    "es_patience = 4\n",
    "patience = 0\n",
    "model_path = 'model.pth'\n",
    "\n",
    "\n",
    "for epoch in range(0, N_EPOCHS + 1):\n",
    "    t_loader = train_loader\n",
    "    v_loader = val_loader\n",
    "    # one epoch training\n",
    "    out, train_perplexity = train_fn(model, t_loader, optimizer, criterion, CLIP)\n",
    "\n",
    "    # one epoch validation\n",
    "    out, val_perplexity, val_bleu4 = eval_fn(model, v_loader, criterion)\n",
    "\n",
    "    print(f'Epoch: {epoch}, Train perplexity: {train_perplexity:.4f}, Valid perplexity: {val_perplexity:.4f}, Valid BLEU4: {val_bleu4:.4f}')\n",
    "\n",
    "    # early stopping\n",
    "    is_best = val_bleu4 > best_bleu4\n",
    "    if is_best:\n",
    "        print(f'BLEU score improved ({best_bleu4:.4f} -> {val_bleu4:.4f}). Saving Model!')\n",
    "        best_bleu4 = val_bleu4\n",
    "        patience = 0\n",
    "        torch.save(model.state_dict(), model_path)\n",
    "    else:\n",
    "        patience += 1\n",
    "        print(f'Early stopping counter: {patience} out of {es_patience}')\n",
    "        if patience == es_patience:\n",
    "            print(f'Early stopping! Best BLEU4: {best_bleu4:.4f}')\n",
    "            break"
   ]
  },
  {
   "cell_type": "code",
   "execution_count": 41,
   "id": "479de1e2",
   "metadata": {
    "execution": {
     "iopub.execute_input": "2024-07-09T05:05:42.450055Z",
     "iopub.status.busy": "2024-07-09T05:05:42.449730Z",
     "iopub.status.idle": "2024-07-09T05:08:11.461277Z",
     "shell.execute_reply": "2024-07-09T05:08:11.460152Z"
    },
    "papermill": {
     "duration": 149.058769,
     "end_time": "2024-07-09T05:08:11.485579",
     "exception": false,
     "start_time": "2024-07-09T05:05:42.426810",
     "status": "completed"
    },
    "tags": []
   },
   "outputs": [
    {
     "name": "stdout",
     "output_type": "stream",
     "text": [
      "Evaluating the model on test data ...\n"
     ]
    },
    {
     "data": {
      "application/vnd.jupyter.widget-view+json": {
       "model_id": "6b2024267fc540f49d09f3837dd495bc",
       "version_major": 2,
       "version_minor": 0
      },
      "text/plain": [
       "  0%|          | 0/665 [00:00<?, ?it/s]"
      ]
     },
     "metadata": {},
     "output_type": "display_data"
    },
    {
     "name": "stdout",
     "output_type": "stream",
     "text": [
      "Test perplexity: 1260.1569, Test BlEU4: 0.0000\n"
     ]
    }
   ],
   "source": [
    "# evaluate the model on test data\n",
    "test_loader = DataLoader(test_set, batch_size, shuffle=False)\n",
    "test_iterator = iter(test_loader)\n",
    "#model.load_state_dict(torch.load(model_path, map_location=device))\n",
    "\n",
    "print('Evaluating the model on test data ...')\n",
    "out, test_perplexity, test_bleu4 = eval_fn(model, test_iterator, criterion)\n",
    "print(f'Test perplexity: {test_perplexity:.4f}, Test BlEU4: {test_bleu4:.4f}')"
   ]
  },
  {
   "cell_type": "markdown",
   "id": "60fa0f58",
   "metadata": {
    "papermill": {
     "duration": 0.021786,
     "end_time": "2024-07-09T05:08:11.600334",
     "exception": false,
     "start_time": "2024-07-09T05:08:11.578548",
     "status": "completed"
    },
    "tags": []
   },
   "source": [
    "## Inference"
   ]
  },
  {
   "cell_type": "code",
   "execution_count": 42,
   "id": "6772e8ae",
   "metadata": {
    "execution": {
     "iopub.execute_input": "2024-07-09T05:08:11.645893Z",
     "iopub.status.busy": "2024-07-09T05:08:11.645376Z",
     "iopub.status.idle": "2024-07-09T05:08:11.657441Z",
     "shell.execute_reply": "2024-07-09T05:08:11.656536Z"
    },
    "papermill": {
     "duration": 0.037326,
     "end_time": "2024-07-09T05:08:11.659462",
     "exception": false,
     "start_time": "2024-07-09T05:08:11.622136",
     "status": "completed"
    },
    "tags": []
   },
   "outputs": [],
   "source": [
    "def greedy_decode(model, sentence, max_len=100):\n",
    "    model.eval()\n",
    "\n",
    "    tokens = token_transform[SRC_LANGUAGE](str(sentence))\n",
    "\n",
    "    token_ids = [BOS_IDX] + vocab_transform[SRC_LANGUAGE](tokens) + [EOS_IDX]\n",
    "\n",
    "    source = torch.tensor(token_ids, dtype=torch.long).unsqueeze(0).to(device)  # (1, source_seq_len)\n",
    "    source_mask = model.get_pad_mask(source, PAD_IDX)  # (1, 1, source_seq_len)\n",
    "\n",
    "    # encode the source sequence\n",
    "    with torch.no_grad():\n",
    "        enc_output = model.encoder(source, source_mask)  # (1, source_seq_len, d_model)\n",
    "\n",
    "    target_ids = [BOS_IDX]\n",
    "\n",
    "    for i in range(max_len):\n",
    "        target = torch.tensor(target_ids, dtype=torch.long).unsqueeze(0).to(device)  # (1, target_seq_len)\n",
    "        target_mask = model.get_pad_mask(target, PAD_IDX) & model.get_subsequent_mask(target)\n",
    "\n",
    "        # decode the sequence\n",
    "        with torch.no_grad():\n",
    "            dec_output, attn = model.decoder(target, enc_output, source_mask, target_mask)\n",
    "\n",
    "            # dec_output: (1, target_seq_len, d_model)\n",
    "            # attn: (1, n_heads, target_seq_len, source_seq_len)\n",
    "\n",
    "            output = model.generator(dec_output)  # (1, target_seq_len, vocab_size)\n",
    "\n",
    "        target_id = output.argmax(dim=-1)[:, -1].item()\n",
    "        target_ids.append(target_id)\n",
    "\n",
    "        # stop decoding if we encounter EOS_TOKEN or reach the max length\n",
    "        if target_id == EOS_IDX or len(target_ids) >= max_len:\n",
    "            break\n",
    "\n",
    "    target_tokens = vocab_transform[TGT_LANGUAGE].lookup_tokens(target_ids)\n",
    "    attn = attn.squeeze(0).cpu().detach().numpy()  # (n_heads, target_seq_len, source_seq_len)\n",
    "\n",
    "    # target_tokens: list of size (target_seq_len - 1)\n",
    "    # attn: (n_heads, target_seq_len, source_seq_len)\n",
    "\n",
    "    return target_tokens[1:], attn"
   ]
  },
  {
   "cell_type": "code",
   "execution_count": 43,
   "id": "c9b209d6",
   "metadata": {
    "execution": {
     "iopub.execute_input": "2024-07-09T05:08:11.704259Z",
     "iopub.status.busy": "2024-07-09T05:08:11.703986Z",
     "iopub.status.idle": "2024-07-09T05:08:11.748295Z",
     "shell.execute_reply": "2024-07-09T05:08:11.747361Z"
    },
    "papermill": {
     "duration": 0.068919,
     "end_time": "2024-07-09T05:08:11.750176",
     "exception": false,
     "start_time": "2024-07-09T05:08:11.681257",
     "status": "completed"
    },
    "tags": []
   },
   "outputs": [
    {
     "name": "stdout",
     "output_type": "stream",
     "text": [
      "source: 应该认识到，现在的程序让一些个体和群体陷入了贫困，剥夺了他们的基本公民权利\n",
      "\n",
      "predicted: []\n",
      "\n"
     ]
    }
   ],
   "source": [
    "sentence = \"应该认识到，现在的程序让一些个体和群体陷入了贫困，剥夺了他们的基本公民权利\"\n",
    "predicted, attention = greedy_decode(model, sentence)\n",
    "\n",
    "print(f'source: {sentence}\\n')\n",
    "print(f'predicted: {predicted[:-1]}\\n')"
   ]
  },
  {
   "cell_type": "code",
   "execution_count": 44,
   "id": "5758bf20",
   "metadata": {
    "execution": {
     "iopub.execute_input": "2024-07-09T05:08:11.795724Z",
     "iopub.status.busy": "2024-07-09T05:08:11.795443Z",
     "iopub.status.idle": "2024-07-09T05:08:49.042868Z",
     "shell.execute_reply": "2024-07-09T05:08:49.041745Z"
    },
    "papermill": {
     "duration": 37.272473,
     "end_time": "2024-07-09T05:08:49.045171",
     "exception": false,
     "start_time": "2024-07-09T05:08:11.772698",
     "status": "completed"
    },
    "tags": []
   },
   "outputs": [
    {
     "name": "stdout",
     "output_type": "stream",
     "text": [
      "Collecting git+https://github.com/Hsins/mpl-tc-fonts.git\r\n",
      "  Cloning https://github.com/Hsins/mpl-tc-fonts.git to /tmp/pip-req-build-zqpzcrgr\r\n",
      "  Running command git clone --filter=blob:none --quiet https://github.com/Hsins/mpl-tc-fonts.git /tmp/pip-req-build-zqpzcrgr\r\n",
      "  Resolved https://github.com/Hsins/mpl-tc-fonts.git to commit 0cc159a2dbf1eb199f0bd847eabfee75403346b6\r\n",
      "  Preparing metadata (setup.py) ... \u001b[?25l-\b \bdone\r\n",
      "\u001b[?25hRequirement already satisfied: matplotlib in /opt/conda/lib/python3.10/site-packages (from mpl-tc-fonts==1.0.1) (3.7.5)\r\n",
      "Requirement already satisfied: fontTools in /opt/conda/lib/python3.10/site-packages (from mpl-tc-fonts==1.0.1) (4.47.0)\r\n",
      "Requirement already satisfied: contourpy>=1.0.1 in /opt/conda/lib/python3.10/site-packages (from matplotlib->mpl-tc-fonts==1.0.1) (1.2.0)\r\n",
      "Requirement already satisfied: cycler>=0.10 in /opt/conda/lib/python3.10/site-packages (from matplotlib->mpl-tc-fonts==1.0.1) (0.12.1)\r\n",
      "Requirement already satisfied: kiwisolver>=1.0.1 in /opt/conda/lib/python3.10/site-packages (from matplotlib->mpl-tc-fonts==1.0.1) (1.4.5)\r\n",
      "Requirement already satisfied: numpy<2,>=1.20 in /opt/conda/lib/python3.10/site-packages (from matplotlib->mpl-tc-fonts==1.0.1) (1.26.4)\r\n",
      "Requirement already satisfied: packaging>=20.0 in /opt/conda/lib/python3.10/site-packages (from matplotlib->mpl-tc-fonts==1.0.1) (21.3)\r\n",
      "Requirement already satisfied: pillow>=6.2.0 in /opt/conda/lib/python3.10/site-packages (from matplotlib->mpl-tc-fonts==1.0.1) (9.5.0)\r\n",
      "Requirement already satisfied: pyparsing>=2.3.1 in /opt/conda/lib/python3.10/site-packages (from matplotlib->mpl-tc-fonts==1.0.1) (3.1.1)\r\n",
      "Requirement already satisfied: python-dateutil>=2.7 in /opt/conda/lib/python3.10/site-packages (from matplotlib->mpl-tc-fonts==1.0.1) (2.9.0.post0)\r\n",
      "Requirement already satisfied: six>=1.5 in /opt/conda/lib/python3.10/site-packages (from python-dateutil>=2.7->matplotlib->mpl-tc-fonts==1.0.1) (1.16.0)\r\n",
      "Building wheels for collected packages: mpl-tc-fonts\r\n",
      "  Building wheel for mpl-tc-fonts (setup.py) ... \u001b[?25l-\b \b\\\b \bdone\r\n",
      "\u001b[?25h  Created wheel for mpl-tc-fonts: filename=mpl_tc_fonts-1.0.1-py3-none-any.whl size=133579071 sha256=a3332d25a654f2c4f31b0664d3264e3bddfc340251d327e04ee23f1a87b5ee15\r\n",
      "  Stored in directory: /tmp/pip-ephem-wheel-cache-3v11g7kz/wheels/a4/81/c6/7c1e397a0414d972bb2b620a097493da607ede8d186f7f690b\r\n",
      "Successfully built mpl-tc-fonts\r\n",
      "Installing collected packages: mpl-tc-fonts\r\n",
      "Successfully installed mpl-tc-fonts-1.0.1\r\n"
     ]
    }
   ],
   "source": [
    "# To show chinese character\n",
    "!pip install git+https://github.com/Hsins/mpl-tc-fonts.git"
   ]
  },
  {
   "cell_type": "code",
   "execution_count": 45,
   "id": "0c27b61e",
   "metadata": {
    "execution": {
     "iopub.execute_input": "2024-07-09T05:08:49.093985Z",
     "iopub.status.busy": "2024-07-09T05:08:49.093675Z",
     "iopub.status.idle": "2024-07-09T05:08:49.109769Z",
     "shell.execute_reply": "2024-07-09T05:08:49.109060Z"
    },
    "papermill": {
     "duration": 0.042593,
     "end_time": "2024-07-09T05:08:49.111663",
     "exception": false,
     "start_time": "2024-07-09T05:08:49.069070",
     "status": "completed"
    },
    "tags": []
   },
   "outputs": [],
   "source": [
    "# plot style configuration\n",
    "%matplotlib inline\n",
    "%config InlineBackend.figure_format = 'retina'\n",
    "\n",
    "sns.set(style='whitegrid', palette='muted', font_scale=0.8)\n",
    "\n",
    "rcParams['figure.figsize'] = 12, 8"
   ]
  },
  {
   "cell_type": "code",
   "execution_count": 46,
   "id": "c7baf06a",
   "metadata": {
    "execution": {
     "iopub.execute_input": "2024-07-09T05:08:49.159716Z",
     "iopub.status.busy": "2024-07-09T05:08:49.159410Z",
     "iopub.status.idle": "2024-07-09T05:08:49.166703Z",
     "shell.execute_reply": "2024-07-09T05:08:49.165896Z"
    },
    "papermill": {
     "duration": 0.033542,
     "end_time": "2024-07-09T05:08:49.168546",
     "exception": false,
     "start_time": "2024-07-09T05:08:49.135004",
     "status": "completed"
    },
    "tags": []
   },
   "outputs": [],
   "source": [
    "def plot_attention_scores(source, target, attention):\n",
    "    import mpl_tc_fonts\n",
    "    mpl_tc_fonts.set_font('Noto Sans CJK TC')\n",
    "    n_heads = attention.shape[0]\n",
    "    tokens = token_transform[SRC_LANGUAGE](str(source))\n",
    "    source = vocab_transform[SRC_LANGUAGE](tokens)\n",
    "    source =  source + [EOS_IDX]\n",
    "    source = vocab_transform[SRC_LANGUAGE].lookup_tokens(source)\n",
    "\n",
    "    fig = plt.figure(figsize=(24, 12))\n",
    "\n",
    "    for h, head in enumerate(attention):\n",
    "        ax = fig.add_subplot(2, 4, h + 1)\n",
    "        x = source\n",
    "        y = target if h % 4 == 0 else []\n",
    "\n",
    "        sns.heatmap(\n",
    "            head, xticklabels=x, yticklabels=y, square=True,\n",
    "            vmin=0.0, vmax=1.0, cbar=False, cmap=\"Blues\", ax=ax,\n",
    "        )"
   ]
  },
  {
   "cell_type": "code",
   "execution_count": 47,
   "id": "5bc023f8",
   "metadata": {
    "execution": {
     "iopub.execute_input": "2024-07-09T05:08:49.215331Z",
     "iopub.status.busy": "2024-07-09T05:08:49.215090Z",
     "iopub.status.idle": "2024-07-09T05:08:56.507630Z",
     "shell.execute_reply": "2024-07-09T05:08:56.506733Z"
    },
    "papermill": {
     "duration": 7.318583,
     "end_time": "2024-07-09T05:08:56.510035",
     "exception": false,
     "start_time": "2024-07-09T05:08:49.191452",
     "status": "completed"
    },
    "tags": []
   },
   "outputs": [
    {
     "name": "stdout",
     "output_type": "stream",
     "text": [
      "source: 巴黎-随着经济危机不断加深和蔓延，整个世界一直在寻找历史上的类似事件希望有助于我们了解目前正在发生的情况。 \n",
      "\n",
      "target: paris – as the economic crisis deepens and widens, the world has been searching for historical analogies to help us understand what has been happening. \n",
      "\n",
      "predicted: ['<eos>']\n",
      "\n"
     ]
    },
    {
     "data": {
      "image/png": "[encoded data removed]",
      "text/plain": [
       "<Figure size 2400x1200 with 8 Axes>"
      ]
     },
     "metadata": {
      "image/png": {
       "height": 596,
       "width": 1906
      }
     },
     "output_type": "display_data"
    }
   ],
   "source": [
    "example_idx = 0\n",
    "\n",
    "source = data.iloc[example_idx][0]\n",
    "target = data.iloc[example_idx][1]\n",
    "predicted, attention_scores = greedy_decode(model, source)\n",
    "\n",
    "print(f'source: {source}\\n')\n",
    "print(f'target: {target}\\n')\n",
    "print(f'predicted: {predicted}\\n')\n",
    "\n",
    "plot_attention_scores(source, predicted, attention_scores)"
   ]
  }
 ],
 "metadata": {
  "kaggle": {
   "accelerator": "gpu",
   "dataSources": [
    {
     "datasetId": 2141210,
     "sourceId": 3562940,
     "sourceType": "datasetVersion"
    }
   ],
   "dockerImageVersionId": 30732,
   "isGpuEnabled": true,
   "isInternetEnabled": true,
   "language": "python",
   "sourceType": "notebook"
  },
  "kernelspec": {
   "display_name": "Python 3",
   "language": "python",
   "name": "python3"
  },
  "language_info": {
   "codemirror_mode": {
    "name": "ipython",
    "version": 3
   },
   "file_extension": ".py",
   "mimetype": "text/x-python",
   "name": "python",
   "nbconvert_exporter": "python",
   "pygments_lexer": "ipython3",
   "version": "3.10.13"
  },
  "papermill": {
   "default_parameters": {},
   "duration": 15303.425438,
   "end_time": "2024-07-09T05:08:59.164845",
   "environment_variables": {},
   "exception": null,
   "input_path": "__notebook__.ipynb",
   "output_path": "__notebook__.ipynb",
   "parameters": {},
   "start_time": "2024-07-09T00:53:55.739407",
   "version": "2.5.0"
  },
  "widgets": {
   "application/vnd.jupyter.widget-state+json": {
    "state": {
     "0178a36da80140c0bb2a2e1f328d7f04": {
      "model_module": "@jupyter-widgets/base",
      "model_module_version": "1.2.0",
      "model_name": "LayoutModel",
      "state": {
       "_model_module": "@jupyter-widgets/base",
       "_model_module_version": "1.2.0",
       "_model_name": "LayoutModel",
       "_view_count": null,
       "_view_module": "@jupyter-widgets/base",
       "_view_module_version": "1.2.0",
       "_view_name": "LayoutView",
       "align_content": null,
       "align_items": null,
       "align_self": null,
       "border": null,
       "bottom": null,
       "display": null,
       "flex": null,
       "flex_flow": null,
       "grid_area": null,
       "grid_auto_columns": null,
       "grid_auto_flow": null,
       "grid_auto_rows": null,
       "grid_column": null,
       "grid_gap": null,
       "grid_row": null,
       "grid_template_areas": null,
       "grid_template_columns": null,
       "grid_template_rows": null,
       "height": null,
       "justify_content": null,
       "justify_items": null,
       "left": null,
       "margin": null,
       "max_height": null,
       "max_width": null,
       "min_height": null,
       "min_width": null,
       "object_fit": null,
       "object_position": null,
       "order": null,
       "overflow": null,
       "overflow_x": null,
       "overflow_y": null,
       "padding": null,
       "right": null,
       "top": null,
       "visibility": null,
       "width": null
      }
     },
     "053de6ff999143688aec893acacbff06": {
      "model_module": "@jupyter-widgets/controls",
      "model_module_version": "1.5.0",
      "model_name": "ProgressStyleModel",
      "state": {
       "_model_module": "@jupyter-widgets/controls",
       "_model_module_version": "1.5.0",
       "_model_name": "ProgressStyleModel",
       "_view_count": null,
       "_view_module": "@jupyter-widgets/base",
       "_view_module_version": "1.2.0",
       "_view_name": "StyleView",
       "bar_color": null,
       "description_width": ""
      }
     },
     "06fc82bdc2ec40debfbb638da3afeb1a": {
      "model_module": "@jupyter-widgets/base",
      "model_module_version": "1.2.0",
      "model_name": "LayoutModel",
      "state": {
       "_model_module": "@jupyter-widgets/base",
       "_model_module_version": "1.2.0",
       "_model_name": "LayoutModel",
       "_view_count": null,
       "_view_module": "@jupyter-widgets/base",
       "_view_module_version": "1.2.0",
       "_view_name": "LayoutView",
       "align_content": null,
       "align_items": null,
       "align_self": null,
       "border": null,
       "bottom": null,
       "display": null,
       "flex": null,
       "flex_flow": null,
       "grid_area": null,
       "grid_auto_columns": null,
       "grid_auto_flow": null,
       "grid_auto_rows": null,
       "grid_column": null,
       "grid_gap": null,
       "grid_row": null,
       "grid_template_areas": null,
       "grid_template_columns": null,
       "grid_template_rows": null,
       "height": null,
       "justify_content": null,
       "justify_items": null,
       "left": null,
       "margin": null,
       "max_height": null,
       "max_width": null,
       "min_height": null,
       "min_width": null,
       "object_fit": null,
       "object_position": null,
       "order": null,
       "overflow": null,
       "overflow_x": null,
       "overflow_y": null,
       "padding": null,
       "right": null,
       "top": null,
       "visibility": null,
       "width": null
      }
     },
     "0884b9f477494d8dbfce157c2e995fb1": {
      "model_module": "@jupyter-widgets/controls",
      "model_module_version": "1.5.0",
      "model_name": "HBoxModel",
      "state": {
       "_dom_classes": [],
       "_model_module": "@jupyter-widgets/controls",
       "_model_module_version": "1.5.0",
       "_model_name": "HBoxModel",
       "_view_count": null,
       "_view_module": "@jupyter-widgets/controls",
       "_view_module_version": "1.5.0",
       "_view_name": "HBoxView",
       "box_style": "",
       "children": [
        "IPY_MODEL_9a1487e4085746378112f0cdf7f70039",
        "IPY_MODEL_af59c3fa01274c44ace9482b96bfae90",
        "IPY_MODEL_ab85767a0c5545728f35291bb5bdd450"
       ],
       "layout": "IPY_MODEL_0a8aea9498534dc39917a53cb8875138"
      }
     },
     "08b961ee0f9349fb8bfe72c2a89d54fd": {
      "model_module": "@jupyter-widgets/controls",
      "model_module_version": "1.5.0",
      "model_name": "HTMLModel",
      "state": {
       "_dom_classes": [],
       "_model_module": "@jupyter-widgets/controls",
       "_model_module_version": "1.5.0",
       "_model_name": "HTMLModel",
       "_view_count": null,
       "_view_module": "@jupyter-widgets/controls",
       "_view_module_version": "1.5.0",
       "_view_name": "HTMLView",
       "description": "",
       "description_tooltip": null,
       "layout": "IPY_MODEL_e95f44eea7464f099252fc7bd9b6fa2c",
       "placeholder": "​",
       "style": "IPY_MODEL_4b5dac80cad9468a9e455e7ede1c6642",
       "value": " 664/664 [01:58&lt;00:00,  5.57it/s, loss=6.99]"
      }
     },
     "0a32691dec374317ac7489392f0ce442": {
      "model_module": "@jupyter-widgets/base",
      "model_module_version": "1.2.0",
      "model_name": "LayoutModel",
      "state": {
       "_model_module": "@jupyter-widgets/base",
       "_model_module_version": "1.2.0",
       "_model_name": "LayoutModel",
       "_view_count": null,
       "_view_module": "@jupyter-widgets/base",
       "_view_module_version": "1.2.0",
       "_view_name": "LayoutView",
       "align_content": null,
       "align_items": null,
       "align_self": null,
       "border": null,
       "bottom": null,
       "display": null,
       "flex": null,
       "flex_flow": null,
       "grid_area": null,
       "grid_auto_columns": null,
       "grid_auto_flow": null,
       "grid_auto_rows": null,
       "grid_column": null,
       "grid_gap": null,
       "grid_row": null,
       "grid_template_areas": null,
       "grid_template_columns": null,
       "grid_template_rows": null,
       "height": null,
       "justify_content": null,
       "justify_items": null,
       "left": null,
       "margin": null,
       "max_height": null,
       "max_width": null,
       "min_height": null,
       "min_width": null,
       "object_fit": null,
       "object_position": null,
       "order": null,
       "overflow": null,
       "overflow_x": null,
       "overflow_y": null,
       "padding": null,
       "right": null,
       "top": null,
       "visibility": null,
       "width": null
      }
     },
     "0a8aea9498534dc39917a53cb8875138": {
      "model_module": "@jupyter-widgets/base",
      "model_module_version": "1.2.0",
      "model_name": "LayoutModel",
      "state": {
       "_model_module": "@jupyter-widgets/base",
       "_model_module_version": "1.2.0",
       "_model_name": "LayoutModel",
       "_view_count": null,
       "_view_module": "@jupyter-widgets/base",
       "_view_module_version": "1.2.0",
       "_view_name": "LayoutView",
       "align_content": null,
       "align_items": null,
       "align_self": null,
       "border": null,
       "bottom": null,
       "display": null,
       "flex": null,
       "flex_flow": null,
       "grid_area": null,
       "grid_auto_columns": null,
       "grid_auto_flow": null,
       "grid_auto_rows": null,
       "grid_column": null,
       "grid_gap": null,
       "grid_row": null,
       "grid_template_areas": null,
       "grid_template_columns": null,
       "grid_template_rows": null,
       "height": null,
       "justify_content": null,
       "justify_items": null,
       "left": null,
       "margin": null,
       "max_height": null,
       "max_width": null,
       "min_height": null,
       "min_width": null,
       "object_fit": null,
       "object_position": null,
       "order": null,
       "overflow": null,
       "overflow_x": null,
       "overflow_y": null,
       "padding": null,
       "right": null,
       "top": null,
       "visibility": null,
       "width": null
      }
     },
     "0b7065c433ff421cb8d5495077b11421": {
      "model_module": "@jupyter-widgets/base",
      "model_module_version": "1.2.0",
      "model_name": "LayoutModel",
      "state": {
       "_model_module": "@jupyter-widgets/base",
       "_model_module_version": "1.2.0",
       "_model_name": "LayoutModel",
       "_view_count": null,
       "_view_module": "@jupyter-widgets/base",
       "_view_module_version": "1.2.0",
       "_view_name": "LayoutView",
       "align_content": null,
       "align_items": null,
       "align_self": null,
       "border": null,
       "bottom": null,
       "display": null,
       "flex": null,
       "flex_flow": null,
       "grid_area": null,
       "grid_auto_columns": null,
       "grid_auto_flow": null,
       "grid_auto_rows": null,
       "grid_column": null,
       "grid_gap": null,
       "grid_row": null,
       "grid_template_areas": null,
       "grid_template_columns": null,
       "grid_template_rows": null,
       "height": null,
       "justify_content": null,
       "justify_items": null,
       "left": null,
       "margin": null,
       "max_height": null,
       "max_width": null,
       "min_height": null,
       "min_width": null,
       "object_fit": null,
       "object_position": null,
       "order": null,
       "overflow": null,
       "overflow_x": null,
       "overflow_y": null,
       "padding": null,
       "right": null,
       "top": null,
       "visibility": null,
       "width": null
      }
     },
     "0dcf7ff3cf5e4adda754a643c883bce7": {
      "model_module": "@jupyter-widgets/controls",
      "model_module_version": "1.5.0",
      "model_name": "DescriptionStyleModel",
      "state": {
       "_model_module": "@jupyter-widgets/controls",
       "_model_module_version": "1.5.0",
       "_model_name": "DescriptionStyleModel",
       "_view_count": null,
       "_view_module": "@jupyter-widgets/base",
       "_view_module_version": "1.2.0",
       "_view_name": "StyleView",
       "description_width": ""
      }
     },
     "11d947a581564debb3eb06129eb72f52": {
      "model_module": "@jupyter-widgets/base",
      "model_module_version": "1.2.0",
      "model_name": "LayoutModel",
      "state": {
       "_model_module": "@jupyter-widgets/base",
       "_model_module_version": "1.2.0",
       "_model_name": "LayoutModel",
       "_view_count": null,
       "_view_module": "@jupyter-widgets/base",
       "_view_module_version": "1.2.0",
       "_view_name": "LayoutView",
       "align_content": null,
       "align_items": null,
       "align_self": null,
       "border": null,
       "bottom": null,
       "display": null,
       "flex": null,
       "flex_flow": null,
       "grid_area": null,
       "grid_auto_columns": null,
       "grid_auto_flow": null,
       "grid_auto_rows": null,
       "grid_column": null,
       "grid_gap": null,
       "grid_row": null,
       "grid_template_areas": null,
       "grid_template_columns": null,
       "grid_template_rows": null,
       "height": null,
       "justify_content": null,
       "justify_items": null,
       "left": null,
       "margin": null,
       "max_height": null,
       "max_width": null,
       "min_height": null,
       "min_width": null,
       "object_fit": null,
       "object_position": null,
       "order": null,
       "overflow": null,
       "overflow_x": null,
       "overflow_y": null,
       "padding": null,
       "right": null,
       "top": null,
       "visibility": null,
       "width": null
      }
     },
     "12c732cd9a4c45479c5a2223c1836bba": {
      "model_module": "@jupyter-widgets/controls",
      "model_module_version": "1.5.0",
      "model_name": "HBoxModel",
      "state": {
       "_dom_classes": [],
       "_model_module": "@jupyter-widgets/controls",
       "_model_module_version": "1.5.0",
       "_model_name": "HBoxModel",
       "_view_count": null,
       "_view_module": "@jupyter-widgets/controls",
       "_view_module_version": "1.5.0",
       "_view_name": "HBoxView",
       "box_style": "",
       "children": [
        "IPY_MODEL_ef8321890e004fbaac50dc3782e39c7e",
        "IPY_MODEL_7b59d4a4e2fa4679a666f749622954a4",
        "IPY_MODEL_4ebab6b65e7647de8185ad6549c5e6eb"
       ],
       "layout": "IPY_MODEL_cc8a6684a7b14470a4fa5f3c7b4f3154"
      }
     },
     "141249807cf749aaa06500e0589f7a6c": {
      "model_module": "@jupyter-widgets/base",
      "model_module_version": "1.2.0",
      "model_name": "LayoutModel",
      "state": {
       "_model_module": "@jupyter-widgets/base",
       "_model_module_version": "1.2.0",
       "_model_name": "LayoutModel",
       "_view_count": null,
       "_view_module": "@jupyter-widgets/base",
       "_view_module_version": "1.2.0",
       "_view_name": "LayoutView",
       "align_content": null,
       "align_items": null,
       "align_self": null,
       "border": null,
       "bottom": null,
       "display": null,
       "flex": null,
       "flex_flow": null,
       "grid_area": null,
       "grid_auto_columns": null,
       "grid_auto_flow": null,
       "grid_auto_rows": null,
       "grid_column": null,
       "grid_gap": null,
       "grid_row": null,
       "grid_template_areas": null,
       "grid_template_columns": null,
       "grid_template_rows": null,
       "height": null,
       "justify_content": null,
       "justify_items": null,
       "left": null,
       "margin": null,
       "max_height": null,
       "max_width": null,
       "min_height": null,
       "min_width": null,
       "object_fit": null,
       "object_position": null,
       "order": null,
       "overflow": null,
       "overflow_x": null,
       "overflow_y": null,
       "padding": null,
       "right": null,
       "top": null,
       "visibility": null,
       "width": null
      }
     },
     "15a74b0ec29c438cab545442da076e09": {
      "model_module": "@jupyter-widgets/controls",
      "model_module_version": "1.5.0",
      "model_name": "HTMLModel",
      "state": {
       "_dom_classes": [],
       "_model_module": "@jupyter-widgets/controls",
       "_model_module_version": "1.5.0",
       "_model_name": "HTMLModel",
       "_view_count": null,
       "_view_module": "@jupyter-widgets/controls",
       "_view_module_version": "1.5.0",
       "_view_name": "HTMLView",
       "description": "",
       "description_tooltip": null,
       "layout": "IPY_MODEL_6ee14b47dfde4a3bb9d7d79af6ab25d0",
       "placeholder": "​",
       "style": "IPY_MODEL_b7cdc052480949359edd2c920d47e04e",
       "value": " 665/665 [01:58&lt;00:00,  5.51it/s, loss=7.14]"
      }
     },
     "19561bbbc8d645c1b0e87a685a6210bb": {
      "model_module": "@jupyter-widgets/controls",
      "model_module_version": "1.5.0",
      "model_name": "DescriptionStyleModel",
      "state": {
       "_model_module": "@jupyter-widgets/controls",
       "_model_module_version": "1.5.0",
       "_model_name": "DescriptionStyleModel",
       "_view_count": null,
       "_view_module": "@jupyter-widgets/base",
       "_view_module_version": "1.2.0",
       "_view_name": "StyleView",
       "description_width": ""
      }
     },
     "1b93320297964399b53f20c1b83876f9": {
      "model_module": "@jupyter-widgets/controls",
      "model_module_version": "1.5.0",
      "model_name": "HTMLModel",
      "state": {
       "_dom_classes": [],
       "_model_module": "@jupyter-widgets/controls",
       "_model_module_version": "1.5.0",
       "_model_name": "HTMLModel",
       "_view_count": null,
       "_view_module": "@jupyter-widgets/controls",
       "_view_module_version": "1.5.0",
       "_view_name": "HTMLView",
       "description": "",
       "description_tooltip": null,
       "layout": "IPY_MODEL_6d8196e9b3774340903d626f977bbf26",
       "placeholder": "​",
       "style": "IPY_MODEL_3fe0b03630f0413a866dc9a661d35e2f",
       "value": " 5313/5313 [45:15&lt;00:00,  2.16it/s, loss=6.7]"
      }
     },
     "1bbbbcc41ea8439c863b5e2457b2c1a2": {
      "model_module": "@jupyter-widgets/controls",
      "model_module_version": "1.5.0",
      "model_name": "DescriptionStyleModel",
      "state": {
       "_model_module": "@jupyter-widgets/controls",
       "_model_module_version": "1.5.0",
       "_model_name": "DescriptionStyleModel",
       "_view_count": null,
       "_view_module": "@jupyter-widgets/base",
       "_view_module_version": "1.2.0",
       "_view_name": "StyleView",
       "description_width": ""
      }
     },
     "2183699f0bf24888b877c2c67f83bf1d": {
      "model_module": "@jupyter-widgets/controls",
      "model_module_version": "1.5.0",
      "model_name": "HBoxModel",
      "state": {
       "_dom_classes": [],
       "_model_module": "@jupyter-widgets/controls",
       "_model_module_version": "1.5.0",
       "_model_name": "HBoxModel",
       "_view_count": null,
       "_view_module": "@jupyter-widgets/controls",
       "_view_module_version": "1.5.0",
       "_view_name": "HBoxView",
       "box_style": "",
       "children": [
        "IPY_MODEL_24849377190243f2b1c5c33be5952566",
        "IPY_MODEL_c0d7bafa4dbe48b7a261d50bd0fad343",
        "IPY_MODEL_f642f7da25fa4f46ba4b9dc4e8ba2429"
       ],
       "layout": "IPY_MODEL_218acd48d2b4475199a5a61d270848be"
      }
     },
     "218acd48d2b4475199a5a61d270848be": {
      "model_module": "@jupyter-widgets/base",
      "model_module_version": "1.2.0",
      "model_name": "LayoutModel",
      "state": {
       "_model_module": "@jupyter-widgets/base",
       "_model_module_version": "1.2.0",
       "_model_name": "LayoutModel",
       "_view_count": null,
       "_view_module": "@jupyter-widgets/base",
       "_view_module_version": "1.2.0",
       "_view_name": "LayoutView",
       "align_content": null,
       "align_items": null,
       "align_self": null,
       "border": null,
       "bottom": null,
       "display": null,
       "flex": null,
       "flex_flow": null,
       "grid_area": null,
       "grid_auto_columns": null,
       "grid_auto_flow": null,
       "grid_auto_rows": null,
       "grid_column": null,
       "grid_gap": null,
       "grid_row": null,
       "grid_template_areas": null,
       "grid_template_columns": null,
       "grid_template_rows": null,
       "height": null,
       "justify_content": null,
       "justify_items": null,
       "left": null,
       "margin": null,
       "max_height": null,
       "max_width": null,
       "min_height": null,
       "min_width": null,
       "object_fit": null,
       "object_position": null,
       "order": null,
       "overflow": null,
       "overflow_x": null,
       "overflow_y": null,
       "padding": null,
       "right": null,
       "top": null,
       "visibility": null,
       "width": null
      }
     },
     "23aff95ca2e84ba1a3e194545ba04075": {
      "model_module": "@jupyter-widgets/controls",
      "model_module_version": "1.5.0",
      "model_name": "HBoxModel",
      "state": {
       "_dom_classes": [],
       "_model_module": "@jupyter-widgets/controls",
       "_model_module_version": "1.5.0",
       "_model_name": "HBoxModel",
       "_view_count": null,
       "_view_module": "@jupyter-widgets/controls",
       "_view_module_version": "1.5.0",
       "_view_name": "HBoxView",
       "box_style": "",
       "children": [
        "IPY_MODEL_6b050911309741c2b445b9375a620fda",
        "IPY_MODEL_b139ad54e5e34b3fabe25406d8bc0232",
        "IPY_MODEL_acec15171f2e4bb28d752484c1156333"
       ],
       "layout": "IPY_MODEL_2817e19785304616ba7c0d084a571f40"
      }
     },
     "24849377190243f2b1c5c33be5952566": {
      "model_module": "@jupyter-widgets/controls",
      "model_module_version": "1.5.0",
      "model_name": "HTMLModel",
      "state": {
       "_dom_classes": [],
       "_model_module": "@jupyter-widgets/controls",
       "_model_module_version": "1.5.0",
       "_model_name": "HTMLModel",
       "_view_count": null,
       "_view_module": "@jupyter-widgets/controls",
       "_view_module_version": "1.5.0",
       "_view_name": "HTMLView",
       "description": "",
       "description_tooltip": null,
       "layout": "IPY_MODEL_6f5846e9d63545eb933b639853e9deda",
       "placeholder": "​",
       "style": "IPY_MODEL_32fbae8eeb6c4b21845823677ed43067",
       "value": "100%"
      }
     },
     "26074db3c46441a197567a692e6adf1a": {
      "model_module": "@jupyter-widgets/base",
      "model_module_version": "1.2.0",
      "model_name": "LayoutModel",
      "state": {
       "_model_module": "@jupyter-widgets/base",
       "_model_module_version": "1.2.0",
       "_model_name": "LayoutModel",
       "_view_count": null,
       "_view_module": "@jupyter-widgets/base",
       "_view_module_version": "1.2.0",
       "_view_name": "LayoutView",
       "align_content": null,
       "align_items": null,
       "align_self": null,
       "border": null,
       "bottom": null,
       "display": null,
       "flex": null,
       "flex_flow": null,
       "grid_area": null,
       "grid_auto_columns": null,
       "grid_auto_flow": null,
       "grid_auto_rows": null,
       "grid_column": null,
       "grid_gap": null,
       "grid_row": null,
       "grid_template_areas": null,
       "grid_template_columns": null,
       "grid_template_rows": null,
       "height": null,
       "justify_content": null,
       "justify_items": null,
       "left": null,
       "margin": null,
       "max_height": null,
       "max_width": null,
       "min_height": null,
       "min_width": null,
       "object_fit": null,
       "object_position": null,
       "order": null,
       "overflow": null,
       "overflow_x": null,
       "overflow_y": null,
       "padding": null,
       "right": null,
       "top": null,
       "visibility": null,
       "width": null
      }
     },
     "260f5f16b64e4791a0bc68e4602ae942": {
      "model_module": "@jupyter-widgets/controls",
      "model_module_version": "1.5.0",
      "model_name": "HTMLModel",
      "state": {
       "_dom_classes": [],
       "_model_module": "@jupyter-widgets/controls",
       "_model_module_version": "1.5.0",
       "_model_name": "HTMLModel",
       "_view_count": null,
       "_view_module": "@jupyter-widgets/controls",
       "_view_module_version": "1.5.0",
       "_view_name": "HTMLView",
       "description": "",
       "description_tooltip": null,
       "layout": "IPY_MODEL_64eafe894d604f08b24babd3ef55c733",
       "placeholder": "​",
       "style": "IPY_MODEL_f837e75377b64380a613a16ccce328ea",
       "value": " 664/664 [01:59&lt;00:00,  5.59it/s, loss=6.78]"
      }
     },
     "2817e19785304616ba7c0d084a571f40": {
      "model_module": "@jupyter-widgets/base",
      "model_module_version": "1.2.0",
      "model_name": "LayoutModel",
      "state": {
       "_model_module": "@jupyter-widgets/base",
       "_model_module_version": "1.2.0",
       "_model_name": "LayoutModel",
       "_view_count": null,
       "_view_module": "@jupyter-widgets/base",
       "_view_module_version": "1.2.0",
       "_view_name": "LayoutView",
       "align_content": null,
       "align_items": null,
       "align_self": null,
       "border": null,
       "bottom": null,
       "display": null,
       "flex": null,
       "flex_flow": null,
       "grid_area": null,
       "grid_auto_columns": null,
       "grid_auto_flow": null,
       "grid_auto_rows": null,
       "grid_column": null,
       "grid_gap": null,
       "grid_row": null,
       "grid_template_areas": null,
       "grid_template_columns": null,
       "grid_template_rows": null,
       "height": null,
       "justify_content": null,
       "justify_items": null,
       "left": null,
       "margin": null,
       "max_height": null,
       "max_width": null,
       "min_height": null,
       "min_width": null,
       "object_fit": null,
       "object_position": null,
       "order": null,
       "overflow": null,
       "overflow_x": null,
       "overflow_y": null,
       "padding": null,
       "right": null,
       "top": null,
       "visibility": null,
       "width": null
      }
     },
     "2b85accc81c047888bae13a2ea74e9d4": {
      "model_module": "@jupyter-widgets/controls",
      "model_module_version": "1.5.0",
      "model_name": "HBoxModel",
      "state": {
       "_dom_classes": [],
       "_model_module": "@jupyter-widgets/controls",
       "_model_module_version": "1.5.0",
       "_model_name": "HBoxModel",
       "_view_count": null,
       "_view_module": "@jupyter-widgets/controls",
       "_view_module_version": "1.5.0",
       "_view_name": "HBoxView",
       "box_style": "",
       "children": [
        "IPY_MODEL_328cd28ec68e4fdba3322ae2f6496ac7",
        "IPY_MODEL_450c5272e7d2412f920bb39ec44dd856",
        "IPY_MODEL_1b93320297964399b53f20c1b83876f9"
       ],
       "layout": "IPY_MODEL_9258e43d713b4a80b4fbf05377c2e365"
      }
     },
     "2c74d46607f243369943336e0534dd0b": {
      "model_module": "@jupyter-widgets/base",
      "model_module_version": "1.2.0",
      "model_name": "LayoutModel",
      "state": {
       "_model_module": "@jupyter-widgets/base",
       "_model_module_version": "1.2.0",
       "_model_name": "LayoutModel",
       "_view_count": null,
       "_view_module": "@jupyter-widgets/base",
       "_view_module_version": "1.2.0",
       "_view_name": "LayoutView",
       "align_content": null,
       "align_items": null,
       "align_self": null,
       "border": null,
       "bottom": null,
       "display": null,
       "flex": null,
       "flex_flow": null,
       "grid_area": null,
       "grid_auto_columns": null,
       "grid_auto_flow": null,
       "grid_auto_rows": null,
       "grid_column": null,
       "grid_gap": null,
       "grid_row": null,
       "grid_template_areas": null,
       "grid_template_columns": null,
       "grid_template_rows": null,
       "height": null,
       "justify_content": null,
       "justify_items": null,
       "left": null,
       "margin": null,
       "max_height": null,
       "max_width": null,
       "min_height": null,
       "min_width": null,
       "object_fit": null,
       "object_position": null,
       "order": null,
       "overflow": null,
       "overflow_x": null,
       "overflow_y": null,
       "padding": null,
       "right": null,
       "top": null,
       "visibility": null,
       "width": null
      }
     },
     "328cd28ec68e4fdba3322ae2f6496ac7": {
      "model_module": "@jupyter-widgets/controls",
      "model_module_version": "1.5.0",
      "model_name": "HTMLModel",
      "state": {
       "_dom_classes": [],
       "_model_module": "@jupyter-widgets/controls",
       "_model_module_version": "1.5.0",
       "_model_name": "HTMLModel",
       "_view_count": null,
       "_view_module": "@jupyter-widgets/controls",
       "_view_module_version": "1.5.0",
       "_view_name": "HTMLView",
       "description": "",
       "description_tooltip": null,
       "layout": "IPY_MODEL_26074db3c46441a197567a692e6adf1a",
       "placeholder": "​",
       "style": "IPY_MODEL_0dcf7ff3cf5e4adda754a643c883bce7",
       "value": "100%"
      }
     },
     "32fbae8eeb6c4b21845823677ed43067": {
      "model_module": "@jupyter-widgets/controls",
      "model_module_version": "1.5.0",
      "model_name": "DescriptionStyleModel",
      "state": {
       "_model_module": "@jupyter-widgets/controls",
       "_model_module_version": "1.5.0",
       "_model_name": "DescriptionStyleModel",
       "_view_count": null,
       "_view_module": "@jupyter-widgets/base",
       "_view_module_version": "1.2.0",
       "_view_name": "StyleView",
       "description_width": ""
      }
     },
     "33d34c2429324f2e9575f4ed91aeff2a": {
      "model_module": "@jupyter-widgets/base",
      "model_module_version": "1.2.0",
      "model_name": "LayoutModel",
      "state": {
       "_model_module": "@jupyter-widgets/base",
       "_model_module_version": "1.2.0",
       "_model_name": "LayoutModel",
       "_view_count": null,
       "_view_module": "@jupyter-widgets/base",
       "_view_module_version": "1.2.0",
       "_view_name": "LayoutView",
       "align_content": null,
       "align_items": null,
       "align_self": null,
       "border": null,
       "bottom": null,
       "display": null,
       "flex": null,
       "flex_flow": null,
       "grid_area": null,
       "grid_auto_columns": null,
       "grid_auto_flow": null,
       "grid_auto_rows": null,
       "grid_column": null,
       "grid_gap": null,
       "grid_row": null,
       "grid_template_areas": null,
       "grid_template_columns": null,
       "grid_template_rows": null,
       "height": null,
       "justify_content": null,
       "justify_items": null,
       "left": null,
       "margin": null,
       "max_height": null,
       "max_width": null,
       "min_height": null,
       "min_width": null,
       "object_fit": null,
       "object_position": null,
       "order": null,
       "overflow": null,
       "overflow_x": null,
       "overflow_y": null,
       "padding": null,
       "right": null,
       "top": null,
       "visibility": null,
       "width": null
      }
     },
     "37f508479f844dbdbf368c07a4791184": {
      "model_module": "@jupyter-widgets/base",
      "model_module_version": "1.2.0",
      "model_name": "LayoutModel",
      "state": {
       "_model_module": "@jupyter-widgets/base",
       "_model_module_version": "1.2.0",
       "_model_name": "LayoutModel",
       "_view_count": null,
       "_view_module": "@jupyter-widgets/base",
       "_view_module_version": "1.2.0",
       "_view_name": "LayoutView",
       "align_content": null,
       "align_items": null,
       "align_self": null,
       "border": null,
       "bottom": null,
       "display": null,
       "flex": null,
       "flex_flow": null,
       "grid_area": null,
       "grid_auto_columns": null,
       "grid_auto_flow": null,
       "grid_auto_rows": null,
       "grid_column": null,
       "grid_gap": null,
       "grid_row": null,
       "grid_template_areas": null,
       "grid_template_columns": null,
       "grid_template_rows": null,
       "height": null,
       "justify_content": null,
       "justify_items": null,
       "left": null,
       "margin": null,
       "max_height": null,
       "max_width": null,
       "min_height": null,
       "min_width": null,
       "object_fit": null,
       "object_position": null,
       "order": null,
       "overflow": null,
       "overflow_x": null,
       "overflow_y": null,
       "padding": null,
       "right": null,
       "top": null,
       "visibility": null,
       "width": null
      }
     },
     "38a296c68bb940f6812ccb56a4f7ecda": {
      "model_module": "@jupyter-widgets/controls",
      "model_module_version": "1.5.0",
      "model_name": "DescriptionStyleModel",
      "state": {
       "_model_module": "@jupyter-widgets/controls",
       "_model_module_version": "1.5.0",
       "_model_name": "DescriptionStyleModel",
       "_view_count": null,
       "_view_module": "@jupyter-widgets/base",
       "_view_module_version": "1.2.0",
       "_view_name": "StyleView",
       "description_width": ""
      }
     },
     "398bed8594494077ba742747c4c70995": {
      "model_module": "@jupyter-widgets/controls",
      "model_module_version": "1.5.0",
      "model_name": "ProgressStyleModel",
      "state": {
       "_model_module": "@jupyter-widgets/controls",
       "_model_module_version": "1.5.0",
       "_model_name": "ProgressStyleModel",
       "_view_count": null,
       "_view_module": "@jupyter-widgets/base",
       "_view_module_version": "1.2.0",
       "_view_name": "StyleView",
       "bar_color": null,
       "description_width": ""
      }
     },
     "3cb1c4f9092a450b8f4d9b196823ea59": {
      "model_module": "@jupyter-widgets/base",
      "model_module_version": "1.2.0",
      "model_name": "LayoutModel",
      "state": {
       "_model_module": "@jupyter-widgets/base",
       "_model_module_version": "1.2.0",
       "_model_name": "LayoutModel",
       "_view_count": null,
       "_view_module": "@jupyter-widgets/base",
       "_view_module_version": "1.2.0",
       "_view_name": "LayoutView",
       "align_content": null,
       "align_items": null,
       "align_self": null,
       "border": null,
       "bottom": null,
       "display": null,
       "flex": null,
       "flex_flow": null,
       "grid_area": null,
       "grid_auto_columns": null,
       "grid_auto_flow": null,
       "grid_auto_rows": null,
       "grid_column": null,
       "grid_gap": null,
       "grid_row": null,
       "grid_template_areas": null,
       "grid_template_columns": null,
       "grid_template_rows": null,
       "height": null,
       "justify_content": null,
       "justify_items": null,
       "left": null,
       "margin": null,
       "max_height": null,
       "max_width": null,
       "min_height": null,
       "min_width": null,
       "object_fit": null,
       "object_position": null,
       "order": null,
       "overflow": null,
       "overflow_x": null,
       "overflow_y": null,
       "padding": null,
       "right": null,
       "top": null,
       "visibility": null,
       "width": null
      }
     },
     "3fe0b03630f0413a866dc9a661d35e2f": {
      "model_module": "@jupyter-widgets/controls",
      "model_module_version": "1.5.0",
      "model_name": "DescriptionStyleModel",
      "state": {
       "_model_module": "@jupyter-widgets/controls",
       "_model_module_version": "1.5.0",
       "_model_name": "DescriptionStyleModel",
       "_view_count": null,
       "_view_module": "@jupyter-widgets/base",
       "_view_module_version": "1.2.0",
       "_view_name": "StyleView",
       "description_width": ""
      }
     },
     "4067ee1c29fe4e79bfae69b7b6aec5c0": {
      "model_module": "@jupyter-widgets/controls",
      "model_module_version": "1.5.0",
      "model_name": "DescriptionStyleModel",
      "state": {
       "_model_module": "@jupyter-widgets/controls",
       "_model_module_version": "1.5.0",
       "_model_name": "DescriptionStyleModel",
       "_view_count": null,
       "_view_module": "@jupyter-widgets/base",
       "_view_module_version": "1.2.0",
       "_view_name": "StyleView",
       "description_width": ""
      }
     },
     "43d51a6f2521419cbd03d177ca0a955b": {
      "model_module": "@jupyter-widgets/base",
      "model_module_version": "1.2.0",
      "model_name": "LayoutModel",
      "state": {
       "_model_module": "@jupyter-widgets/base",
       "_model_module_version": "1.2.0",
       "_model_name": "LayoutModel",
       "_view_count": null,
       "_view_module": "@jupyter-widgets/base",
       "_view_module_version": "1.2.0",
       "_view_name": "LayoutView",
       "align_content": null,
       "align_items": null,
       "align_self": null,
       "border": null,
       "bottom": null,
       "display": null,
       "flex": null,
       "flex_flow": null,
       "grid_area": null,
       "grid_auto_columns": null,
       "grid_auto_flow": null,
       "grid_auto_rows": null,
       "grid_column": null,
       "grid_gap": null,
       "grid_row": null,
       "grid_template_areas": null,
       "grid_template_columns": null,
       "grid_template_rows": null,
       "height": null,
       "justify_content": null,
       "justify_items": null,
       "left": null,
       "margin": null,
       "max_height": null,
       "max_width": null,
       "min_height": null,
       "min_width": null,
       "object_fit": null,
       "object_position": null,
       "order": null,
       "overflow": null,
       "overflow_x": null,
       "overflow_y": null,
       "padding": null,
       "right": null,
       "top": null,
       "visibility": null,
       "width": null
      }
     },
     "4446eabbeae4443180cfd4f79a5d80bb": {
      "model_module": "@jupyter-widgets/controls",
      "model_module_version": "1.5.0",
      "model_name": "ProgressStyleModel",
      "state": {
       "_model_module": "@jupyter-widgets/controls",
       "_model_module_version": "1.5.0",
       "_model_name": "ProgressStyleModel",
       "_view_count": null,
       "_view_module": "@jupyter-widgets/base",
       "_view_module_version": "1.2.0",
       "_view_name": "StyleView",
       "bar_color": null,
       "description_width": ""
      }
     },
     "450c5272e7d2412f920bb39ec44dd856": {
      "model_module": "@jupyter-widgets/controls",
      "model_module_version": "1.5.0",
      "model_name": "FloatProgressModel",
      "state": {
       "_dom_classes": [],
       "_model_module": "@jupyter-widgets/controls",
       "_model_module_version": "1.5.0",
       "_model_name": "FloatProgressModel",
       "_view_count": null,
       "_view_module": "@jupyter-widgets/controls",
       "_view_module_version": "1.5.0",
       "_view_name": "ProgressView",
       "bar_style": "success",
       "description": "",
       "description_tooltip": null,
       "layout": "IPY_MODEL_5ffdc73c28f2471e936c1cc0245ea03d",
       "max": 5313.0,
       "min": 0.0,
       "orientation": "horizontal",
       "style": "IPY_MODEL_b735246b951045f0bcbbf7b3a1a9b534",
       "value": 5313.0
      }
     },
     "46fb88f041184d3dbc350ec5d0b450e6": {
      "model_module": "@jupyter-widgets/base",
      "model_module_version": "1.2.0",
      "model_name": "LayoutModel",
      "state": {
       "_model_module": "@jupyter-widgets/base",
       "_model_module_version": "1.2.0",
       "_model_name": "LayoutModel",
       "_view_count": null,
       "_view_module": "@jupyter-widgets/base",
       "_view_module_version": "1.2.0",
       "_view_name": "LayoutView",
       "align_content": null,
       "align_items": null,
       "align_self": null,
       "border": null,
       "bottom": null,
       "display": null,
       "flex": null,
       "flex_flow": null,
       "grid_area": null,
       "grid_auto_columns": null,
       "grid_auto_flow": null,
       "grid_auto_rows": null,
       "grid_column": null,
       "grid_gap": null,
       "grid_row": null,
       "grid_template_areas": null,
       "grid_template_columns": null,
       "grid_template_rows": null,
       "height": null,
       "justify_content": null,
       "justify_items": null,
       "left": null,
       "margin": null,
       "max_height": null,
       "max_width": null,
       "min_height": null,
       "min_width": null,
       "object_fit": null,
       "object_position": null,
       "order": null,
       "overflow": null,
       "overflow_x": null,
       "overflow_y": null,
       "padding": null,
       "right": null,
       "top": null,
       "visibility": null,
       "width": null
      }
     },
     "4775c1de713a452caf2a1f9a96b47ad5": {
      "model_module": "@jupyter-widgets/base",
      "model_module_version": "1.2.0",
      "model_name": "LayoutModel",
      "state": {
       "_model_module": "@jupyter-widgets/base",
       "_model_module_version": "1.2.0",
       "_model_name": "LayoutModel",
       "_view_count": null,
       "_view_module": "@jupyter-widgets/base",
       "_view_module_version": "1.2.0",
       "_view_name": "LayoutView",
       "align_content": null,
       "align_items": null,
       "align_self": null,
       "border": null,
       "bottom": null,
       "display": null,
       "flex": null,
       "flex_flow": null,
       "grid_area": null,
       "grid_auto_columns": null,
       "grid_auto_flow": null,
       "grid_auto_rows": null,
       "grid_column": null,
       "grid_gap": null,
       "grid_row": null,
       "grid_template_areas": null,
       "grid_template_columns": null,
       "grid_template_rows": null,
       "height": null,
       "justify_content": null,
       "justify_items": null,
       "left": null,
       "margin": null,
       "max_height": null,
       "max_width": null,
       "min_height": null,
       "min_width": null,
       "object_fit": null,
       "object_position": null,
       "order": null,
       "overflow": null,
       "overflow_x": null,
       "overflow_y": null,
       "padding": null,
       "right": null,
       "top": null,
       "visibility": null,
       "width": null
      }
     },
     "49a8c40edd614caea84a837fc59785e9": {
      "model_module": "@jupyter-widgets/controls",
      "model_module_version": "1.5.0",
      "model_name": "ProgressStyleModel",
      "state": {
       "_model_module": "@jupyter-widgets/controls",
       "_model_module_version": "1.5.0",
       "_model_name": "ProgressStyleModel",
       "_view_count": null,
       "_view_module": "@jupyter-widgets/base",
       "_view_module_version": "1.2.0",
       "_view_name": "StyleView",
       "bar_color": null,
       "description_width": ""
      }
     },
     "4b5dac80cad9468a9e455e7ede1c6642": {
      "model_module": "@jupyter-widgets/controls",
      "model_module_version": "1.5.0",
      "model_name": "DescriptionStyleModel",
      "state": {
       "_model_module": "@jupyter-widgets/controls",
       "_model_module_version": "1.5.0",
       "_model_name": "DescriptionStyleModel",
       "_view_count": null,
       "_view_module": "@jupyter-widgets/base",
       "_view_module_version": "1.2.0",
       "_view_name": "StyleView",
       "description_width": ""
      }
     },
     "4ddd4f623db647f4be2b9cdbf9feab4d": {
      "model_module": "@jupyter-widgets/base",
      "model_module_version": "1.2.0",
      "model_name": "LayoutModel",
      "state": {
       "_model_module": "@jupyter-widgets/base",
       "_model_module_version": "1.2.0",
       "_model_name": "LayoutModel",
       "_view_count": null,
       "_view_module": "@jupyter-widgets/base",
       "_view_module_version": "1.2.0",
       "_view_name": "LayoutView",
       "align_content": null,
       "align_items": null,
       "align_self": null,
       "border": null,
       "bottom": null,
       "display": null,
       "flex": null,
       "flex_flow": null,
       "grid_area": null,
       "grid_auto_columns": null,
       "grid_auto_flow": null,
       "grid_auto_rows": null,
       "grid_column": null,
       "grid_gap": null,
       "grid_row": null,
       "grid_template_areas": null,
       "grid_template_columns": null,
       "grid_template_rows": null,
       "height": null,
       "justify_content": null,
       "justify_items": null,
       "left": null,
       "margin": null,
       "max_height": null,
       "max_width": null,
       "min_height": null,
       "min_width": null,
       "object_fit": null,
       "object_position": null,
       "order": null,
       "overflow": null,
       "overflow_x": null,
       "overflow_y": null,
       "padding": null,
       "right": null,
       "top": null,
       "visibility": null,
       "width": null
      }
     },
     "4ebab6b65e7647de8185ad6549c5e6eb": {
      "model_module": "@jupyter-widgets/controls",
      "model_module_version": "1.5.0",
      "model_name": "HTMLModel",
      "state": {
       "_dom_classes": [],
       "_model_module": "@jupyter-widgets/controls",
       "_model_module_version": "1.5.0",
       "_model_name": "HTMLModel",
       "_view_count": null,
       "_view_module": "@jupyter-widgets/controls",
       "_view_module_version": "1.5.0",
       "_view_name": "HTMLView",
       "description": "",
       "description_tooltip": null,
       "layout": "IPY_MODEL_b67cb494e5404ec4a3547cc163db7ca7",
       "placeholder": "​",
       "style": "IPY_MODEL_901c30a3c80a4de7b3cd91c22dcbbb65",
       "value": " 5313/5313 [45:12&lt;00:00,  2.13it/s, loss=6.89]"
      }
     },
     "515f2893c2914bbbbad4ba43288f634c": {
      "model_module": "@jupyter-widgets/controls",
      "model_module_version": "1.5.0",
      "model_name": "HTMLModel",
      "state": {
       "_dom_classes": [],
       "_model_module": "@jupyter-widgets/controls",
       "_model_module_version": "1.5.0",
       "_model_name": "HTMLModel",
       "_view_count": null,
       "_view_module": "@jupyter-widgets/controls",
       "_view_module_version": "1.5.0",
       "_view_name": "HTMLView",
       "description": "",
       "description_tooltip": null,
       "layout": "IPY_MODEL_dc9e535024c749ccb95a553fbb4c7171",
       "placeholder": "​",
       "style": "IPY_MODEL_1bbbbcc41ea8439c863b5e2457b2c1a2",
       "value": "100%"
      }
     },
     "51ef1c7eca2345e0a406f59d33ab4834": {
      "model_module": "@jupyter-widgets/base",
      "model_module_version": "1.2.0",
      "model_name": "LayoutModel",
      "state": {
       "_model_module": "@jupyter-widgets/base",
       "_model_module_version": "1.2.0",
       "_model_name": "LayoutModel",
       "_view_count": null,
       "_view_module": "@jupyter-widgets/base",
       "_view_module_version": "1.2.0",
       "_view_name": "LayoutView",
       "align_content": null,
       "align_items": null,
       "align_self": null,
       "border": null,
       "bottom": null,
       "display": null,
       "flex": null,
       "flex_flow": null,
       "grid_area": null,
       "grid_auto_columns": null,
       "grid_auto_flow": null,
       "grid_auto_rows": null,
       "grid_column": null,
       "grid_gap": null,
       "grid_row": null,
       "grid_template_areas": null,
       "grid_template_columns": null,
       "grid_template_rows": null,
       "height": null,
       "justify_content": null,
       "justify_items": null,
       "left": null,
       "margin": null,
       "max_height": null,
       "max_width": null,
       "min_height": null,
       "min_width": null,
       "object_fit": null,
       "object_position": null,
       "order": null,
       "overflow": null,
       "overflow_x": null,
       "overflow_y": null,
       "padding": null,
       "right": null,
       "top": null,
       "visibility": null,
       "width": null
      }
     },
     "56658c82154e42bb92e3da9292725fc1": {
      "model_module": "@jupyter-widgets/base",
      "model_module_version": "1.2.0",
      "model_name": "LayoutModel",
      "state": {
       "_model_module": "@jupyter-widgets/base",
       "_model_module_version": "1.2.0",
       "_model_name": "LayoutModel",
       "_view_count": null,
       "_view_module": "@jupyter-widgets/base",
       "_view_module_version": "1.2.0",
       "_view_name": "LayoutView",
       "align_content": null,
       "align_items": null,
       "align_self": null,
       "border": null,
       "bottom": null,
       "display": null,
       "flex": null,
       "flex_flow": null,
       "grid_area": null,
       "grid_auto_columns": null,
       "grid_auto_flow": null,
       "grid_auto_rows": null,
       "grid_column": null,
       "grid_gap": null,
       "grid_row": null,
       "grid_template_areas": null,
       "grid_template_columns": null,
       "grid_template_rows": null,
       "height": null,
       "justify_content": null,
       "justify_items": null,
       "left": null,
       "margin": null,
       "max_height": null,
       "max_width": null,
       "min_height": null,
       "min_width": null,
       "object_fit": null,
       "object_position": null,
       "order": null,
       "overflow": null,
       "overflow_x": null,
       "overflow_y": null,
       "padding": null,
       "right": null,
       "top": null,
       "visibility": null,
       "width": null
      }
     },
     "5943a66140db423987a0b053e41eff3c": {
      "model_module": "@jupyter-widgets/controls",
      "model_module_version": "1.5.0",
      "model_name": "HTMLModel",
      "state": {
       "_dom_classes": [],
       "_model_module": "@jupyter-widgets/controls",
       "_model_module_version": "1.5.0",
       "_model_name": "HTMLModel",
       "_view_count": null,
       "_view_module": "@jupyter-widgets/controls",
       "_view_module_version": "1.5.0",
       "_view_name": "HTMLView",
       "description": "",
       "description_tooltip": null,
       "layout": "IPY_MODEL_2c74d46607f243369943336e0534dd0b",
       "placeholder": "​",
       "style": "IPY_MODEL_4067ee1c29fe4e79bfae69b7b6aec5c0",
       "value": "100%"
      }
     },
     "5cd1fb2862d644dabb35a9609072d332": {
      "model_module": "@jupyter-widgets/base",
      "model_module_version": "1.2.0",
      "model_name": "LayoutModel",
      "state": {
       "_model_module": "@jupyter-widgets/base",
       "_model_module_version": "1.2.0",
       "_model_name": "LayoutModel",
       "_view_count": null,
       "_view_module": "@jupyter-widgets/base",
       "_view_module_version": "1.2.0",
       "_view_name": "LayoutView",
       "align_content": null,
       "align_items": null,
       "align_self": null,
       "border": null,
       "bottom": null,
       "display": null,
       "flex": null,
       "flex_flow": null,
       "grid_area": null,
       "grid_auto_columns": null,
       "grid_auto_flow": null,
       "grid_auto_rows": null,
       "grid_column": null,
       "grid_gap": null,
       "grid_row": null,
       "grid_template_areas": null,
       "grid_template_columns": null,
       "grid_template_rows": null,
       "height": null,
       "justify_content": null,
       "justify_items": null,
       "left": null,
       "margin": null,
       "max_height": null,
       "max_width": null,
       "min_height": null,
       "min_width": null,
       "object_fit": null,
       "object_position": null,
       "order": null,
       "overflow": null,
       "overflow_x": null,
       "overflow_y": null,
       "padding": null,
       "right": null,
       "top": null,
       "visibility": null,
       "width": null
      }
     },
     "5ffdc73c28f2471e936c1cc0245ea03d": {
      "model_module": "@jupyter-widgets/base",
      "model_module_version": "1.2.0",
      "model_name": "LayoutModel",
      "state": {
       "_model_module": "@jupyter-widgets/base",
       "_model_module_version": "1.2.0",
       "_model_name": "LayoutModel",
       "_view_count": null,
       "_view_module": "@jupyter-widgets/base",
       "_view_module_version": "1.2.0",
       "_view_name": "LayoutView",
       "align_content": null,
       "align_items": null,
       "align_self": null,
       "border": null,
       "bottom": null,
       "display": null,
       "flex": null,
       "flex_flow": null,
       "grid_area": null,
       "grid_auto_columns": null,
       "grid_auto_flow": null,
       "grid_auto_rows": null,
       "grid_column": null,
       "grid_gap": null,
       "grid_row": null,
       "grid_template_areas": null,
       "grid_template_columns": null,
       "grid_template_rows": null,
       "height": null,
       "justify_content": null,
       "justify_items": null,
       "left": null,
       "margin": null,
       "max_height": null,
       "max_width": null,
       "min_height": null,
       "min_width": null,
       "object_fit": null,
       "object_position": null,
       "order": null,
       "overflow": null,
       "overflow_x": null,
       "overflow_y": null,
       "padding": null,
       "right": null,
       "top": null,
       "visibility": null,
       "width": null
      }
     },
     "614f71e94005404daa2fd97dce59a106": {
      "model_module": "@jupyter-widgets/base",
      "model_module_version": "1.2.0",
      "model_name": "LayoutModel",
      "state": {
       "_model_module": "@jupyter-widgets/base",
       "_model_module_version": "1.2.0",
       "_model_name": "LayoutModel",
       "_view_count": null,
       "_view_module": "@jupyter-widgets/base",
       "_view_module_version": "1.2.0",
       "_view_name": "LayoutView",
       "align_content": null,
       "align_items": null,
       "align_self": null,
       "border": null,
       "bottom": null,
       "display": null,
       "flex": null,
       "flex_flow": null,
       "grid_area": null,
       "grid_auto_columns": null,
       "grid_auto_flow": null,
       "grid_auto_rows": null,
       "grid_column": null,
       "grid_gap": null,
       "grid_row": null,
       "grid_template_areas": null,
       "grid_template_columns": null,
       "grid_template_rows": null,
       "height": null,
       "justify_content": null,
       "justify_items": null,
       "left": null,
       "margin": null,
       "max_height": null,
       "max_width": null,
       "min_height": null,
       "min_width": null,
       "object_fit": null,
       "object_position": null,
       "order": null,
       "overflow": null,
       "overflow_x": null,
       "overflow_y": null,
       "padding": null,
       "right": null,
       "top": null,
       "visibility": null,
       "width": null
      }
     },
     "6324535609214d739962a19c9bb2c9d9": {
      "model_module": "@jupyter-widgets/controls",
      "model_module_version": "1.5.0",
      "model_name": "HBoxModel",
      "state": {
       "_dom_classes": [],
       "_model_module": "@jupyter-widgets/controls",
       "_model_module_version": "1.5.0",
       "_model_name": "HBoxModel",
       "_view_count": null,
       "_view_module": "@jupyter-widgets/controls",
       "_view_module_version": "1.5.0",
       "_view_name": "HBoxView",
       "box_style": "",
       "children": [
        "IPY_MODEL_ff02eeb7ff44438ab6684bcbce139f66",
        "IPY_MODEL_6bfeae04b58144279acae61aad953dd1",
        "IPY_MODEL_08b961ee0f9349fb8bfe72c2a89d54fd"
       ],
       "layout": "IPY_MODEL_51ef1c7eca2345e0a406f59d33ab4834"
      }
     },
     "649e2ed865a6441fb2956ce396867e2a": {
      "model_module": "@jupyter-widgets/base",
      "model_module_version": "1.2.0",
      "model_name": "LayoutModel",
      "state": {
       "_model_module": "@jupyter-widgets/base",
       "_model_module_version": "1.2.0",
       "_model_name": "LayoutModel",
       "_view_count": null,
       "_view_module": "@jupyter-widgets/base",
       "_view_module_version": "1.2.0",
       "_view_name": "LayoutView",
       "align_content": null,
       "align_items": null,
       "align_self": null,
       "border": null,
       "bottom": null,
       "display": null,
       "flex": null,
       "flex_flow": null,
       "grid_area": null,
       "grid_auto_columns": null,
       "grid_auto_flow": null,
       "grid_auto_rows": null,
       "grid_column": null,
       "grid_gap": null,
       "grid_row": null,
       "grid_template_areas": null,
       "grid_template_columns": null,
       "grid_template_rows": null,
       "height": null,
       "justify_content": null,
       "justify_items": null,
       "left": null,
       "margin": null,
       "max_height": null,
       "max_width": null,
       "min_height": null,
       "min_width": null,
       "object_fit": null,
       "object_position": null,
       "order": null,
       "overflow": null,
       "overflow_x": null,
       "overflow_y": null,
       "padding": null,
       "right": null,
       "top": null,
       "visibility": null,
       "width": null
      }
     },
     "64eafe894d604f08b24babd3ef55c733": {
      "model_module": "@jupyter-widgets/base",
      "model_module_version": "1.2.0",
      "model_name": "LayoutModel",
      "state": {
       "_model_module": "@jupyter-widgets/base",
       "_model_module_version": "1.2.0",
       "_model_name": "LayoutModel",
       "_view_count": null,
       "_view_module": "@jupyter-widgets/base",
       "_view_module_version": "1.2.0",
       "_view_name": "LayoutView",
       "align_content": null,
       "align_items": null,
       "align_self": null,
       "border": null,
       "bottom": null,
       "display": null,
       "flex": null,
       "flex_flow": null,
       "grid_area": null,
       "grid_auto_columns": null,
       "grid_auto_flow": null,
       "grid_auto_rows": null,
       "grid_column": null,
       "grid_gap": null,
       "grid_row": null,
       "grid_template_areas": null,
       "grid_template_columns": null,
       "grid_template_rows": null,
       "height": null,
       "justify_content": null,
       "justify_items": null,
       "left": null,
       "margin": null,
       "max_height": null,
       "max_width": null,
       "min_height": null,
       "min_width": null,
       "object_fit": null,
       "object_position": null,
       "order": null,
       "overflow": null,
       "overflow_x": null,
       "overflow_y": null,
       "padding": null,
       "right": null,
       "top": null,
       "visibility": null,
       "width": null
      }
     },
     "677d6ccdc5484c9283f3a5fe62a5f9d5": {
      "model_module": "@jupyter-widgets/controls",
      "model_module_version": "1.5.0",
      "model_name": "ProgressStyleModel",
      "state": {
       "_model_module": "@jupyter-widgets/controls",
       "_model_module_version": "1.5.0",
       "_model_name": "ProgressStyleModel",
       "_view_count": null,
       "_view_module": "@jupyter-widgets/base",
       "_view_module_version": "1.2.0",
       "_view_name": "StyleView",
       "bar_color": null,
       "description_width": ""
      }
     },
     "68fc975440ba4a059daedd70b710ef68": {
      "model_module": "@jupyter-widgets/base",
      "model_module_version": "1.2.0",
      "model_name": "LayoutModel",
      "state": {
       "_model_module": "@jupyter-widgets/base",
       "_model_module_version": "1.2.0",
       "_model_name": "LayoutModel",
       "_view_count": null,
       "_view_module": "@jupyter-widgets/base",
       "_view_module_version": "1.2.0",
       "_view_name": "LayoutView",
       "align_content": null,
       "align_items": null,
       "align_self": null,
       "border": null,
       "bottom": null,
       "display": null,
       "flex": null,
       "flex_flow": null,
       "grid_area": null,
       "grid_auto_columns": null,
       "grid_auto_flow": null,
       "grid_auto_rows": null,
       "grid_column": null,
       "grid_gap": null,
       "grid_row": null,
       "grid_template_areas": null,
       "grid_template_columns": null,
       "grid_template_rows": null,
       "height": null,
       "justify_content": null,
       "justify_items": null,
       "left": null,
       "margin": null,
       "max_height": null,
       "max_width": null,
       "min_height": null,
       "min_width": null,
       "object_fit": null,
       "object_position": null,
       "order": null,
       "overflow": null,
       "overflow_x": null,
       "overflow_y": null,
       "padding": null,
       "right": null,
       "top": null,
       "visibility": null,
       "width": null
      }
     },
     "6934540050104a4d81c434e663dbbb21": {
      "model_module": "@jupyter-widgets/base",
      "model_module_version": "1.2.0",
      "model_name": "LayoutModel",
      "state": {
       "_model_module": "@jupyter-widgets/base",
       "_model_module_version": "1.2.0",
       "_model_name": "LayoutModel",
       "_view_count": null,
       "_view_module": "@jupyter-widgets/base",
       "_view_module_version": "1.2.0",
       "_view_name": "LayoutView",
       "align_content": null,
       "align_items": null,
       "align_self": null,
       "border": null,
       "bottom": null,
       "display": null,
       "flex": null,
       "flex_flow": null,
       "grid_area": null,
       "grid_auto_columns": null,
       "grid_auto_flow": null,
       "grid_auto_rows": null,
       "grid_column": null,
       "grid_gap": null,
       "grid_row": null,
       "grid_template_areas": null,
       "grid_template_columns": null,
       "grid_template_rows": null,
       "height": null,
       "justify_content": null,
       "justify_items": null,
       "left": null,
       "margin": null,
       "max_height": null,
       "max_width": null,
       "min_height": null,
       "min_width": null,
       "object_fit": null,
       "object_position": null,
       "order": null,
       "overflow": null,
       "overflow_x": null,
       "overflow_y": null,
       "padding": null,
       "right": null,
       "top": null,
       "visibility": null,
       "width": null
      }
     },
     "6a7c72dae2ef4cb38f0ecd389f49774e": {
      "model_module": "@jupyter-widgets/controls",
      "model_module_version": "1.5.0",
      "model_name": "HTMLModel",
      "state": {
       "_dom_classes": [],
       "_model_module": "@jupyter-widgets/controls",
       "_model_module_version": "1.5.0",
       "_model_name": "HTMLModel",
       "_view_count": null,
       "_view_module": "@jupyter-widgets/controls",
       "_view_module_version": "1.5.0",
       "_view_name": "HTMLView",
       "description": "",
       "description_tooltip": null,
       "layout": "IPY_MODEL_37f508479f844dbdbf368c07a4791184",
       "placeholder": "​",
       "style": "IPY_MODEL_ea4cac01a31b498e874308f9c305e987",
       "value": " 5313/5313 [45:17&lt;00:00,  2.16it/s, loss=6.7]"
      }
     },
     "6b050911309741c2b445b9375a620fda": {
      "model_module": "@jupyter-widgets/controls",
      "model_module_version": "1.5.0",
      "model_name": "HTMLModel",
      "state": {
       "_dom_classes": [],
       "_model_module": "@jupyter-widgets/controls",
       "_model_module_version": "1.5.0",
       "_model_name": "HTMLModel",
       "_view_count": null,
       "_view_module": "@jupyter-widgets/controls",
       "_view_module_version": "1.5.0",
       "_view_name": "HTMLView",
       "description": "",
       "description_tooltip": null,
       "layout": "IPY_MODEL_06fc82bdc2ec40debfbb638da3afeb1a",
       "placeholder": "​",
       "style": "IPY_MODEL_e3997de7d0c3413a9e94eeaee4bbfe56",
       "value": "100%"
      }
     },
     "6b2024267fc540f49d09f3837dd495bc": {
      "model_module": "@jupyter-widgets/controls",
      "model_module_version": "1.5.0",
      "model_name": "HBoxModel",
      "state": {
       "_dom_classes": [],
       "_model_module": "@jupyter-widgets/controls",
       "_model_module_version": "1.5.0",
       "_model_name": "HBoxModel",
       "_view_count": null,
       "_view_module": "@jupyter-widgets/controls",
       "_view_module_version": "1.5.0",
       "_view_name": "HBoxView",
       "box_style": "",
       "children": [
        "IPY_MODEL_9e263669347c4efc906ce9394a5adf75",
        "IPY_MODEL_c1e29f20a10745878d517c583a22b0d4",
        "IPY_MODEL_15a74b0ec29c438cab545442da076e09"
       ],
       "layout": "IPY_MODEL_0b7065c433ff421cb8d5495077b11421"
      }
     },
     "6bfeae04b58144279acae61aad953dd1": {
      "model_module": "@jupyter-widgets/controls",
      "model_module_version": "1.5.0",
      "model_name": "FloatProgressModel",
      "state": {
       "_dom_classes": [],
       "_model_module": "@jupyter-widgets/controls",
       "_model_module_version": "1.5.0",
       "_model_name": "FloatProgressModel",
       "_view_count": null,
       "_view_module": "@jupyter-widgets/controls",
       "_view_module_version": "1.5.0",
       "_view_name": "ProgressView",
       "bar_style": "success",
       "description": "",
       "description_tooltip": null,
       "layout": "IPY_MODEL_3cb1c4f9092a450b8f4d9b196823ea59",
       "max": 664.0,
       "min": 0.0,
       "orientation": "horizontal",
       "style": "IPY_MODEL_cb5cd4f605674bdbba40427c447da4f6",
       "value": 664.0
      }
     },
     "6d3a74aff753419080b598feee8acbea": {
      "model_module": "@jupyter-widgets/controls",
      "model_module_version": "1.5.0",
      "model_name": "FloatProgressModel",
      "state": {
       "_dom_classes": [],
       "_model_module": "@jupyter-widgets/controls",
       "_model_module_version": "1.5.0",
       "_model_name": "FloatProgressModel",
       "_view_count": null,
       "_view_module": "@jupyter-widgets/controls",
       "_view_module_version": "1.5.0",
       "_view_name": "ProgressView",
       "bar_style": "success",
       "description": "",
       "description_tooltip": null,
       "layout": "IPY_MODEL_0a32691dec374317ac7489392f0ce442",
       "max": 664.0,
       "min": 0.0,
       "orientation": "horizontal",
       "style": "IPY_MODEL_053de6ff999143688aec893acacbff06",
       "value": 664.0
      }
     },
     "6d8196e9b3774340903d626f977bbf26": {
      "model_module": "@jupyter-widgets/base",
      "model_module_version": "1.2.0",
      "model_name": "LayoutModel",
      "state": {
       "_model_module": "@jupyter-widgets/base",
       "_model_module_version": "1.2.0",
       "_model_name": "LayoutModel",
       "_view_count": null,
       "_view_module": "@jupyter-widgets/base",
       "_view_module_version": "1.2.0",
       "_view_name": "LayoutView",
       "align_content": null,
       "align_items": null,
       "align_self": null,
       "border": null,
       "bottom": null,
       "display": null,
       "flex": null,
       "flex_flow": null,
       "grid_area": null,
       "grid_auto_columns": null,
       "grid_auto_flow": null,
       "grid_auto_rows": null,
       "grid_column": null,
       "grid_gap": null,
       "grid_row": null,
       "grid_template_areas": null,
       "grid_template_columns": null,
       "grid_template_rows": null,
       "height": null,
       "justify_content": null,
       "justify_items": null,
       "left": null,
       "margin": null,
       "max_height": null,
       "max_width": null,
       "min_height": null,
       "min_width": null,
       "object_fit": null,
       "object_position": null,
       "order": null,
       "overflow": null,
       "overflow_x": null,
       "overflow_y": null,
       "padding": null,
       "right": null,
       "top": null,
       "visibility": null,
       "width": null
      }
     },
     "6ee14b47dfde4a3bb9d7d79af6ab25d0": {
      "model_module": "@jupyter-widgets/base",
      "model_module_version": "1.2.0",
      "model_name": "LayoutModel",
      "state": {
       "_model_module": "@jupyter-widgets/base",
       "_model_module_version": "1.2.0",
       "_model_name": "LayoutModel",
       "_view_count": null,
       "_view_module": "@jupyter-widgets/base",
       "_view_module_version": "1.2.0",
       "_view_name": "LayoutView",
       "align_content": null,
       "align_items": null,
       "align_self": null,
       "border": null,
       "bottom": null,
       "display": null,
       "flex": null,
       "flex_flow": null,
       "grid_area": null,
       "grid_auto_columns": null,
       "grid_auto_flow": null,
       "grid_auto_rows": null,
       "grid_column": null,
       "grid_gap": null,
       "grid_row": null,
       "grid_template_areas": null,
       "grid_template_columns": null,
       "grid_template_rows": null,
       "height": null,
       "justify_content": null,
       "justify_items": null,
       "left": null,
       "margin": null,
       "max_height": null,
       "max_width": null,
       "min_height": null,
       "min_width": null,
       "object_fit": null,
       "object_position": null,
       "order": null,
       "overflow": null,
       "overflow_x": null,
       "overflow_y": null,
       "padding": null,
       "right": null,
       "top": null,
       "visibility": null,
       "width": null
      }
     },
     "6f5846e9d63545eb933b639853e9deda": {
      "model_module": "@jupyter-widgets/base",
      "model_module_version": "1.2.0",
      "model_name": "LayoutModel",
      "state": {
       "_model_module": "@jupyter-widgets/base",
       "_model_module_version": "1.2.0",
       "_model_name": "LayoutModel",
       "_view_count": null,
       "_view_module": "@jupyter-widgets/base",
       "_view_module_version": "1.2.0",
       "_view_name": "LayoutView",
       "align_content": null,
       "align_items": null,
       "align_self": null,
       "border": null,
       "bottom": null,
       "display": null,
       "flex": null,
       "flex_flow": null,
       "grid_area": null,
       "grid_auto_columns": null,
       "grid_auto_flow": null,
       "grid_auto_rows": null,
       "grid_column": null,
       "grid_gap": null,
       "grid_row": null,
       "grid_template_areas": null,
       "grid_template_columns": null,
       "grid_template_rows": null,
       "height": null,
       "justify_content": null,
       "justify_items": null,
       "left": null,
       "margin": null,
       "max_height": null,
       "max_width": null,
       "min_height": null,
       "min_width": null,
       "object_fit": null,
       "object_position": null,
       "order": null,
       "overflow": null,
       "overflow_x": null,
       "overflow_y": null,
       "padding": null,
       "right": null,
       "top": null,
       "visibility": null,
       "width": null
      }
     },
     "6fce4c656adc4a998e83c75551a1ed1f": {
      "model_module": "@jupyter-widgets/base",
      "model_module_version": "1.2.0",
      "model_name": "LayoutModel",
      "state": {
       "_model_module": "@jupyter-widgets/base",
       "_model_module_version": "1.2.0",
       "_model_name": "LayoutModel",
       "_view_count": null,
       "_view_module": "@jupyter-widgets/base",
       "_view_module_version": "1.2.0",
       "_view_name": "LayoutView",
       "align_content": null,
       "align_items": null,
       "align_self": null,
       "border": null,
       "bottom": null,
       "display": null,
       "flex": null,
       "flex_flow": null,
       "grid_area": null,
       "grid_auto_columns": null,
       "grid_auto_flow": null,
       "grid_auto_rows": null,
       "grid_column": null,
       "grid_gap": null,
       "grid_row": null,
       "grid_template_areas": null,
       "grid_template_columns": null,
       "grid_template_rows": null,
       "height": null,
       "justify_content": null,
       "justify_items": null,
       "left": null,
       "margin": null,
       "max_height": null,
       "max_width": null,
       "min_height": null,
       "min_width": null,
       "object_fit": null,
       "object_position": null,
       "order": null,
       "overflow": null,
       "overflow_x": null,
       "overflow_y": null,
       "padding": null,
       "right": null,
       "top": null,
       "visibility": null,
       "width": null
      }
     },
     "74ab8f43f5b1445ca7d30593b882ebd6": {
      "model_module": "@jupyter-widgets/base",
      "model_module_version": "1.2.0",
      "model_name": "LayoutModel",
      "state": {
       "_model_module": "@jupyter-widgets/base",
       "_model_module_version": "1.2.0",
       "_model_name": "LayoutModel",
       "_view_count": null,
       "_view_module": "@jupyter-widgets/base",
       "_view_module_version": "1.2.0",
       "_view_name": "LayoutView",
       "align_content": null,
       "align_items": null,
       "align_self": null,
       "border": null,
       "bottom": null,
       "display": null,
       "flex": null,
       "flex_flow": null,
       "grid_area": null,
       "grid_auto_columns": null,
       "grid_auto_flow": null,
       "grid_auto_rows": null,
       "grid_column": null,
       "grid_gap": null,
       "grid_row": null,
       "grid_template_areas": null,
       "grid_template_columns": null,
       "grid_template_rows": null,
       "height": null,
       "justify_content": null,
       "justify_items": null,
       "left": null,
       "margin": null,
       "max_height": null,
       "max_width": null,
       "min_height": null,
       "min_width": null,
       "object_fit": null,
       "object_position": null,
       "order": null,
       "overflow": null,
       "overflow_x": null,
       "overflow_y": null,
       "padding": null,
       "right": null,
       "top": null,
       "visibility": null,
       "width": null
      }
     },
     "774f6a9a88144eb7ae8104f6786479a0": {
      "model_module": "@jupyter-widgets/base",
      "model_module_version": "1.2.0",
      "model_name": "LayoutModel",
      "state": {
       "_model_module": "@jupyter-widgets/base",
       "_model_module_version": "1.2.0",
       "_model_name": "LayoutModel",
       "_view_count": null,
       "_view_module": "@jupyter-widgets/base",
       "_view_module_version": "1.2.0",
       "_view_name": "LayoutView",
       "align_content": null,
       "align_items": null,
       "align_self": null,
       "border": null,
       "bottom": null,
       "display": null,
       "flex": null,
       "flex_flow": null,
       "grid_area": null,
       "grid_auto_columns": null,
       "grid_auto_flow": null,
       "grid_auto_rows": null,
       "grid_column": null,
       "grid_gap": null,
       "grid_row": null,
       "grid_template_areas": null,
       "grid_template_columns": null,
       "grid_template_rows": null,
       "height": null,
       "justify_content": null,
       "justify_items": null,
       "left": null,
       "margin": null,
       "max_height": null,
       "max_width": null,
       "min_height": null,
       "min_width": null,
       "object_fit": null,
       "object_position": null,
       "order": null,
       "overflow": null,
       "overflow_x": null,
       "overflow_y": null,
       "padding": null,
       "right": null,
       "top": null,
       "visibility": null,
       "width": null
      }
     },
     "7b59d4a4e2fa4679a666f749622954a4": {
      "model_module": "@jupyter-widgets/controls",
      "model_module_version": "1.5.0",
      "model_name": "FloatProgressModel",
      "state": {
       "_dom_classes": [],
       "_model_module": "@jupyter-widgets/controls",
       "_model_module_version": "1.5.0",
       "_model_name": "FloatProgressModel",
       "_view_count": null,
       "_view_module": "@jupyter-widgets/controls",
       "_view_module_version": "1.5.0",
       "_view_name": "ProgressView",
       "bar_style": "success",
       "description": "",
       "description_tooltip": null,
       "layout": "IPY_MODEL_6934540050104a4d81c434e663dbbb21",
       "max": 5313.0,
       "min": 0.0,
       "orientation": "horizontal",
       "style": "IPY_MODEL_49a8c40edd614caea84a837fc59785e9",
       "value": 5313.0
      }
     },
     "7cadf619aed04117a3cb50929c931408": {
      "model_module": "@jupyter-widgets/controls",
      "model_module_version": "1.5.0",
      "model_name": "HTMLModel",
      "state": {
       "_dom_classes": [],
       "_model_module": "@jupyter-widgets/controls",
       "_model_module_version": "1.5.0",
       "_model_name": "HTMLModel",
       "_view_count": null,
       "_view_module": "@jupyter-widgets/controls",
       "_view_module_version": "1.5.0",
       "_view_name": "HTMLView",
       "description": "",
       "description_tooltip": null,
       "layout": "IPY_MODEL_33d34c2429324f2e9575f4ed91aeff2a",
       "placeholder": "​",
       "style": "IPY_MODEL_a0d575efdaa14903b69f89955a0f18fd",
       "value": "100%"
      }
     },
     "7cce1ba798c243dbb737605f15306566": {
      "model_module": "@jupyter-widgets/controls",
      "model_module_version": "1.5.0",
      "model_name": "HBoxModel",
      "state": {
       "_dom_classes": [],
       "_model_module": "@jupyter-widgets/controls",
       "_model_module_version": "1.5.0",
       "_model_name": "HBoxModel",
       "_view_count": null,
       "_view_module": "@jupyter-widgets/controls",
       "_view_module_version": "1.5.0",
       "_view_name": "HBoxView",
       "box_style": "",
       "children": [
        "IPY_MODEL_5943a66140db423987a0b053e41eff3c",
        "IPY_MODEL_f0a51fcee6504530a5f6bd0782208296",
        "IPY_MODEL_f8eadd0148f443fd8e2f141180cc723a"
       ],
       "layout": "IPY_MODEL_68fc975440ba4a059daedd70b710ef68"
      }
     },
     "8059b38e503c4047b5ad17da55629cdb": {
      "model_module": "@jupyter-widgets/base",
      "model_module_version": "1.2.0",
      "model_name": "LayoutModel",
      "state": {
       "_model_module": "@jupyter-widgets/base",
       "_model_module_version": "1.2.0",
       "_model_name": "LayoutModel",
       "_view_count": null,
       "_view_module": "@jupyter-widgets/base",
       "_view_module_version": "1.2.0",
       "_view_name": "LayoutView",
       "align_content": null,
       "align_items": null,
       "align_self": null,
       "border": null,
       "bottom": null,
       "display": null,
       "flex": null,
       "flex_flow": null,
       "grid_area": null,
       "grid_auto_columns": null,
       "grid_auto_flow": null,
       "grid_auto_rows": null,
       "grid_column": null,
       "grid_gap": null,
       "grid_row": null,
       "grid_template_areas": null,
       "grid_template_columns": null,
       "grid_template_rows": null,
       "height": null,
       "justify_content": null,
       "justify_items": null,
       "left": null,
       "margin": null,
       "max_height": null,
       "max_width": null,
       "min_height": null,
       "min_width": null,
       "object_fit": null,
       "object_position": null,
       "order": null,
       "overflow": null,
       "overflow_x": null,
       "overflow_y": null,
       "padding": null,
       "right": null,
       "top": null,
       "visibility": null,
       "width": null
      }
     },
     "80d31de3c3c441228326afd1e2d5eaf3": {
      "model_module": "@jupyter-widgets/base",
      "model_module_version": "1.2.0",
      "model_name": "LayoutModel",
      "state": {
       "_model_module": "@jupyter-widgets/base",
       "_model_module_version": "1.2.0",
       "_model_name": "LayoutModel",
       "_view_count": null,
       "_view_module": "@jupyter-widgets/base",
       "_view_module_version": "1.2.0",
       "_view_name": "LayoutView",
       "align_content": null,
       "align_items": null,
       "align_self": null,
       "border": null,
       "bottom": null,
       "display": null,
       "flex": null,
       "flex_flow": null,
       "grid_area": null,
       "grid_auto_columns": null,
       "grid_auto_flow": null,
       "grid_auto_rows": null,
       "grid_column": null,
       "grid_gap": null,
       "grid_row": null,
       "grid_template_areas": null,
       "grid_template_columns": null,
       "grid_template_rows": null,
       "height": null,
       "justify_content": null,
       "justify_items": null,
       "left": null,
       "margin": null,
       "max_height": null,
       "max_width": null,
       "min_height": null,
       "min_width": null,
       "object_fit": null,
       "object_position": null,
       "order": null,
       "overflow": null,
       "overflow_x": null,
       "overflow_y": null,
       "padding": null,
       "right": null,
       "top": null,
       "visibility": null,
       "width": null
      }
     },
     "816edc786e9c4cd184c6a944e3b74517": {
      "model_module": "@jupyter-widgets/controls",
      "model_module_version": "1.5.0",
      "model_name": "ProgressStyleModel",
      "state": {
       "_model_module": "@jupyter-widgets/controls",
       "_model_module_version": "1.5.0",
       "_model_name": "ProgressStyleModel",
       "_view_count": null,
       "_view_module": "@jupyter-widgets/base",
       "_view_module_version": "1.2.0",
       "_view_name": "StyleView",
       "bar_color": null,
       "description_width": ""
      }
     },
     "84d8c115edbc40338c2089333ad0b3bb": {
      "model_module": "@jupyter-widgets/controls",
      "model_module_version": "1.5.0",
      "model_name": "FloatProgressModel",
      "state": {
       "_dom_classes": [],
       "_model_module": "@jupyter-widgets/controls",
       "_model_module_version": "1.5.0",
       "_model_name": "FloatProgressModel",
       "_view_count": null,
       "_view_module": "@jupyter-widgets/controls",
       "_view_module_version": "1.5.0",
       "_view_name": "ProgressView",
       "bar_style": "success",
       "description": "",
       "description_tooltip": null,
       "layout": "IPY_MODEL_6fce4c656adc4a998e83c75551a1ed1f",
       "max": 5313.0,
       "min": 0.0,
       "orientation": "horizontal",
       "style": "IPY_MODEL_677d6ccdc5484c9283f3a5fe62a5f9d5",
       "value": 5313.0
      }
     },
     "874345e6b66842e698edf38e5caa51cd": {
      "model_module": "@jupyter-widgets/base",
      "model_module_version": "1.2.0",
      "model_name": "LayoutModel",
      "state": {
       "_model_module": "@jupyter-widgets/base",
       "_model_module_version": "1.2.0",
       "_model_name": "LayoutModel",
       "_view_count": null,
       "_view_module": "@jupyter-widgets/base",
       "_view_module_version": "1.2.0",
       "_view_name": "LayoutView",
       "align_content": null,
       "align_items": null,
       "align_self": null,
       "border": null,
       "bottom": null,
       "display": null,
       "flex": null,
       "flex_flow": null,
       "grid_area": null,
       "grid_auto_columns": null,
       "grid_auto_flow": null,
       "grid_auto_rows": null,
       "grid_column": null,
       "grid_gap": null,
       "grid_row": null,
       "grid_template_areas": null,
       "grid_template_columns": null,
       "grid_template_rows": null,
       "height": null,
       "justify_content": null,
       "justify_items": null,
       "left": null,
       "margin": null,
       "max_height": null,
       "max_width": null,
       "min_height": null,
       "min_width": null,
       "object_fit": null,
       "object_position": null,
       "order": null,
       "overflow": null,
       "overflow_x": null,
       "overflow_y": null,
       "padding": null,
       "right": null,
       "top": null,
       "visibility": null,
       "width": null
      }
     },
     "883af5b91e5d44d8a14ec9ba8a48c413": {
      "model_module": "@jupyter-widgets/controls",
      "model_module_version": "1.5.0",
      "model_name": "HTMLModel",
      "state": {
       "_dom_classes": [],
       "_model_module": "@jupyter-widgets/controls",
       "_model_module_version": "1.5.0",
       "_model_name": "HTMLModel",
       "_view_count": null,
       "_view_module": "@jupyter-widgets/controls",
       "_view_module_version": "1.5.0",
       "_view_name": "HTMLView",
       "description": "",
       "description_tooltip": null,
       "layout": "IPY_MODEL_a8cdcb88daaf4ebd887a1bb50030b3d5",
       "placeholder": "​",
       "style": "IPY_MODEL_b050a9a595e74c9c99d3b8fd023e40bb",
       "value": " 664/664 [01:59&lt;00:00,  5.51it/s, loss=7.02]"
      }
     },
     "89c01d46fd274634be38e35c3ba3f951": {
      "model_module": "@jupyter-widgets/controls",
      "model_module_version": "1.5.0",
      "model_name": "DescriptionStyleModel",
      "state": {
       "_model_module": "@jupyter-widgets/controls",
       "_model_module_version": "1.5.0",
       "_model_name": "DescriptionStyleModel",
       "_view_count": null,
       "_view_module": "@jupyter-widgets/base",
       "_view_module_version": "1.2.0",
       "_view_name": "StyleView",
       "description_width": ""
      }
     },
     "901c30a3c80a4de7b3cd91c22dcbbb65": {
      "model_module": "@jupyter-widgets/controls",
      "model_module_version": "1.5.0",
      "model_name": "DescriptionStyleModel",
      "state": {
       "_model_module": "@jupyter-widgets/controls",
       "_model_module_version": "1.5.0",
       "_model_name": "DescriptionStyleModel",
       "_view_count": null,
       "_view_module": "@jupyter-widgets/base",
       "_view_module_version": "1.2.0",
       "_view_name": "StyleView",
       "description_width": ""
      }
     },
     "9258e43d713b4a80b4fbf05377c2e365": {
      "model_module": "@jupyter-widgets/base",
      "model_module_version": "1.2.0",
      "model_name": "LayoutModel",
      "state": {
       "_model_module": "@jupyter-widgets/base",
       "_model_module_version": "1.2.0",
       "_model_name": "LayoutModel",
       "_view_count": null,
       "_view_module": "@jupyter-widgets/base",
       "_view_module_version": "1.2.0",
       "_view_name": "LayoutView",
       "align_content": null,
       "align_items": null,
       "align_self": null,
       "border": null,
       "bottom": null,
       "display": null,
       "flex": null,
       "flex_flow": null,
       "grid_area": null,
       "grid_auto_columns": null,
       "grid_auto_flow": null,
       "grid_auto_rows": null,
       "grid_column": null,
       "grid_gap": null,
       "grid_row": null,
       "grid_template_areas": null,
       "grid_template_columns": null,
       "grid_template_rows": null,
       "height": null,
       "justify_content": null,
       "justify_items": null,
       "left": null,
       "margin": null,
       "max_height": null,
       "max_width": null,
       "min_height": null,
       "min_width": null,
       "object_fit": null,
       "object_position": null,
       "order": null,
       "overflow": null,
       "overflow_x": null,
       "overflow_y": null,
       "padding": null,
       "right": null,
       "top": null,
       "visibility": null,
       "width": null
      }
     },
     "97210fa784d448cbb412225d9299f69c": {
      "model_module": "@jupyter-widgets/controls",
      "model_module_version": "1.5.0",
      "model_name": "HBoxModel",
      "state": {
       "_dom_classes": [],
       "_model_module": "@jupyter-widgets/controls",
       "_model_module_version": "1.5.0",
       "_model_name": "HBoxModel",
       "_view_count": null,
       "_view_module": "@jupyter-widgets/controls",
       "_view_module_version": "1.5.0",
       "_view_name": "HBoxView",
       "box_style": "",
       "children": [
        "IPY_MODEL_7cadf619aed04117a3cb50929c931408",
        "IPY_MODEL_84d8c115edbc40338c2089333ad0b3bb",
        "IPY_MODEL_6a7c72dae2ef4cb38f0ecd389f49774e"
       ],
       "layout": "IPY_MODEL_80d31de3c3c441228326afd1e2d5eaf3"
      }
     },
     "9a1487e4085746378112f0cdf7f70039": {
      "model_module": "@jupyter-widgets/controls",
      "model_module_version": "1.5.0",
      "model_name": "HTMLModel",
      "state": {
       "_dom_classes": [],
       "_model_module": "@jupyter-widgets/controls",
       "_model_module_version": "1.5.0",
       "_model_name": "HTMLModel",
       "_view_count": null,
       "_view_module": "@jupyter-widgets/controls",
       "_view_module_version": "1.5.0",
       "_view_name": "HTMLView",
       "description": "",
       "description_tooltip": null,
       "layout": "IPY_MODEL_74ab8f43f5b1445ca7d30593b882ebd6",
       "placeholder": "​",
       "style": "IPY_MODEL_19561bbbc8d645c1b0e87a685a6210bb",
       "value": "100%"
      }
     },
     "9b88d59cc3204a4e894bf8503097b456": {
      "model_module": "@jupyter-widgets/controls",
      "model_module_version": "1.5.0",
      "model_name": "DescriptionStyleModel",
      "state": {
       "_model_module": "@jupyter-widgets/controls",
       "_model_module_version": "1.5.0",
       "_model_name": "DescriptionStyleModel",
       "_view_count": null,
       "_view_module": "@jupyter-widgets/base",
       "_view_module_version": "1.2.0",
       "_view_name": "StyleView",
       "description_width": ""
      }
     },
     "9cc08dad79a94b359ae88e900442fd59": {
      "model_module": "@jupyter-widgets/controls",
      "model_module_version": "1.5.0",
      "model_name": "HBoxModel",
      "state": {
       "_dom_classes": [],
       "_model_module": "@jupyter-widgets/controls",
       "_model_module_version": "1.5.0",
       "_model_name": "HBoxModel",
       "_view_count": null,
       "_view_module": "@jupyter-widgets/controls",
       "_view_module_version": "1.5.0",
       "_view_name": "HBoxView",
       "box_style": "",
       "children": [
        "IPY_MODEL_cc2f890857a84c6a9279e494242d0a08",
        "IPY_MODEL_6d3a74aff753419080b598feee8acbea",
        "IPY_MODEL_883af5b91e5d44d8a14ec9ba8a48c413"
       ],
       "layout": "IPY_MODEL_c96e01e05a734cb9b12bc2d13c348695"
      }
     },
     "9e263669347c4efc906ce9394a5adf75": {
      "model_module": "@jupyter-widgets/controls",
      "model_module_version": "1.5.0",
      "model_name": "HTMLModel",
      "state": {
       "_dom_classes": [],
       "_model_module": "@jupyter-widgets/controls",
       "_model_module_version": "1.5.0",
       "_model_name": "HTMLModel",
       "_view_count": null,
       "_view_module": "@jupyter-widgets/controls",
       "_view_module_version": "1.5.0",
       "_view_name": "HTMLView",
       "description": "",
       "description_tooltip": null,
       "layout": "IPY_MODEL_874345e6b66842e698edf38e5caa51cd",
       "placeholder": "​",
       "style": "IPY_MODEL_f19e38697e0c4309b1099bdd82a0671f",
       "value": "100%"
      }
     },
     "a0d575efdaa14903b69f89955a0f18fd": {
      "model_module": "@jupyter-widgets/controls",
      "model_module_version": "1.5.0",
      "model_name": "DescriptionStyleModel",
      "state": {
       "_model_module": "@jupyter-widgets/controls",
       "_model_module_version": "1.5.0",
       "_model_name": "DescriptionStyleModel",
       "_view_count": null,
       "_view_module": "@jupyter-widgets/base",
       "_view_module_version": "1.2.0",
       "_view_name": "StyleView",
       "description_width": ""
      }
     },
     "a1852368725346fb8db898a62ca469d7": {
      "model_module": "@jupyter-widgets/base",
      "model_module_version": "1.2.0",
      "model_name": "LayoutModel",
      "state": {
       "_model_module": "@jupyter-widgets/base",
       "_model_module_version": "1.2.0",
       "_model_name": "LayoutModel",
       "_view_count": null,
       "_view_module": "@jupyter-widgets/base",
       "_view_module_version": "1.2.0",
       "_view_name": "LayoutView",
       "align_content": null,
       "align_items": null,
       "align_self": null,
       "border": null,
       "bottom": null,
       "display": null,
       "flex": null,
       "flex_flow": null,
       "grid_area": null,
       "grid_auto_columns": null,
       "grid_auto_flow": null,
       "grid_auto_rows": null,
       "grid_column": null,
       "grid_gap": null,
       "grid_row": null,
       "grid_template_areas": null,
       "grid_template_columns": null,
       "grid_template_rows": null,
       "height": null,
       "justify_content": null,
       "justify_items": null,
       "left": null,
       "margin": null,
       "max_height": null,
       "max_width": null,
       "min_height": null,
       "min_width": null,
       "object_fit": null,
       "object_position": null,
       "order": null,
       "overflow": null,
       "overflow_x": null,
       "overflow_y": null,
       "padding": null,
       "right": null,
       "top": null,
       "visibility": null,
       "width": null
      }
     },
     "a8cdcb88daaf4ebd887a1bb50030b3d5": {
      "model_module": "@jupyter-widgets/base",
      "model_module_version": "1.2.0",
      "model_name": "LayoutModel",
      "state": {
       "_model_module": "@jupyter-widgets/base",
       "_model_module_version": "1.2.0",
       "_model_name": "LayoutModel",
       "_view_count": null,
       "_view_module": "@jupyter-widgets/base",
       "_view_module_version": "1.2.0",
       "_view_name": "LayoutView",
       "align_content": null,
       "align_items": null,
       "align_self": null,
       "border": null,
       "bottom": null,
       "display": null,
       "flex": null,
       "flex_flow": null,
       "grid_area": null,
       "grid_auto_columns": null,
       "grid_auto_flow": null,
       "grid_auto_rows": null,
       "grid_column": null,
       "grid_gap": null,
       "grid_row": null,
       "grid_template_areas": null,
       "grid_template_columns": null,
       "grid_template_rows": null,
       "height": null,
       "justify_content": null,
       "justify_items": null,
       "left": null,
       "margin": null,
       "max_height": null,
       "max_width": null,
       "min_height": null,
       "min_width": null,
       "object_fit": null,
       "object_position": null,
       "order": null,
       "overflow": null,
       "overflow_x": null,
       "overflow_y": null,
       "padding": null,
       "right": null,
       "top": null,
       "visibility": null,
       "width": null
      }
     },
     "ab85767a0c5545728f35291bb5bdd450": {
      "model_module": "@jupyter-widgets/controls",
      "model_module_version": "1.5.0",
      "model_name": "HTMLModel",
      "state": {
       "_dom_classes": [],
       "_model_module": "@jupyter-widgets/controls",
       "_model_module_version": "1.5.0",
       "_model_name": "HTMLModel",
       "_view_count": null,
       "_view_module": "@jupyter-widgets/controls",
       "_view_module_version": "1.5.0",
       "_view_name": "HTMLView",
       "description": "",
       "description_tooltip": null,
       "layout": "IPY_MODEL_8059b38e503c4047b5ad17da55629cdb",
       "placeholder": "​",
       "style": "IPY_MODEL_b36b7d6520374dedba7c743fa3e421cf",
       "value": " 5313/5313 [45:15&lt;00:00,  2.14it/s, loss=6.71]"
      }
     },
     "acec15171f2e4bb28d752484c1156333": {
      "model_module": "@jupyter-widgets/controls",
      "model_module_version": "1.5.0",
      "model_name": "HTMLModel",
      "state": {
       "_dom_classes": [],
       "_model_module": "@jupyter-widgets/controls",
       "_model_module_version": "1.5.0",
       "_model_name": "HTMLModel",
       "_view_count": null,
       "_view_module": "@jupyter-widgets/controls",
       "_view_module_version": "1.5.0",
       "_view_name": "HTMLView",
       "description": "",
       "description_tooltip": null,
       "layout": "IPY_MODEL_56658c82154e42bb92e3da9292725fc1",
       "placeholder": "​",
       "style": "IPY_MODEL_e1ad6d6dd111447aaf2c7c66d9368835",
       "value": " 664/664 [01:58&lt;00:00,  5.58it/s, loss=6.91]"
      }
     },
     "af59c3fa01274c44ace9482b96bfae90": {
      "model_module": "@jupyter-widgets/controls",
      "model_module_version": "1.5.0",
      "model_name": "FloatProgressModel",
      "state": {
       "_dom_classes": [],
       "_model_module": "@jupyter-widgets/controls",
       "_model_module_version": "1.5.0",
       "_model_name": "FloatProgressModel",
       "_view_count": null,
       "_view_module": "@jupyter-widgets/controls",
       "_view_module_version": "1.5.0",
       "_view_name": "ProgressView",
       "bar_style": "success",
       "description": "",
       "description_tooltip": null,
       "layout": "IPY_MODEL_614f71e94005404daa2fd97dce59a106",
       "max": 5313.0,
       "min": 0.0,
       "orientation": "horizontal",
       "style": "IPY_MODEL_d502fc8c66a544e5bff3c7e9a133c732",
       "value": 5313.0
      }
     },
     "b050a9a595e74c9c99d3b8fd023e40bb": {
      "model_module": "@jupyter-widgets/controls",
      "model_module_version": "1.5.0",
      "model_name": "DescriptionStyleModel",
      "state": {
       "_model_module": "@jupyter-widgets/controls",
       "_model_module_version": "1.5.0",
       "_model_name": "DescriptionStyleModel",
       "_view_count": null,
       "_view_module": "@jupyter-widgets/base",
       "_view_module_version": "1.2.0",
       "_view_name": "StyleView",
       "description_width": ""
      }
     },
     "b139ad54e5e34b3fabe25406d8bc0232": {
      "model_module": "@jupyter-widgets/controls",
      "model_module_version": "1.5.0",
      "model_name": "FloatProgressModel",
      "state": {
       "_dom_classes": [],
       "_model_module": "@jupyter-widgets/controls",
       "_model_module_version": "1.5.0",
       "_model_name": "FloatProgressModel",
       "_view_count": null,
       "_view_module": "@jupyter-widgets/controls",
       "_view_module_version": "1.5.0",
       "_view_name": "ProgressView",
       "bar_style": "success",
       "description": "",
       "description_tooltip": null,
       "layout": "IPY_MODEL_5cd1fb2862d644dabb35a9609072d332",
       "max": 664.0,
       "min": 0.0,
       "orientation": "horizontal",
       "style": "IPY_MODEL_d70d067744fa406da57cc94761223db9",
       "value": 664.0
      }
     },
     "b36b7d6520374dedba7c743fa3e421cf": {
      "model_module": "@jupyter-widgets/controls",
      "model_module_version": "1.5.0",
      "model_name": "DescriptionStyleModel",
      "state": {
       "_model_module": "@jupyter-widgets/controls",
       "_model_module_version": "1.5.0",
       "_model_name": "DescriptionStyleModel",
       "_view_count": null,
       "_view_module": "@jupyter-widgets/base",
       "_view_module_version": "1.2.0",
       "_view_name": "StyleView",
       "description_width": ""
      }
     },
     "b67cb494e5404ec4a3547cc163db7ca7": {
      "model_module": "@jupyter-widgets/base",
      "model_module_version": "1.2.0",
      "model_name": "LayoutModel",
      "state": {
       "_model_module": "@jupyter-widgets/base",
       "_model_module_version": "1.2.0",
       "_model_name": "LayoutModel",
       "_view_count": null,
       "_view_module": "@jupyter-widgets/base",
       "_view_module_version": "1.2.0",
       "_view_name": "LayoutView",
       "align_content": null,
       "align_items": null,
       "align_self": null,
       "border": null,
       "bottom": null,
       "display": null,
       "flex": null,
       "flex_flow": null,
       "grid_area": null,
       "grid_auto_columns": null,
       "grid_auto_flow": null,
       "grid_auto_rows": null,
       "grid_column": null,
       "grid_gap": null,
       "grid_row": null,
       "grid_template_areas": null,
       "grid_template_columns": null,
       "grid_template_rows": null,
       "height": null,
       "justify_content": null,
       "justify_items": null,
       "left": null,
       "margin": null,
       "max_height": null,
       "max_width": null,
       "min_height": null,
       "min_width": null,
       "object_fit": null,
       "object_position": null,
       "order": null,
       "overflow": null,
       "overflow_x": null,
       "overflow_y": null,
       "padding": null,
       "right": null,
       "top": null,
       "visibility": null,
       "width": null
      }
     },
     "b735246b951045f0bcbbf7b3a1a9b534": {
      "model_module": "@jupyter-widgets/controls",
      "model_module_version": "1.5.0",
      "model_name": "ProgressStyleModel",
      "state": {
       "_model_module": "@jupyter-widgets/controls",
       "_model_module_version": "1.5.0",
       "_model_name": "ProgressStyleModel",
       "_view_count": null,
       "_view_module": "@jupyter-widgets/base",
       "_view_module_version": "1.2.0",
       "_view_name": "StyleView",
       "bar_color": null,
       "description_width": ""
      }
     },
     "b7cdc052480949359edd2c920d47e04e": {
      "model_module": "@jupyter-widgets/controls",
      "model_module_version": "1.5.0",
      "model_name": "DescriptionStyleModel",
      "state": {
       "_model_module": "@jupyter-widgets/controls",
       "_model_module_version": "1.5.0",
       "_model_name": "DescriptionStyleModel",
       "_view_count": null,
       "_view_module": "@jupyter-widgets/base",
       "_view_module_version": "1.2.0",
       "_view_name": "StyleView",
       "description_width": ""
      }
     },
     "c0d7bafa4dbe48b7a261d50bd0fad343": {
      "model_module": "@jupyter-widgets/controls",
      "model_module_version": "1.5.0",
      "model_name": "FloatProgressModel",
      "state": {
       "_dom_classes": [],
       "_model_module": "@jupyter-widgets/controls",
       "_model_module_version": "1.5.0",
       "_model_name": "FloatProgressModel",
       "_view_count": null,
       "_view_module": "@jupyter-widgets/controls",
       "_view_module_version": "1.5.0",
       "_view_name": "ProgressView",
       "bar_style": "success",
       "description": "",
       "description_tooltip": null,
       "layout": "IPY_MODEL_4ddd4f623db647f4be2b9cdbf9feab4d",
       "max": 664.0,
       "min": 0.0,
       "orientation": "horizontal",
       "style": "IPY_MODEL_816edc786e9c4cd184c6a944e3b74517",
       "value": 664.0
      }
     },
     "c1e29f20a10745878d517c583a22b0d4": {
      "model_module": "@jupyter-widgets/controls",
      "model_module_version": "1.5.0",
      "model_name": "FloatProgressModel",
      "state": {
       "_dom_classes": [],
       "_model_module": "@jupyter-widgets/controls",
       "_model_module_version": "1.5.0",
       "_model_name": "FloatProgressModel",
       "_view_count": null,
       "_view_module": "@jupyter-widgets/controls",
       "_view_module_version": "1.5.0",
       "_view_name": "ProgressView",
       "bar_style": "success",
       "description": "",
       "description_tooltip": null,
       "layout": "IPY_MODEL_649e2ed865a6441fb2956ce396867e2a",
       "max": 665.0,
       "min": 0.0,
       "orientation": "horizontal",
       "style": "IPY_MODEL_398bed8594494077ba742747c4c70995",
       "value": 665.0
      }
     },
     "c315422a93c943b094f58d4d22a08b61": {
      "model_module": "@jupyter-widgets/controls",
      "model_module_version": "1.5.0",
      "model_name": "HBoxModel",
      "state": {
       "_dom_classes": [],
       "_model_module": "@jupyter-widgets/controls",
       "_model_module_version": "1.5.0",
       "_model_name": "HBoxModel",
       "_view_count": null,
       "_view_module": "@jupyter-widgets/controls",
       "_view_module_version": "1.5.0",
       "_view_name": "HBoxView",
       "box_style": "",
       "children": [
        "IPY_MODEL_515f2893c2914bbbbad4ba43288f634c",
        "IPY_MODEL_c78a4a871ac8481795eb619876d5c9bc",
        "IPY_MODEL_260f5f16b64e4791a0bc68e4602ae942"
       ],
       "layout": "IPY_MODEL_4775c1de713a452caf2a1f9a96b47ad5"
      }
     },
     "c78a4a871ac8481795eb619876d5c9bc": {
      "model_module": "@jupyter-widgets/controls",
      "model_module_version": "1.5.0",
      "model_name": "FloatProgressModel",
      "state": {
       "_dom_classes": [],
       "_model_module": "@jupyter-widgets/controls",
       "_model_module_version": "1.5.0",
       "_model_name": "FloatProgressModel",
       "_view_count": null,
       "_view_module": "@jupyter-widgets/controls",
       "_view_module_version": "1.5.0",
       "_view_name": "ProgressView",
       "bar_style": "success",
       "description": "",
       "description_tooltip": null,
       "layout": "IPY_MODEL_0178a36da80140c0bb2a2e1f328d7f04",
       "max": 664.0,
       "min": 0.0,
       "orientation": "horizontal",
       "style": "IPY_MODEL_4446eabbeae4443180cfd4f79a5d80bb",
       "value": 664.0
      }
     },
     "c96e01e05a734cb9b12bc2d13c348695": {
      "model_module": "@jupyter-widgets/base",
      "model_module_version": "1.2.0",
      "model_name": "LayoutModel",
      "state": {
       "_model_module": "@jupyter-widgets/base",
       "_model_module_version": "1.2.0",
       "_model_name": "LayoutModel",
       "_view_count": null,
       "_view_module": "@jupyter-widgets/base",
       "_view_module_version": "1.2.0",
       "_view_name": "LayoutView",
       "align_content": null,
       "align_items": null,
       "align_self": null,
       "border": null,
       "bottom": null,
       "display": null,
       "flex": null,
       "flex_flow": null,
       "grid_area": null,
       "grid_auto_columns": null,
       "grid_auto_flow": null,
       "grid_auto_rows": null,
       "grid_column": null,
       "grid_gap": null,
       "grid_row": null,
       "grid_template_areas": null,
       "grid_template_columns": null,
       "grid_template_rows": null,
       "height": null,
       "justify_content": null,
       "justify_items": null,
       "left": null,
       "margin": null,
       "max_height": null,
       "max_width": null,
       "min_height": null,
       "min_width": null,
       "object_fit": null,
       "object_position": null,
       "order": null,
       "overflow": null,
       "overflow_x": null,
       "overflow_y": null,
       "padding": null,
       "right": null,
       "top": null,
       "visibility": null,
       "width": null
      }
     },
     "cb5cd4f605674bdbba40427c447da4f6": {
      "model_module": "@jupyter-widgets/controls",
      "model_module_version": "1.5.0",
      "model_name": "ProgressStyleModel",
      "state": {
       "_model_module": "@jupyter-widgets/controls",
       "_model_module_version": "1.5.0",
       "_model_name": "ProgressStyleModel",
       "_view_count": null,
       "_view_module": "@jupyter-widgets/base",
       "_view_module_version": "1.2.0",
       "_view_name": "StyleView",
       "bar_color": null,
       "description_width": ""
      }
     },
     "cc2f890857a84c6a9279e494242d0a08": {
      "model_module": "@jupyter-widgets/controls",
      "model_module_version": "1.5.0",
      "model_name": "HTMLModel",
      "state": {
       "_dom_classes": [],
       "_model_module": "@jupyter-widgets/controls",
       "_model_module_version": "1.5.0",
       "_model_name": "HTMLModel",
       "_view_count": null,
       "_view_module": "@jupyter-widgets/controls",
       "_view_module_version": "1.5.0",
       "_view_name": "HTMLView",
       "description": "",
       "description_tooltip": null,
       "layout": "IPY_MODEL_46fb88f041184d3dbc350ec5d0b450e6",
       "placeholder": "​",
       "style": "IPY_MODEL_e8f4fb3bb39242af83bdd19e78731856",
       "value": "100%"
      }
     },
     "cc8a6684a7b14470a4fa5f3c7b4f3154": {
      "model_module": "@jupyter-widgets/base",
      "model_module_version": "1.2.0",
      "model_name": "LayoutModel",
      "state": {
       "_model_module": "@jupyter-widgets/base",
       "_model_module_version": "1.2.0",
       "_model_name": "LayoutModel",
       "_view_count": null,
       "_view_module": "@jupyter-widgets/base",
       "_view_module_version": "1.2.0",
       "_view_name": "LayoutView",
       "align_content": null,
       "align_items": null,
       "align_self": null,
       "border": null,
       "bottom": null,
       "display": null,
       "flex": null,
       "flex_flow": null,
       "grid_area": null,
       "grid_auto_columns": null,
       "grid_auto_flow": null,
       "grid_auto_rows": null,
       "grid_column": null,
       "grid_gap": null,
       "grid_row": null,
       "grid_template_areas": null,
       "grid_template_columns": null,
       "grid_template_rows": null,
       "height": null,
       "justify_content": null,
       "justify_items": null,
       "left": null,
       "margin": null,
       "max_height": null,
       "max_width": null,
       "min_height": null,
       "min_width": null,
       "object_fit": null,
       "object_position": null,
       "order": null,
       "overflow": null,
       "overflow_x": null,
       "overflow_y": null,
       "padding": null,
       "right": null,
       "top": null,
       "visibility": null,
       "width": null
      }
     },
     "d502fc8c66a544e5bff3c7e9a133c732": {
      "model_module": "@jupyter-widgets/controls",
      "model_module_version": "1.5.0",
      "model_name": "ProgressStyleModel",
      "state": {
       "_model_module": "@jupyter-widgets/controls",
       "_model_module_version": "1.5.0",
       "_model_name": "ProgressStyleModel",
       "_view_count": null,
       "_view_module": "@jupyter-widgets/base",
       "_view_module_version": "1.2.0",
       "_view_name": "StyleView",
       "bar_color": null,
       "description_width": ""
      }
     },
     "d70d067744fa406da57cc94761223db9": {
      "model_module": "@jupyter-widgets/controls",
      "model_module_version": "1.5.0",
      "model_name": "ProgressStyleModel",
      "state": {
       "_model_module": "@jupyter-widgets/controls",
       "_model_module_version": "1.5.0",
       "_model_name": "ProgressStyleModel",
       "_view_count": null,
       "_view_module": "@jupyter-widgets/base",
       "_view_module_version": "1.2.0",
       "_view_name": "StyleView",
       "bar_color": null,
       "description_width": ""
      }
     },
     "d766014964814f69a59f86edac3143b9": {
      "model_module": "@jupyter-widgets/controls",
      "model_module_version": "1.5.0",
      "model_name": "ProgressStyleModel",
      "state": {
       "_model_module": "@jupyter-widgets/controls",
       "_model_module_version": "1.5.0",
       "_model_name": "ProgressStyleModel",
       "_view_count": null,
       "_view_module": "@jupyter-widgets/base",
       "_view_module_version": "1.2.0",
       "_view_name": "StyleView",
       "bar_color": null,
       "description_width": ""
      }
     },
     "dc9e535024c749ccb95a553fbb4c7171": {
      "model_module": "@jupyter-widgets/base",
      "model_module_version": "1.2.0",
      "model_name": "LayoutModel",
      "state": {
       "_model_module": "@jupyter-widgets/base",
       "_model_module_version": "1.2.0",
       "_model_name": "LayoutModel",
       "_view_count": null,
       "_view_module": "@jupyter-widgets/base",
       "_view_module_version": "1.2.0",
       "_view_name": "LayoutView",
       "align_content": null,
       "align_items": null,
       "align_self": null,
       "border": null,
       "bottom": null,
       "display": null,
       "flex": null,
       "flex_flow": null,
       "grid_area": null,
       "grid_auto_columns": null,
       "grid_auto_flow": null,
       "grid_auto_rows": null,
       "grid_column": null,
       "grid_gap": null,
       "grid_row": null,
       "grid_template_areas": null,
       "grid_template_columns": null,
       "grid_template_rows": null,
       "height": null,
       "justify_content": null,
       "justify_items": null,
       "left": null,
       "margin": null,
       "max_height": null,
       "max_width": null,
       "min_height": null,
       "min_width": null,
       "object_fit": null,
       "object_position": null,
       "order": null,
       "overflow": null,
       "overflow_x": null,
       "overflow_y": null,
       "padding": null,
       "right": null,
       "top": null,
       "visibility": null,
       "width": null
      }
     },
     "e1ad6d6dd111447aaf2c7c66d9368835": {
      "model_module": "@jupyter-widgets/controls",
      "model_module_version": "1.5.0",
      "model_name": "DescriptionStyleModel",
      "state": {
       "_model_module": "@jupyter-widgets/controls",
       "_model_module_version": "1.5.0",
       "_model_name": "DescriptionStyleModel",
       "_view_count": null,
       "_view_module": "@jupyter-widgets/base",
       "_view_module_version": "1.2.0",
       "_view_name": "StyleView",
       "description_width": ""
      }
     },
     "e3997de7d0c3413a9e94eeaee4bbfe56": {
      "model_module": "@jupyter-widgets/controls",
      "model_module_version": "1.5.0",
      "model_name": "DescriptionStyleModel",
      "state": {
       "_model_module": "@jupyter-widgets/controls",
       "_model_module_version": "1.5.0",
       "_model_name": "DescriptionStyleModel",
       "_view_count": null,
       "_view_module": "@jupyter-widgets/base",
       "_view_module_version": "1.2.0",
       "_view_name": "StyleView",
       "description_width": ""
      }
     },
     "e8f4fb3bb39242af83bdd19e78731856": {
      "model_module": "@jupyter-widgets/controls",
      "model_module_version": "1.5.0",
      "model_name": "DescriptionStyleModel",
      "state": {
       "_model_module": "@jupyter-widgets/controls",
       "_model_module_version": "1.5.0",
       "_model_name": "DescriptionStyleModel",
       "_view_count": null,
       "_view_module": "@jupyter-widgets/base",
       "_view_module_version": "1.2.0",
       "_view_name": "StyleView",
       "description_width": ""
      }
     },
     "e95f44eea7464f099252fc7bd9b6fa2c": {
      "model_module": "@jupyter-widgets/base",
      "model_module_version": "1.2.0",
      "model_name": "LayoutModel",
      "state": {
       "_model_module": "@jupyter-widgets/base",
       "_model_module_version": "1.2.0",
       "_model_name": "LayoutModel",
       "_view_count": null,
       "_view_module": "@jupyter-widgets/base",
       "_view_module_version": "1.2.0",
       "_view_name": "LayoutView",
       "align_content": null,
       "align_items": null,
       "align_self": null,
       "border": null,
       "bottom": null,
       "display": null,
       "flex": null,
       "flex_flow": null,
       "grid_area": null,
       "grid_auto_columns": null,
       "grid_auto_flow": null,
       "grid_auto_rows": null,
       "grid_column": null,
       "grid_gap": null,
       "grid_row": null,
       "grid_template_areas": null,
       "grid_template_columns": null,
       "grid_template_rows": null,
       "height": null,
       "justify_content": null,
       "justify_items": null,
       "left": null,
       "margin": null,
       "max_height": null,
       "max_width": null,
       "min_height": null,
       "min_width": null,
       "object_fit": null,
       "object_position": null,
       "order": null,
       "overflow": null,
       "overflow_x": null,
       "overflow_y": null,
       "padding": null,
       "right": null,
       "top": null,
       "visibility": null,
       "width": null
      }
     },
     "ea4cac01a31b498e874308f9c305e987": {
      "model_module": "@jupyter-widgets/controls",
      "model_module_version": "1.5.0",
      "model_name": "DescriptionStyleModel",
      "state": {
       "_model_module": "@jupyter-widgets/controls",
       "_model_module_version": "1.5.0",
       "_model_name": "DescriptionStyleModel",
       "_view_count": null,
       "_view_module": "@jupyter-widgets/base",
       "_view_module_version": "1.2.0",
       "_view_name": "StyleView",
       "description_width": ""
      }
     },
     "ef8321890e004fbaac50dc3782e39c7e": {
      "model_module": "@jupyter-widgets/controls",
      "model_module_version": "1.5.0",
      "model_name": "HTMLModel",
      "state": {
       "_dom_classes": [],
       "_model_module": "@jupyter-widgets/controls",
       "_model_module_version": "1.5.0",
       "_model_name": "HTMLModel",
       "_view_count": null,
       "_view_module": "@jupyter-widgets/controls",
       "_view_module_version": "1.5.0",
       "_view_name": "HTMLView",
       "description": "",
       "description_tooltip": null,
       "layout": "IPY_MODEL_774f6a9a88144eb7ae8104f6786479a0",
       "placeholder": "​",
       "style": "IPY_MODEL_38a296c68bb940f6812ccb56a4f7ecda",
       "value": "100%"
      }
     },
     "f0a51fcee6504530a5f6bd0782208296": {
      "model_module": "@jupyter-widgets/controls",
      "model_module_version": "1.5.0",
      "model_name": "FloatProgressModel",
      "state": {
       "_dom_classes": [],
       "_model_module": "@jupyter-widgets/controls",
       "_model_module_version": "1.5.0",
       "_model_name": "FloatProgressModel",
       "_view_count": null,
       "_view_module": "@jupyter-widgets/controls",
       "_view_module_version": "1.5.0",
       "_view_name": "ProgressView",
       "bar_style": "success",
       "description": "",
       "description_tooltip": null,
       "layout": "IPY_MODEL_a1852368725346fb8db898a62ca469d7",
       "max": 5313.0,
       "min": 0.0,
       "orientation": "horizontal",
       "style": "IPY_MODEL_d766014964814f69a59f86edac3143b9",
       "value": 5313.0
      }
     },
     "f19e38697e0c4309b1099bdd82a0671f": {
      "model_module": "@jupyter-widgets/controls",
      "model_module_version": "1.5.0",
      "model_name": "DescriptionStyleModel",
      "state": {
       "_model_module": "@jupyter-widgets/controls",
       "_model_module_version": "1.5.0",
       "_model_name": "DescriptionStyleModel",
       "_view_count": null,
       "_view_module": "@jupyter-widgets/base",
       "_view_module_version": "1.2.0",
       "_view_name": "StyleView",
       "description_width": ""
      }
     },
     "f642f7da25fa4f46ba4b9dc4e8ba2429": {
      "model_module": "@jupyter-widgets/controls",
      "model_module_version": "1.5.0",
      "model_name": "HTMLModel",
      "state": {
       "_dom_classes": [],
       "_model_module": "@jupyter-widgets/controls",
       "_model_module_version": "1.5.0",
       "_model_name": "HTMLModel",
       "_view_count": null,
       "_view_module": "@jupyter-widgets/controls",
       "_view_module_version": "1.5.0",
       "_view_name": "HTMLView",
       "description": "",
       "description_tooltip": null,
       "layout": "IPY_MODEL_141249807cf749aaa06500e0589f7a6c",
       "placeholder": "​",
       "style": "IPY_MODEL_89c01d46fd274634be38e35c3ba3f951",
       "value": " 664/664 [01:59&lt;00:00,  5.52it/s, loss=7.14]"
      }
     },
     "f837e75377b64380a613a16ccce328ea": {
      "model_module": "@jupyter-widgets/controls",
      "model_module_version": "1.5.0",
      "model_name": "DescriptionStyleModel",
      "state": {
       "_model_module": "@jupyter-widgets/controls",
       "_model_module_version": "1.5.0",
       "_model_name": "DescriptionStyleModel",
       "_view_count": null,
       "_view_module": "@jupyter-widgets/base",
       "_view_module_version": "1.2.0",
       "_view_name": "StyleView",
       "description_width": ""
      }
     },
     "f8eadd0148f443fd8e2f141180cc723a": {
      "model_module": "@jupyter-widgets/controls",
      "model_module_version": "1.5.0",
      "model_name": "HTMLModel",
      "state": {
       "_dom_classes": [],
       "_model_module": "@jupyter-widgets/controls",
       "_model_module_version": "1.5.0",
       "_model_name": "HTMLModel",
       "_view_count": null,
       "_view_module": "@jupyter-widgets/controls",
       "_view_module_version": "1.5.0",
       "_view_name": "HTMLView",
       "description": "",
       "description_tooltip": null,
       "layout": "IPY_MODEL_43d51a6f2521419cbd03d177ca0a955b",
       "placeholder": "​",
       "style": "IPY_MODEL_fe57a474f83842828867eb41b9070fb3",
       "value": " 5313/5313 [45:14&lt;00:00,  2.16it/s, loss=6.72]"
      }
     },
     "fe57a474f83842828867eb41b9070fb3": {
      "model_module": "@jupyter-widgets/controls",
      "model_module_version": "1.5.0",
      "model_name": "DescriptionStyleModel",
      "state": {
       "_model_module": "@jupyter-widgets/controls",
       "_model_module_version": "1.5.0",
       "_model_name": "DescriptionStyleModel",
       "_view_count": null,
       "_view_module": "@jupyter-widgets/base",
       "_view_module_version": "1.2.0",
       "_view_name": "StyleView",
       "description_width": ""
      }
     },
     "ff02eeb7ff44438ab6684bcbce139f66": {
      "model_module": "@jupyter-widgets/controls",
      "model_module_version": "1.5.0",
      "model_name": "HTMLModel",
      "state": {
       "_dom_classes": [],
       "_model_module": "@jupyter-widgets/controls",
       "_model_module_version": "1.5.0",
       "_model_name": "HTMLModel",
       "_view_count": null,
       "_view_module": "@jupyter-widgets/controls",
       "_view_module_version": "1.5.0",
       "_view_name": "HTMLView",
       "description": "",
       "description_tooltip": null,
       "layout": "IPY_MODEL_11d947a581564debb3eb06129eb72f52",
       "placeholder": "​",
       "style": "IPY_MODEL_9b88d59cc3204a4e894bf8503097b456",
       "value": "100%"
      }
     }
    },
    "version_major": 2,
    "version_minor": 0
   }
  }
 },
 "nbformat": 4,
 "nbformat_minor": 5
}
